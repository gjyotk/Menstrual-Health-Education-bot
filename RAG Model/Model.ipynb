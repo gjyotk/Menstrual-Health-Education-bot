{
  "nbformat": 4,
  "nbformat_minor": 0,
  "metadata": {
    "colab": {
      "provenance": []
    },
    "kernelspec": {
      "name": "python3",
      "display_name": "Python 3"
    },
    "language_info": {
      "name": "python"
    }
  },
  "cells": [
    {
      "cell_type": "code",
      "execution_count": 1,
      "metadata": {
        "colab": {
          "base_uri": "https://localhost:8080/"
        },
        "id": "aMIwp7AoOAdw",
        "outputId": "938d8162-b1b7-455a-9a22-0a2c7ae17285"
      },
      "outputs": [
        {
          "output_type": "stream",
          "name": "stdout",
          "text": [
            "Requirement already satisfied: google-generativeai in /usr/local/lib/python3.10/dist-packages (0.7.2)\n",
            "Requirement already satisfied: google-ai-generativelanguage==0.6.6 in /usr/local/lib/python3.10/dist-packages (from google-generativeai) (0.6.6)\n",
            "Requirement already satisfied: google-api-core in /usr/local/lib/python3.10/dist-packages (from google-generativeai) (2.19.1)\n",
            "Requirement already satisfied: google-api-python-client in /usr/local/lib/python3.10/dist-packages (from google-generativeai) (2.137.0)\n",
            "Requirement already satisfied: google-auth>=2.15.0 in /usr/local/lib/python3.10/dist-packages (from google-generativeai) (2.27.0)\n",
            "Requirement already satisfied: protobuf in /usr/local/lib/python3.10/dist-packages (from google-generativeai) (3.20.3)\n",
            "Requirement already satisfied: pydantic in /usr/local/lib/python3.10/dist-packages (from google-generativeai) (2.8.2)\n",
            "Requirement already satisfied: tqdm in /usr/local/lib/python3.10/dist-packages (from google-generativeai) (4.66.5)\n",
            "Requirement already satisfied: typing-extensions in /usr/local/lib/python3.10/dist-packages (from google-generativeai) (4.12.2)\n",
            "Requirement already satisfied: proto-plus<2.0.0dev,>=1.22.3 in /usr/local/lib/python3.10/dist-packages (from google-ai-generativelanguage==0.6.6->google-generativeai) (1.24.0)\n",
            "Requirement already satisfied: googleapis-common-protos<2.0.dev0,>=1.56.2 in /usr/local/lib/python3.10/dist-packages (from google-api-core->google-generativeai) (1.63.2)\n",
            "Requirement already satisfied: requests<3.0.0.dev0,>=2.18.0 in /usr/local/lib/python3.10/dist-packages (from google-api-core->google-generativeai) (2.32.3)\n",
            "Requirement already satisfied: cachetools<6.0,>=2.0.0 in /usr/local/lib/python3.10/dist-packages (from google-auth>=2.15.0->google-generativeai) (5.4.0)\n",
            "Requirement already satisfied: pyasn1-modules>=0.2.1 in /usr/local/lib/python3.10/dist-packages (from google-auth>=2.15.0->google-generativeai) (0.4.0)\n",
            "Requirement already satisfied: rsa<5,>=3.1.4 in /usr/local/lib/python3.10/dist-packages (from google-auth>=2.15.0->google-generativeai) (4.9)\n",
            "Requirement already satisfied: httplib2<1.dev0,>=0.19.0 in /usr/local/lib/python3.10/dist-packages (from google-api-python-client->google-generativeai) (0.22.0)\n",
            "Requirement already satisfied: google-auth-httplib2<1.0.0,>=0.2.0 in /usr/local/lib/python3.10/dist-packages (from google-api-python-client->google-generativeai) (0.2.0)\n",
            "Requirement already satisfied: uritemplate<5,>=3.0.1 in /usr/local/lib/python3.10/dist-packages (from google-api-python-client->google-generativeai) (4.1.1)\n",
            "Requirement already satisfied: annotated-types>=0.4.0 in /usr/local/lib/python3.10/dist-packages (from pydantic->google-generativeai) (0.7.0)\n",
            "Requirement already satisfied: pydantic-core==2.20.1 in /usr/local/lib/python3.10/dist-packages (from pydantic->google-generativeai) (2.20.1)\n",
            "Requirement already satisfied: grpcio<2.0dev,>=1.33.2 in /usr/local/lib/python3.10/dist-packages (from google-api-core[grpc]!=2.0.*,!=2.1.*,!=2.10.*,!=2.2.*,!=2.3.*,!=2.4.*,!=2.5.*,!=2.6.*,!=2.7.*,!=2.8.*,!=2.9.*,<3.0.0dev,>=1.34.1->google-ai-generativelanguage==0.6.6->google-generativeai) (1.64.1)\n",
            "Requirement already satisfied: grpcio-status<2.0.dev0,>=1.33.2 in /usr/local/lib/python3.10/dist-packages (from google-api-core[grpc]!=2.0.*,!=2.1.*,!=2.10.*,!=2.2.*,!=2.3.*,!=2.4.*,!=2.5.*,!=2.6.*,!=2.7.*,!=2.8.*,!=2.9.*,<3.0.0dev,>=1.34.1->google-ai-generativelanguage==0.6.6->google-generativeai) (1.48.2)\n",
            "Requirement already satisfied: pyparsing!=3.0.0,!=3.0.1,!=3.0.2,!=3.0.3,<4,>=2.4.2 in /usr/local/lib/python3.10/dist-packages (from httplib2<1.dev0,>=0.19.0->google-api-python-client->google-generativeai) (3.1.2)\n",
            "Requirement already satisfied: pyasn1<0.7.0,>=0.4.6 in /usr/local/lib/python3.10/dist-packages (from pyasn1-modules>=0.2.1->google-auth>=2.15.0->google-generativeai) (0.6.0)\n",
            "Requirement already satisfied: charset-normalizer<4,>=2 in /usr/local/lib/python3.10/dist-packages (from requests<3.0.0.dev0,>=2.18.0->google-api-core->google-generativeai) (3.3.2)\n",
            "Requirement already satisfied: idna<4,>=2.5 in /usr/local/lib/python3.10/dist-packages (from requests<3.0.0.dev0,>=2.18.0->google-api-core->google-generativeai) (3.7)\n",
            "Requirement already satisfied: urllib3<3,>=1.21.1 in /usr/local/lib/python3.10/dist-packages (from requests<3.0.0.dev0,>=2.18.0->google-api-core->google-generativeai) (2.0.7)\n",
            "Requirement already satisfied: certifi>=2017.4.17 in /usr/local/lib/python3.10/dist-packages (from requests<3.0.0.dev0,>=2.18.0->google-api-core->google-generativeai) (2024.7.4)\n"
          ]
        }
      ],
      "source": [
        "!pip install --upgrade google-generativeai"
      ]
    },
    {
      "cell_type": "code",
      "source": [
        "import os\n",
        "import time\n",
        "import google.generativeai as genai\n",
        "from google.generativeai.types import generation_types\n",
        "from google.colab import userdata\n",
        "\n",
        "genai.configure(api_key=userdata.get('GOOGLE_API_KEY'))\n",
        "\n",
        "def upload_to_gemini(path, mime_type=None):\n",
        "  file = genai.upload_file(path, mime_type=mime_type)\n",
        "  print(f\"Uploaded file '{file.display_name}' as: {file.uri}\")\n",
        "  return file"
      ],
      "metadata": {
        "id": "QF-EXpcWOP33"
      },
      "execution_count": 2,
      "outputs": []
    },
    {
      "cell_type": "code",
      "source": [
        "def wait_for_files_active(files):\n",
        "  print(\"file processing...\")\n",
        "  for name in (file.name for file in files):\n",
        "    file = genai.get_file(name)\n",
        "    while file.state.name == \"PROCESSING\":\n",
        "      print(\".\", end=\"\", flush=True)\n",
        "      time.sleep(10)\n",
        "      file = genai.get_file(name)\n",
        "    if file.state.name != \"ACTIVE\":\n",
        "      raise Exception(f\"File {file.name} failed to process\")\n",
        "  print(\"Ready\")\n",
        "  print()"
      ],
      "metadata": {
        "id": "YC79krKbOkhs"
      },
      "execution_count": 3,
      "outputs": []
    },
    {
      "cell_type": "code",
      "source": [
        "# creating the model\n",
        "generation_config = {\n",
        "  \"temperature\": 0,\n",
        "  \"top_p\": 0.95,\n",
        "  \"top_k\": 64,\n",
        "  \"max_output_tokens\": 8192,\n",
        "  \"response_mime_type\": \"text/plain\",\n",
        "}"
      ],
      "metadata": {
        "id": "mGN6EiUGOm6J"
      },
      "execution_count": 4,
      "outputs": []
    },
    {
      "cell_type": "code",
      "source": [
        "model = genai.GenerativeModel(\n",
        "  model_name=\"gemini-1.5-flash\",\n",
        "  generation_config=generation_config,\n",
        ")\n",
        "files = [\n",
        "  upload_to_gemini(\"/content/WHRS-RAG Dataset.pdf\", mime_type=\"application/pdf\"),\n",
        "]\n",
        "\n",
        "wait_for_files_active(files)\n",
        "\n",
        "chat_session = model.start_chat(\n",
        "  history=[\n",
        "    {\n",
        "      \"role\": \"user\",\n",
        "      \"parts\": [\n",
        "        files[0],\n",
        "        \"what is menstruation and is it a bad thing?\",\n",
        "      ],\n",
        "    },\n",
        "\n",
        "  ]\n",
        ")\n",
        "\n"
      ],
      "metadata": {
        "colab": {
          "base_uri": "https://localhost:8080/",
          "height": 88
        },
        "id": "Br086n8COFIf",
        "outputId": "8dcb4304-91a3-4740-9960-e3c12f3b0caa"
      },
      "execution_count": 5,
      "outputs": [
        {
          "output_type": "stream",
          "name": "stdout",
          "text": [
            "Uploaded file 'WHRS-RAG Dataset.pdf' as: https://generativelanguage.googleapis.com/v1beta/files/1ycvohzp603g\n",
            "file processing...\n",
            "Ready\n",
            "\n"
          ]
        }
      ]
    },
    {
      "cell_type": "code",
      "source": [
        "# exception handling\n",
        "def handle_safety_exception(exception):\n",
        "    print(f\"Safety exception occurred: {exception}\")\n",
        "\n",
        "    for safety_rating in exception.response.candidates[0].safety_ratings:\n",
        "        print(f\"Category: {safety_rating.category}, Probability: {safety_rating.probability}\")\n",
        "\n",
        "    return \"Sorry, the content was flagged and could not be generated. Please try rephrasing your request.\""
      ],
      "metadata": {
        "id": "pgVp1UOmDhae"
      },
      "execution_count": 6,
      "outputs": []
    },
    {
      "cell_type": "code",
      "source": [
        "# testing\n",
        "try:\n",
        "  response = chat_session.send_message(\"what is menstruation and is it a bad thing?\")\n",
        "  print(response.text)\n",
        "except generation_types.StopCandidateException as e:\n",
        "    handle_safety_exception(e)\n",
        "\n",
        "\n"
      ],
      "metadata": {
        "colab": {
          "base_uri": "https://localhost:8080/",
          "height": 573
        },
        "id": "tPFiyd1cPGUh",
        "outputId": "882adb2e-3226-4d17-cb4c-184f702102ab"
      },
      "execution_count": 12,
      "outputs": [
        {
          "output_type": "stream",
          "name": "stdout",
          "text": [
            "Menstruation is a natural and healthy process that happens every month for most women and people assigned female at birth. It's not a bad thing at all! Here's a breakdown:\n",
            "\n",
            "**What is Menstruation?**\n",
            "\n",
            "* **Shedding of the Uterine Lining:**  Menstruation is the shedding of the lining of the uterus (womb) through the vagina. This happens if pregnancy doesn't occur.\n",
            "* **Part of the Menstrual Cycle:** It's a part of the menstrual cycle, which is a complex series of hormonal changes that prepare the body for potential pregnancy.\n",
            "* **Monthly Occurrence:**  Most women experience menstruation every 28 days or so, although it can vary.\n",
            "\n",
            "**Why is it NOT a Bad Thing?**\n",
            "\n",
            "* **Natural and Healthy:** Menstruation is a natural and healthy process that shows your reproductive system is working properly.\n",
            "* **Sign of Good Health:**  It's a sign that your body is capable of carrying a pregnancy, even if you don't choose to do so.\n",
            "* **Essential for Fertility:**  Menstruation is essential for fertility, as it allows for the release of an egg each month.\n",
            "\n",
            "**Why is there Stigma?**\n",
            "\n",
            "Unfortunately, menstruation has been surrounded by stigma and taboo for many reasons, including:\n",
            "\n",
            "* **Historical and Cultural Beliefs:**  Some cultures have viewed menstruation as unclean or shameful, leading to restrictions and isolation.\n",
            "* **Lack of Open Dialogue:**  Menstruation has often been a taboo topic, leading to a lack of accurate information and understanding.\n",
            "* **Misconceptions and Myths:**  There are many misconceptions about menstruation, which can contribute to fear and anxiety.\n",
            "\n",
            "**It's Important to Remember:**\n",
            "\n",
            "* **Menstruation is Normal:**  It's a natural and healthy part of life for many people.\n",
            "* **There's No Shame:**  There's no reason to feel ashamed or embarrassed about menstruation.\n",
            "* **Open Communication is Key:**  Talking openly about menstruation can help break down stigma and promote understanding.\n",
            "\n",
            "If you have any questions or concerns about menstruation, talk to your doctor or a trusted healthcare professional. They can provide you with accurate information and support. \n",
            "\n"
          ]
        }
      ]
    },
    {
      "cell_type": "code",
      "source": [
        "response = chat_session.send_message(\"How should I deal with PMS\")\n",
        "\n",
        "print(response.text)"
      ],
      "metadata": {
        "colab": {
          "base_uri": "https://localhost:8080/",
          "height": 519
        },
        "id": "zG-iEcL4PI14",
        "outputId": "541f4574-1eb5-4ef1-f6a3-47270de56cdc"
      },
      "execution_count": 8,
      "outputs": [
        {
          "output_type": "stream",
          "name": "stdout",
          "text": [
            "It's great that you're looking for ways to manage PMS! It's a common experience, and there are many things you can do to feel better. Here are some tips:\n",
            "\n",
            "**Lifestyle Changes:**\n",
            "\n",
            "* **Healthy Diet:** Focus on whole foods, fruits, vegetables, and lean protein. Limit processed foods, sugar, caffeine, and alcohol, which can worsen symptoms.\n",
            "* **Regular Exercise:** Aim for at least 30 minutes of moderate-intensity exercise most days of the week. It can boost mood and reduce stress.\n",
            "* **Adequate Sleep:** Aim for 7-8 hours of quality sleep each night.\n",
            "* **Stress Management:** Practice relaxation techniques like yoga, meditation, deep breathing, or spending time in nature.\n",
            "* **Hydration:** Drink plenty of water throughout the day.\n",
            "\n",
            "**Over-the-Counter Remedies:**\n",
            "\n",
            "* **Pain Relievers:** Ibuprofen or naproxen can help with cramps and headaches.\n",
            "* **Herbal Supplements:** Some herbs, like evening primrose oil or chasteberry, may help with PMS symptoms, but talk to your doctor before taking them.\n",
            "\n",
            "**Medical Treatment:**\n",
            "\n",
            "* **Hormonal Birth Control:**  This can help regulate hormones and reduce PMS symptoms.\n",
            "* **Prescription Medications:**  Your doctor may prescribe medications like antidepressants or diuretics if lifestyle changes and over-the-counter remedies aren't enough.\n",
            "\n",
            "**Important Notes:**\n",
            "\n",
            "* **Talk to Your Doctor:** If your PMS is severe or interfering with your daily life, talk to your doctor. They can help you determine the best course of treatment.\n",
            "* **Track Your Cycle:** Keep a journal to track your symptoms and when they occur. This can help you identify patterns and work with your doctor to find the best solutions.\n",
            "\n",
            "Remember, PMS is a normal part of the menstrual cycle, and there are ways to manage it. Don't hesitate to seek help if you need it. \n",
            "\n"
          ]
        }
      ]
    },
    {
      "cell_type": "code",
      "source": [
        "response = chat_session.send_message(\"what are some alternatives of pads?\")\n",
        "\n",
        "print(response.text)"
      ],
      "metadata": {
        "id": "8-XTWoEdPTeX",
        "colab": {
          "base_uri": "https://localhost:8080/",
          "height": 466
        },
        "outputId": "dfc3b01e-d881-46c0-d8fa-c2e2bdb60453"
      },
      "execution_count": 9,
      "outputs": [
        {
          "output_type": "stream",
          "name": "stdout",
          "text": [
            "Here are some alternatives to traditional sanitary pads, offering different levels of comfort, convenience, and environmental impact:\n",
            "\n",
            "**Reusable Options:**\n",
            "\n",
            "* **Menstrual Cups:** These are small, flexible cups made of medical-grade silicone that are inserted into the vagina to collect menstrual flow. They can be worn for up to 12 hours and are reusable for several years.\n",
            "* **Cloth Pads:** These are reusable pads made of absorbent fabric, often with a waterproof outer layer. They are washable and can be used for several years.\n",
            "* **Period Underwear:** These are underwear with built-in absorbent layers that can be worn like regular underwear. They are washable and reusable.\n",
            "\n",
            "**Disposable Options:**\n",
            "\n",
            "* **Tampons:** These are small, absorbent tampons that are inserted into the vagina to absorb menstrual flow. They are disposable and come in various absorbencies.\n",
            "* **Organic Cotton Pads:** These are pads made from organic cotton, which is a more sustainable and hypoallergenic option than traditional pads.\n",
            "\n",
            "**Choosing the Right Option:**\n",
            "\n",
            "The best alternative for you will depend on your individual needs and preferences. Consider factors like:\n",
            "\n",
            "* **Comfort:** Some people find menstrual cups or cloth pads more comfortable than pads or tampons.\n",
            "* **Convenience:** Tampons and pads are generally more convenient than reusable options, but reusable options can be more cost-effective in the long run.\n",
            "* **Environmental Impact:** Reusable options are more environmentally friendly than disposable options.\n",
            "* **Cost:** Reusable options can be more expensive upfront, but they can save money in the long run.\n",
            "\n",
            "It's always a good idea to talk to your doctor or a healthcare professional about the best menstrual hygiene options for you. They can help you weigh the pros and cons of different products and make the best choice for your individual needs. \n",
            "\n"
          ]
        }
      ]
    },
    {
      "cell_type": "code",
      "source": [
        "response = chat_session.send_message(\"Why is menstruation such a taboo?\")\n",
        "print(response.text)"
      ],
      "metadata": {
        "colab": {
          "base_uri": "https://localhost:8080/",
          "height": 626
        },
        "id": "VGfa35IECOnv",
        "outputId": "6074ac1a-338b-4012-f483-989f0f690f7f"
      },
      "execution_count": 10,
      "outputs": [
        {
          "output_type": "stream",
          "name": "stdout",
          "text": [
            "Menstruation being a taboo is a complex issue with roots in various cultural, historical, and societal factors. Here are some key reasons why it's often shrouded in secrecy and stigma:\n",
            "\n",
            "**1. Historical and Cultural Influences:**\n",
            "\n",
            "* **Ancient Beliefs:** Many ancient cultures viewed menstruation as unclean, impure, or even dangerous. This often led to restrictions on women's activities during their periods, isolating them from society.\n",
            "* **Religious Beliefs:** Some religions have associated menstruation with spiritual impurity or sin, leading to taboos and restrictions.\n",
            "* **Patriarchal Societies:**  Historically, patriarchal societies often viewed women's bodies and their reproductive functions as inferior or threatening, leading to the suppression of menstruation-related discussions.\n",
            "\n",
            "**2. Lack of Open Dialogue and Education:**\n",
            "\n",
            "* **Limited Information:**  For many years, menstruation was a topic rarely discussed openly, leading to a lack of accurate information and understanding. This fueled misconceptions and fear.\n",
            "* **Stigma and Shame:**  The lack of open dialogue created a culture of shame and secrecy around menstruation, making it difficult for individuals to talk about their experiences and seek help when needed.\n",
            "\n",
            "**3. Misconceptions and Myths:**\n",
            "\n",
            "* **Uncleanliness:**  Menstruation is often associated with uncleanliness, despite being a natural biological process. This misconception can lead to discrimination and social isolation.\n",
            "* **Weakness:**  Menstruation is sometimes seen as a sign of weakness or vulnerability, further contributing to negative perceptions.\n",
            "* **Fear of the Unknown:**  The lack of open discussion and accurate information can lead to fear and anxiety surrounding menstruation.\n",
            "\n",
            "**4. Gender Inequality:**\n",
            "\n",
            "* **Power Dynamics:**  Menstrual taboos often reflect and reinforce gender inequality. They can limit women's opportunities and control over their bodies.\n",
            "* **Control and Suppression:**  Menstrual taboos can be used to control women's behavior and suppress their agency.\n",
            "\n",
            "**5.  Impact on Mental Health:**\n",
            "\n",
            "* **Shame and Isolation:**  The stigma surrounding menstruation can lead to feelings of shame, embarrassment, and isolation, impacting mental health and well-being.\n",
            "* **Fear of Judgment:**  Individuals may avoid seeking help for menstrual health issues due to fear of judgment or discrimination.\n",
            "\n",
            "**Breaking the Taboo:**\n",
            "\n",
            "It's crucial to challenge menstrual taboos by promoting open dialogue, accurate information, and education. Normalizing menstruation, celebrating its naturalness, and advocating for menstrual health equity are essential steps towards creating a more inclusive and supportive society. \n",
            "\n"
          ]
        }
      ]
    },
    {
      "cell_type": "code",
      "source": [
        "response = chat_session.send_message(\"How long is a menstrual cycle in women?\")\n",
        "print(response.text)"
      ],
      "metadata": {
        "colab": {
          "base_uri": "https://localhost:8080/",
          "height": 341
        },
        "id": "M6VBCxqQDzqn",
        "outputId": "c3f1dd4a-5a7b-46a2-8a5c-10400a51a7a2"
      },
      "execution_count": 15,
      "outputs": [
        {
          "output_type": "stream",
          "name": "stdout",
          "text": [
            "The average menstrual cycle length is about **28 days**, but it can vary significantly from person to person.  \n",
            "\n",
            "Here's a breakdown:\n",
            "\n",
            "* **Normal Range:**  A cycle length between **21 and 35 days** is considered normal.\n",
            "* **Factors Affecting Length:**  Many factors can influence cycle length, including:\n",
            "    * **Age:**  Cycle length can change as you get older, especially during puberty and perimenopause.\n",
            "    * **Stress:**  High stress levels can disrupt your cycle.\n",
            "    * **Health Conditions:**  Certain medical conditions, like polycystic ovary syndrome (PCOS), can affect cycle length.\n",
            "    * **Medications:**  Some medications, like birth control pills, can regulate your cycle.\n",
            "\n",
            "**Tracking Your Cycle:**\n",
            "\n",
            "It's helpful to track your cycle to understand your individual pattern. You can use a calendar, app, or journal to record the start date of your period and the length of your cycle. This can help you identify any irregularities and discuss them with your doctor if needed. \n",
            "\n",
            "Remember, every woman's body is different, and there's no \"one size fits all\" when it comes to menstrual cycles. \n",
            "\n"
          ]
        }
      ]
    },
    {
      "cell_type": "code",
      "source": [
        "response = chat_session.send_message(\"How long does menstruation lasts in women?\")\n",
        "print(response.text)"
      ],
      "metadata": {
        "colab": {
          "base_uri": "https://localhost:8080/",
          "height": 233
        },
        "id": "AnTQ3IhQTG-z",
        "outputId": "ab580bdc-60ad-4f83-ab1f-968b3716a9c4"
      },
      "execution_count": 17,
      "outputs": [
        {
          "output_type": "stream",
          "name": "stdout",
          "text": [
            "The average length of a menstrual period (the bleeding part of the cycle) is **between 3 and 7 days**. However, it's important to remember that this is just an average, and it can vary significantly from person to person. \n",
            "\n",
            "Here are some factors that can influence the length of your period:\n",
            "\n",
            "* **Age:** Your period may be shorter or longer during puberty or perimenopause.\n",
            "* **Health Conditions:** Certain medical conditions, like fibroids or endometriosis, can cause heavier or longer periods.\n",
            "* **Stress:** High stress levels can sometimes lead to longer or heavier periods.\n",
            "* **Medications:** Some medications, like birth control pills, can affect the length and flow of your period.\n",
            "\n",
            "**What's considered \"normal\" is a broad range.** If you're concerned about the length or heaviness of your period, it's always best to talk to your doctor. They can help you determine if there's any underlying medical reason for the change and offer advice on managing your menstrual health. \n",
            "\n"
          ]
        }
      ]
    },
    {
      "cell_type": "code",
      "source": [],
      "metadata": {
        "id": "7F6OZbJgTs5l"
      },
      "execution_count": null,
      "outputs": []
    }
  ]
}