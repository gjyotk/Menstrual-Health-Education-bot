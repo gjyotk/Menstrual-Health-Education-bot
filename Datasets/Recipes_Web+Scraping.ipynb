{
  "nbformat": 4,
  "nbformat_minor": 0,
  "metadata": {
    "colab": {
      "provenance": []
    },
    "kernelspec": {
      "name": "python3",
      "display_name": "Python 3"
    },
    "language_info": {
      "name": "python"
    }
  },
  "cells": [
    {
      "cell_type": "markdown",
      "source": [
        "# Web scraping for recipes\n",
        "## Using beautiful soup library\n"
      ],
      "metadata": {
        "id": "5qlBmhJN5JLM"
      }
    },
    {
      "cell_type": "code",
      "execution_count": 3,
      "metadata": {
        "id": "AjARBR7dQ9vW"
      },
      "outputs": [],
      "source": [
        "# import libraries\n",
        "import requests\n",
        "from bs4 import BeautifulSoup"
      ]
    },
    {
      "cell_type": "code",
      "source": [
        "# url of website\n",
        "url= 'https://blog.flexfits.com/5-recipes-for-your-period/'"
      ],
      "metadata": {
        "id": "dGzTVJL7R7-d"
      },
      "execution_count": 4,
      "outputs": []
    },
    {
      "cell_type": "markdown",
      "source": [
        "##setting up user-agent"
      ],
      "metadata": {
        "id": "CUXHzUEj5T_q"
      }
    },
    {
      "cell_type": "code",
      "source": [
        "headers= { 'User-Agent': 'Mozilla/5.0 (Macintosh; Intel Mac OS X 10_14_3) AppleWebKit/537.36 (KHTML, like Gecko) Version/13.5.70 Safari/629.20.14'}"
      ],
      "metadata": {
        "id": "5H6zO0iFu4LD"
      },
      "execution_count": 5,
      "outputs": []
    },
    {
      "cell_type": "code",
      "source": [
        "r= requests.get(url, headers=headers)\n",
        "print(r.status_code)\n",
        "soup = BeautifulSoup(r.text, 'lxml')"
      ],
      "metadata": {
        "colab": {
          "base_uri": "https://localhost:8080/"
        },
        "id": "hFkOhUJ-YATx",
        "outputId": "7cee7a77-5fb9-48e2-d07a-c319b25d6896"
      },
      "execution_count": 6,
      "outputs": [
        {
          "output_type": "stream",
          "name": "stdout",
          "text": [
            "200\n"
          ]
        }
      ]
    },
    {
      "cell_type": "markdown",
      "source": [
        "##getting html of website"
      ],
      "metadata": {
        "id": "O0PeveWk5sXj"
      }
    },
    {
      "cell_type": "code",
      "source": [
        "articles= soup.find_all(class_='wp-block-column is-layout-flow wp-block-column-is-layout-flow')"
      ],
      "metadata": {
        "id": "Vi5HCNxla1OO"
      },
      "execution_count": 7,
      "outputs": []
    },
    {
      "cell_type": "code",
      "source": [
        "print(articles)"
      ],
      "metadata": {
        "colab": {
          "base_uri": "https://localhost:8080/"
        },
        "id": "PgQApdpTduLd",
        "outputId": "8fe40989-d651-4825-98c1-38258fc349b9"
      },
      "execution_count": 8,
      "outputs": [
        {
          "output_type": "stream",
          "name": "stdout",
          "text": [
            "[<div class=\"wp-block-column is-layout-flow wp-block-column-is-layout-flow\" style=\"flex-basis:100%\">\n",
            "<p>“Turns out, spinach and sweet potatoes have some pretty magical powers when it comes to period pain.”</p>\n",
            "</div>, <div class=\"wp-block-column is-layout-flow wp-block-column-is-layout-flow\">\n",
            "<h6 class=\"wp-block-heading\">IN THIS ARTICLE</h6>\n",
            "<div class=\"wp-block-columns is-layout-flex wp-container-core-columns-layout-2 wp-block-columns-is-layout-flex\">\n",
            "<div class=\"wp-block-column is-layout-flow wp-block-column-is-layout-flow\">\n",
            "<p><a href=\"#jump1\"><strong>01 /</strong> The best recipes for period cramps (that actually taste good)</a></p>\n",
            "<p><a href=\"#jump2\"><strong>02 /</strong> Cinnamon dark chocolate chip overnight oats</a></p>\n",
            "<p><a href=\"#jump3\"><strong>03 /</strong> Sheet pan pesto salmon with sweet potato &amp; broccoli rabe</a></p>\n",
            "</div>\n",
            "<div class=\"wp-block-column is-layout-flow wp-block-column-is-layout-flow\">\n",
            "<p><a href=\"#jump4\"><strong>04 /</strong> Thai ginger chicken stir fry</a></p>\n",
            "<p><a href=\"#jump5\"><strong>05 /</strong> Any-meal avocado toast</a></p>\n",
            "<p><a href=\"#jump6\"><strong>06 /</strong> Glow-up “salad in a smoothie”</a></p>\n",
            "</div>\n",
            "</div>\n",
            "</div>, <div class=\"wp-block-column is-layout-flow wp-block-column-is-layout-flow\">\n",
            "<p><a href=\"#jump1\"><strong>01 /</strong> The best recipes for period cramps (that actually taste good)</a></p>\n",
            "<p><a href=\"#jump2\"><strong>02 /</strong> Cinnamon dark chocolate chip overnight oats</a></p>\n",
            "<p><a href=\"#jump3\"><strong>03 /</strong> Sheet pan pesto salmon with sweet potato &amp; broccoli rabe</a></p>\n",
            "</div>, <div class=\"wp-block-column is-layout-flow wp-block-column-is-layout-flow\">\n",
            "<p><a href=\"#jump4\"><strong>04 /</strong> Thai ginger chicken stir fry</a></p>\n",
            "<p><a href=\"#jump5\"><strong>05 /</strong> Any-meal avocado toast</a></p>\n",
            "<p><a href=\"#jump6\"><strong>06 /</strong> Glow-up “salad in a smoothie”</a></p>\n",
            "</div>, <div class=\"wp-block-column is-layout-flow wp-block-column-is-layout-flow\" style=\"flex-basis:100%\">\n",
            "<h2 class=\"wp-block-heading\" id=\"jump1\">What to eat on your period: foods that help with period cramps (and actually taste good)</h2>\n",
            "<p>When you think about PMS or period food cravings, the first thing that comes to mind is usually cravings for chocolate – followed by salty chips, ice cream, and maybe a burger and fries, or Flaming Hot Cheetos.  </p>\n",
            "<p>Hormone fluctuations can lead to a decrease in blood sugar, creating an urge to eat sugary or carb-rich foods. This is because carbs are necessary for the production of serotonin, a chemical in the brain that promotes a feeling of well-being and happiness. <strong>Low serotonin levels may contribute to symptoms of PMS</strong>, such as premenstrual depression, fatigue, food cravings, and difficulty sleeping.</p>\n",
            "<p>It’s no wonder we crave these types of comfort foods around our period: They help distract us from painful menstrual cramps, fatigue, and the <a href=\"https://blog.flexfits.com/how-stress-affects-your-period/\" rel=\"noreferrer noopener\" target=\"_blank\">stress</a> that tends to ramp up right before period day one. Unfortunately, what we crave might not be what’s best for our bodies. Succumbing to that late-night Chick-Fil-A craving, red meat burgers, processed foods, and even spicy foods might actually leave you feeling worse.  </p>\n",
            "<p>On the flip side, <strong>many nutrient-rich foods help with </strong><a href=\"https://blog.flexfits.com/weird-ways-to-deal-with-pms-symptoms/\" rel=\"noreferrer noopener\" target=\"_blank\"><strong>cramps and Premenstrual Syndrome (PMS)</strong></a><strong>, by reducing their intensity or even making them disappear entirely.</strong> We’re not talking obscure, expensive herbs or potions – just the “boring” fruits and veggies you see lining the produce aisle of your average grocery store. Turns out, leafy greens and sweet potatoes have some pretty magical powers when it comes to reducing cramping and menstrual pain.  </p>\n",
            "<p>If you’re worried that getting the right nutrients during your period means sacrificing flavor, think again. We compiled a few Chrissy Teigen-worthy recipes of the best period comfort food that your body <em>and</em> your tastebuds will genuinely enjoy. Plus, they’re quick, easy to prepare, and can be done with limited kitchen equipment (read: even in your college dorm kitchen).  </p>\n",
            "<p>Kiss cramps, bloating, fatigue, and breakouts goodbye with these five recipes for PMS or period pain.  </p>\n",
            "<div aria-hidden=\"true\" class=\"wp-block-spacer\" style=\"height:25px\"></div>\n",
            "<h2 class=\"wp-block-heading\">The 5 best recipes for period cramps &amp; PMS</h2>\n",
            "<h3 class=\"wp-block-heading\" id=\"jump2\">1. Cinnamon dark chocolate chip overnight oats</h3>\n",
            "<p>What, did you think we wouldn’t include chocolate in at least one of these recipes? Of course we did. Even better, you get to eat it for breakfast (and it’s actually good for you). </p>\n",
            "<p>Dark chocolate is rich in magnesium: It contains 50 mg in every 1-oz serving. And studies have found that <strong>magnesium can be helpful in reducing PMS symptoms</strong>, especially mood swings and stress, which may be more common if you’re nutrient deficient.((Quaranta, S., Buscaglia, M.A., Meroni, M.G. et al. Pilot Study of the Efficacy and Safety of a Modified-Release Magnesium 250mg Tablet for the Treatment of Premenstrual Syndrome. <em>Clin. Drug Investig</em>. 27, 51–58 (2007). https://doi.org/10.2165/00044011-200727010-00004)) Magnesium may also ease headaches and curb sugar cravings.((Mauskop, A., Altura, B. T., Cracco, R. Q., &amp; Altura, B. M. (1996). Intravenous magnesium sulfate rapidly alleviates headaches of various types. <em>Headache</em>, 36(3), 154–160. https://doi.org/10.1046/j.1526-4610.1996.3603154.x)) </p>\n",
            "<p>While you can certainly get extra magnesium in supplement form, the best way for your body to absorb it is by consuming foods that are naturally magnesium-rich. So, consider dark chocolate your new PMS BFF – and for even more magnesium, add tofu, pumpkin seeds, avocados, and almonds to your diet during your period.((Magnesium-Rich Food Information. (2014, December 1). <em>Cleveland Clinic</em>. Retrieved from my.clevelandclinic.org/health/articles/15650-magnesium-rich-food)) </p>\n",
            "<figure class=\"wp-block-image size-large\"><a href=\"https://flexfits.com/products/pms-eraser-pms-gummies?_ga=2.126518861.1907397882.1694544725-921151436.1690404204\"><img alt=\"pms eraser pms gummies\" class=\"wp-image-13530 lazyload\" data-sizes=\"(max-width: 1024px) 100vw, 1024px\" data-src=\"https://blog.flexfits.com/wp-content/uploads/2023/07/230705_Blog_CTA_PMS-Eraser-1-1024x545.png\" data-srcset=\"https://blog.flexfits.com/wp-content/uploads/2023/07/230705_Blog_CTA_PMS-Eraser-1-1024x545.png 1024w, https://blog.flexfits.com/wp-content/uploads/2023/07/230705_Blog_CTA_PMS-Eraser-1-300x160.png 300w, https://blog.flexfits.com/wp-content/uploads/2023/07/230705_Blog_CTA_PMS-Eraser-1-768x409.png 768w, https://blog.flexfits.com/wp-content/uploads/2023/07/230705_Blog_CTA_PMS-Eraser-1-1536x818.png 1536w, https://blog.flexfits.com/wp-content/uploads/2023/07/230705_Blog_CTA_PMS-Eraser-1.png 2000w\" decoding=\"async\" fetchpriority=\"high\" height=\"545\" src=\"data:image/gif;base64,R0lGODlhAQABAAAAACH5BAEKAAEALAAAAAABAAEAAAICTAEAOw==\" width=\"1024\"/><noscript><img alt=\"pms eraser pms gummies\" class=\"wp-image-13530\" decoding=\"async\" fetchpriority=\"high\" height=\"545\" sizes=\"(max-width: 1024px) 100vw, 1024px\" src=\"https://blog.flexfits.com/wp-content/uploads/2023/07/230705_Blog_CTA_PMS-Eraser-1-1024x545.png\" srcset=\"https://blog.flexfits.com/wp-content/uploads/2023/07/230705_Blog_CTA_PMS-Eraser-1-1024x545.png 1024w, https://blog.flexfits.com/wp-content/uploads/2023/07/230705_Blog_CTA_PMS-Eraser-1-300x160.png 300w, https://blog.flexfits.com/wp-content/uploads/2023/07/230705_Blog_CTA_PMS-Eraser-1-768x409.png 768w, https://blog.flexfits.com/wp-content/uploads/2023/07/230705_Blog_CTA_PMS-Eraser-1-1536x818.png 1536w, https://blog.flexfits.com/wp-content/uploads/2023/07/230705_Blog_CTA_PMS-Eraser-1.png 2000w\" width=\"1024\"/></noscript></a></figure>\n",
            "<p>Other helpful ingredients in this overnight oats recipe include cinnamon, which has also been shown to improve pain, nausea, and vomiting associated with primary dysmenorrhea,<sup><a class=\"footnote-link footnote-identifier-link\" href=\"#footnote_0_5024\" id=\"identifier_0_5024\" title=\"Jaafarpour, M., Hatefi, M., Najafi, F., Khajavikhan, J., &amp; Khani, A. (2015). The effect of cinnamon on menstrual bleeding and systemic symptoms with primary dysmenorrhea. Iranian Red Crescent medical journal, 17(4), e27032. https://doi.org/10.5812/ircmj.17(4)2015.27032\">1</a></sup> chia seeds, which contain omega-3 fatty acids, and Greek yogurt, which contains probiotics that can help with bloating and digestive discomfort.((Bertazzoni Minelli, E., Benini, A., Vicentini, L., Andreoli, E., Oselladore, M., &amp; Cerutti, R. (1996). Effect of lactobacillus acidophilus and Bifidobacterium bifidum administration on colonic microbiota and its metabolic activity in premenstrual syndrome. <em>Microbial Ecology in Health and Disease</em>, 9(6), 247-260. https://doi.org/10.3109/08910609609166465)) Oh, and the bananas have magnesium, too!  </p>\n",
            "<h4 class=\"wp-block-heading\">Ingredients:</h4>\n",
            "<ul>\n",
            "<li>½ cup rolled oats (Old Fashioned, not Instant)</li>\n",
            "<li>½ cup almond milk (or cow’s milk, oat milk, soy milk – whatever milk you’re loyal to) </li>\n",
            "<li>1-2 tbsp pure maple syrup (the real kind, please) or honey</li>\n",
            "<li>½ tsp cinnamon</li>\n",
            "<li>½ tsp unsweetened cocoa powder</li>\n",
            "<li>2 tbsp dark chocolate chips </li>\n",
            "<li>⅓ cup plain Greek yogurt </li>\n",
            "<li>¼ tsp vanilla extract (optional)</li>\n",
            "<li>1 tsp chia seeds (optional) </li>\n",
            "<li>1 banana (optional)</li>\n",
            "</ul>\n",
            "<h4 class=\"wp-block-heading\">Instructions:</h4>\n",
            "<ol>\n",
            "<li>The night before: Mix all the ingredients EXCEPT the banana in a bowl or mason jar, preferably one with a lid. </li>\n",
            "<li>Place the covered bowl or mason jar in the refrigerator overnight (or for at least 6 hours). </li>\n",
            "<li>The morning of: Grab a banana, slice ‘er up any way you like, and place it on top of your oats. Enjoy!</li>\n",
            "</ol>\n",
            "<div aria-hidden=\"true\" class=\"wp-block-spacer\" style=\"height:25px\"></div>\n",
            "<h3 class=\"wp-block-heading\" id=\"jump3\">2. Sheet pan pesto salmon with roasted sweet potato &amp; broccoli rabe</h3>\n",
            "<p>When you have your period and you’re totally wiped out, it’s hard to get up the motivation to cook dinner. Make it as easy as possible for yourself with this single-sheet pan dinner.</p>\n",
            "<p>You’ll have plenty of leftover pesto, too, to use up later in the week for pasta or a salad. The powerhouse ingredients will make you feel amazing any day of the month, but they’re especially helpful when you’re on your period. Here’s why: </p>\n",
            "<p>First, salmon is rich in omega-3 fatty acids,((Omega-3-rich foods: Good for your heart. (2013, November 1). <em>Harvard Health</em>. Retrieved from health.harvard.edu/heart-health/omega-3-rich-foods-good-for-your-heart)) which are beneficial for so many different aspects of your health. In terms of period pain, <strong>omega-3s have been shown to reduce both the mental symptoms of PMS (like depression, nervousness, anxiety, and lack of concentration) and the physical symptoms (like bloating, headache, and breast tenderness).</strong>((Sohrabi, N., Kashanian, M., Ghafoori, S. S., &amp; Malakouti, S. K. (2013). Evaluation of the effect of omega-3 fatty acids in the treatment of premenstrual syndrome: “a pilot trial”. <em>Complementary therapies in medicine</em>, 21(3), 141–146. https://doi.org/10.1016/j.ctim.2012.12.008)) </p>\n",
            "<p>Salmon has 1,900 mg of omega-3s per 3 oz serving – and the walnuts in the pesto pack a punch, too, with 2,570 mg per ounce.((Hjalmarsdottir, F. (2019, September 30). 12 Foods That Are Very High in Omega-3. <em>Healthline</em>. Retrieved from healthline.com/nutrition/12-omega-3-rich-foods)) The sweet potato offers complex carbohydrates (the good ones!) and lots of Vitamin B6, which has also been studied for its PMS-relieving effects,((Fathizadeh, N., Ebrahimi, E., Valiani, M., Tavakoli, N., &amp; Yar, M. H. (2010). Evaluating the effect of magnesium and magnesium plus vitamin B6 supplement on the severity of premenstrual syndrome. <em>Iranian journal of nursing and midwifery research</em>, 15(Suppl 1), 401–405.)) plus Vitamin C for an immune system boost. </p>\n",
            "<figure class=\"wp-block-image size-large\"><a href=\"https://flexfits.com/products/chill-pill-stress-gummies?_ga=2.84438873.1907397882.1694544725-921151436.1690404204\"><img alt=\"chill pill stress supplement\" class=\"wp-image-13527 lazyload\" data-sizes=\"(max-width: 1024px) 100vw, 1024px\" data-src=\"https://blog.flexfits.com/wp-content/uploads/2023/07/230705_Blog_CTA_Chill-Pill-1-1024x545.png\" data-srcset=\"https://blog.flexfits.com/wp-content/uploads/2023/07/230705_Blog_CTA_Chill-Pill-1-1024x545.png 1024w, https://blog.flexfits.com/wp-content/uploads/2023/07/230705_Blog_CTA_Chill-Pill-1-300x160.png 300w, https://blog.flexfits.com/wp-content/uploads/2023/07/230705_Blog_CTA_Chill-Pill-1-768x409.png 768w, https://blog.flexfits.com/wp-content/uploads/2023/07/230705_Blog_CTA_Chill-Pill-1-1536x818.png 1536w, https://blog.flexfits.com/wp-content/uploads/2023/07/230705_Blog_CTA_Chill-Pill-1.png 2000w\" decoding=\"async\" height=\"545\" src=\"data:image/gif;base64,R0lGODlhAQABAAAAACH5BAEKAAEALAAAAAABAAEAAAICTAEAOw==\" width=\"1024\"/><noscript><img alt=\"chill pill stress supplement\" class=\"wp-image-13527\" decoding=\"async\" height=\"545\" sizes=\"(max-width: 1024px) 100vw, 1024px\" src=\"https://blog.flexfits.com/wp-content/uploads/2023/07/230705_Blog_CTA_Chill-Pill-1-1024x545.png\" srcset=\"https://blog.flexfits.com/wp-content/uploads/2023/07/230705_Blog_CTA_Chill-Pill-1-1024x545.png 1024w, https://blog.flexfits.com/wp-content/uploads/2023/07/230705_Blog_CTA_Chill-Pill-1-300x160.png 300w, https://blog.flexfits.com/wp-content/uploads/2023/07/230705_Blog_CTA_Chill-Pill-1-768x409.png 768w, https://blog.flexfits.com/wp-content/uploads/2023/07/230705_Blog_CTA_Chill-Pill-1-1536x818.png 1536w, https://blog.flexfits.com/wp-content/uploads/2023/07/230705_Blog_CTA_Chill-Pill-1.png 2000w\" width=\"1024\"/></noscript></a></figure>\n",
            "<p>Finally, the broccoli rabe contains 100 mg of calcium in a 2/3rds-cup serving.((14 Non-Dairy Foods That Are High in Calcium. (2014, September 7). <em>Time</em>. Retrieved from time.com/3265401/14-high-calcium-foods/)) Calcium has been fairly extensively studied in correlation with premenstrual symptoms, and there’s a strong indication that high calcium intake reduces the risk of PMS.((Bertone-Johnson, E. R., Hankinson, S. E., Bendich, A., Johnson, S. R., Willett, W. C., &amp; Manson, J. E. (2005). Calcium and vitamin D intake and risk of incident premenstrual syndrome. <em>Archives of internal medicine</em>, 165(11), 1246–1252. https://doi.org/10.1001/archinte.165.11.1246))</p>\n",
            "<figure class=\"wp-block-image size-large\"><img alt=\"sheet pan pesto salmon \" class=\"wp-image-5043 lazyload\" data-sizes=\"(max-width: 1024px) 100vw, 1024px\" data-src=\"https://blog.flexfits.com/wp-content/uploads/2020/11/Salmon-1024x545.jpg\" data-srcset=\"https://blog.flexfits.com/wp-content/uploads/2020/11/Salmon-1024x545.jpg 1024w, https://blog.flexfits.com/wp-content/uploads/2020/11/Salmon-300x160.jpg 300w, https://blog.flexfits.com/wp-content/uploads/2020/11/Salmon-768x409.jpg 768w, https://blog.flexfits.com/wp-content/uploads/2020/11/Salmon.jpg 1200w\" decoding=\"async\" height=\"545\" src=\"data:image/gif;base64,R0lGODlhAQABAAAAACH5BAEKAAEALAAAAAABAAEAAAICTAEAOw==\" width=\"1024\"/><noscript><img alt=\"sheet pan pesto salmon \" class=\"wp-image-5043\" decoding=\"async\" height=\"545\" sizes=\"(max-width: 1024px) 100vw, 1024px\" src=\"https://blog.flexfits.com/wp-content/uploads/2020/11/Salmon-1024x545.jpg\" srcset=\"https://blog.flexfits.com/wp-content/uploads/2020/11/Salmon-1024x545.jpg 1024w, https://blog.flexfits.com/wp-content/uploads/2020/11/Salmon-300x160.jpg 300w, https://blog.flexfits.com/wp-content/uploads/2020/11/Salmon-768x409.jpg 768w, https://blog.flexfits.com/wp-content/uploads/2020/11/Salmon.jpg 1200w\" width=\"1024\"/></noscript></figure>\n",
            "<h4 class=\"wp-block-heading\">Ingredients:</h4>\n",
            "<ul>\n",
            "<li>2 (6oz.) salmon fillets (wild-caught is our favorite if you can find it)</li>\n",
            "<li>1 cup broccoli rabe, trimmed with tough stems removed</li>\n",
            "<li>1 ½ sweet potatoes, cubed</li>\n",
            "<li>½ tsp smoked paprika</li>\n",
            "<li>1 tbsp extra virgin olive oil</li>\n",
            "<li>Salt and pepper, to taste</li>\n",
            "<li>1 lemon, sliced into wedges</li>\n",
            "</ul>\n",
            "<p><em>For the pesto: </em></p>\n",
            "<ul>\n",
            "<li>1/3 cup walnuts</li>\n",
            "<li>2 large garlic cloves, roughly chopped</li>\n",
            "<li>2 cups gently packed *fresh* basil leaves</li>\n",
            "<li>1/2 teaspoon salt</li>\n",
            "<li>1/4 teaspoon ground black pepper</li>\n",
            "<li>2/3 cup extra virgin olive oil</li>\n",
            "<li>1/2 cup grated parmesan cheese</li>\n",
            "</ul>\n",
            "<h4 class=\"wp-block-heading\">Instructions:</h4>\n",
            "<ol>\n",
            "<li>Preheat the oven to 400° F.</li>\n",
            "<li>Spray a large sheet pan with non-stick spray or cover with parchment paper.</li>\n",
            "<li>Make the pesto: Place the walnuts and garlic in a food processor and pulse until chopped. Add the basil, salt, and pepper, and pulse until the mixture looks like a thick paste. Then, with the food processor running, add your olive oil in a steady stream until fully incorporated. Add the parmesan and pulse 30 seconds more. Store in a mason jar for up to a week in the fridge. </li>\n",
            "<li>Toss cubed sweet potatoes in a bowl with ½ tablespoon of olive oil, salt, and smoked paprika. Spread on one side of the sheet pan in an even layer. </li>\n",
            "<li>Place sweet potatoes in the oven for 15 minutes until partially cooked. Remove the pan from the oven, flip the sweet potatoes. </li>\n",
            "<li>Toss broccoli rabe with the other ½ tablespoon of olive oil, salt and pepper and spread on the other side of the sheet pan, leaving enough room for your salmon fillets. </li>\n",
            "<li>Place salmon fillets in the middle of the sheet pan and top each with a heaping spoonful of your homemade pesto so it covers each fillet. Place 1 lemon wedge on each fillet. </li>\n",
            "<li>Place the sheet pan back in the oven and bake for 15 minutes (you may need to leave the salmon in a couple of minutes longer depending on thickness). </li>\n",
            "</ol>\n",
            "<figure class=\"wp-block-image size-full\"><a href=\"https://flexfits.com/products/flex-reusable-disc?_ga=2.65803182.1219824736.1694137085-531229269.1689781115\"><img alt=\"flex reusable menstrual disc\" class=\"wp-image-13582 lazyload\" data-sizes=\"(max-width: 1024px) 100vw, 1024px\" data-src=\"https://blog.flexfits.com/wp-content/uploads/2023/08/image-1.png\" data-srcset=\"https://blog.flexfits.com/wp-content/uploads/2023/08/image-1.png 1024w, https://blog.flexfits.com/wp-content/uploads/2023/08/image-1-300x160.png 300w, https://blog.flexfits.com/wp-content/uploads/2023/08/image-1-768x409.png 768w\" decoding=\"async\" height=\"545\" src=\"data:image/gif;base64,R0lGODlhAQABAAAAACH5BAEKAAEALAAAAAABAAEAAAICTAEAOw==\" width=\"1024\"/><noscript><img alt=\"flex reusable menstrual disc\" class=\"wp-image-13582\" decoding=\"async\" height=\"545\" sizes=\"(max-width: 1024px) 100vw, 1024px\" src=\"https://blog.flexfits.com/wp-content/uploads/2023/08/image-1.png\" srcset=\"https://blog.flexfits.com/wp-content/uploads/2023/08/image-1.png 1024w, https://blog.flexfits.com/wp-content/uploads/2023/08/image-1-300x160.png 300w, https://blog.flexfits.com/wp-content/uploads/2023/08/image-1-768x409.png 768w\" width=\"1024\"/></noscript></a></figure>\n",
            "<div aria-hidden=\"true\" class=\"wp-block-spacer\" style=\"height:25px\"></div>\n",
            "<h3 class=\"wp-block-heading\" id=\"jump4\">3. Thai ginger chicken stir fry</h3>\n",
            "<p>If your usual habit is ordering takeout during your period from the local Chinese or Thai hole in the wall, you may be surprised by how easily you can recreate your favorite meals at home – but way healthier and, TBH, better tasting. This simple recipe is ready in under 30 minutes and is almost impossible to mess up.  </p>\n",
            "<p>How will it help your period, though? Well, for starters, the plentiful <strong>fresh ginger may significantly reduce period pain</strong>, a.k.a. dysmenorrhea: One 2012 study found that ginger “may be an effective and safe therapy for relieving pain in women with primary dysmenorrhea if administered at the onset or during the 3 days prior to menstruation.”((Rahnama, P., Montazeri, A., Huseini, H. F., Kianbakht, S., &amp; Naseri, M. (2012). Effect of Zingiber officinale R. rhizomes (ginger) on pain relief in primary dysmenorrhea: a placebo randomized trial. <em>BMC complementary and alternative medicine</em>, 12, 92. https://doi.org/10.1186/1472-6882-12-92)) Plus, ginger has long been used to remedy an upset stomach – and it just tastes good, so don’t skimp!</p>\n",
            "<p>Then you have baby bok choy, which contains loads of PMS-busting calcium (see above for the benefits of calcium for period pain) and is a great source of vitamin A, vitamin C, and potassium.((14 Non-Dairy Foods That Are High in Calcium. (2014, September 7). <em>Time</em>. Retrieved from time.com/3265401/14-high-calcium-foods/)) The shiitake mushrooms may have an anti-inflammatory effect, too.((Finimundy, T. C., Dillon, A. J., Henriques, J. A., &amp; Ely, M. R. (2014). A review on general nutritional compounds and pharmacological properties the Lentinula edodes Mushroom. <em>Food and Nutrition Sciences</em>, 05(12), 1095-1105. https://doi.org/10.4236/fns.2014.512119))</p>\n",
            "<h4 class=\"wp-block-heading\">Ingredients: </h4>\n",
            "<ul>\n",
            "<li>1 lb boneless, skinless chicken breast, cut into strips or bite-sized pieces</li>\n",
            "<li>2 tablespoons avocado oil</li>\n",
            "<li>3 cloves garlic, minced</li>\n",
            "<li>1 tablespoon fish sauce</li>\n",
            "<li>1 tablespoon soy sauce (or coconut aminos)</li>\n",
            "<li>2 tablespoons oyster sauce</li>\n",
            "<li>1 tablespoon honey</li>\n",
            "<li>1 tsp sriracha sauce (optional)</li>\n",
            "<li>½ cup fresh ginger, cut into matchsticks</li>\n",
            "<li>1 red bell pepper, cut into strips</li>\n",
            "<li>2 cups baby bok choy leaves, cleaned with ends trimmed</li>\n",
            "<li>¾ cup sliced shiitake mushrooms</li>\n",
            "<li>Salt and pepper to taste</li>\n",
            "<li>2 tablespoons fresh basil leaves or cilantro (optional)</li>\n",
            "<li>1 cup cooked brown rice</li>\n",
            "</ul>\n",
            "<h4 class=\"wp-block-heading\">Instructions:</h4>\n",
            "<ol>\n",
            "<li>Stir the fish sauce, soy sauce, oyster sauce, sriracha sauce, garlic, and honey in a small bowl until combined. </li>\n",
            "<li>Heat the avocado oil in a large frying pan or wok over medium-high heat. </li>\n",
            "<li>Season the chicken breast pieces with salt and pepper, then transfer to the pan and cook, stirring occasionally, until browned on all sides and nearly cooked through. </li>\n",
            "<li>Add the mushrooms, bell pepper, and ginger to the pan and stir fry for another 2 minutes. Then, turn the heat up to high and pour in the sauce, stirring right away (it should sizzle). Let the sauce thicken for a minute or so, then lower the heat and continue to cook on medium for another 2-3 minutes, or until chicken is cooked through. Add the bok choy leaves and stir gently, allowing them to wilt down slightly. </li>\n",
            "<li>Divide the rice between two bowls, top each bowl with stir fry, and garnish with basil or cilantro.</li>\n",
            "</ol>\n",
            "<div aria-hidden=\"true\" class=\"wp-block-spacer\" style=\"height:25px\"></div>\n",
            "<h3 class=\"wp-block-heading\" id=\"jump5\">4. Any-meal avocado toast</h3>\n",
            "<p>The avocado is pretty much the queen of health foods – it adds an amazing dimension of flavor and texture to just about any savory meal, whether breakfast, lunch, or dinner, and even tastes great on its own with a simple slice of bread. We can do better than bland ‘cado toast, though: This recipe makes a meal out of what might otherwise be considered a snack, and it has the perfect balance of salt, spice, crunch, and lemony pizzazz.  </p>\n",
            "<p>Why is it good for your period? Well, <strong>avocados have tons of magnesium, plus iron and potassium</strong>. The magnesium (as mentioned in the Overnight Oats recipe) can help with mood swings, stress, and the emotional burnout we often feel during our period.((Quaranta, S., Buscaglia, M.A., Meroni, M.G. et al. Pilot Study of the Efficacy and Safety of a Modified-Release Magnesium 250mg Tablet for the Treatment of Premenstrual Syndrome. <em>Clin. Drug Investig</em>. 27, 51–58 (2007). https://doi.org/10.2165/00044011-200727010-00004)) </p>\n",
            "<p>The iron is great if you experience especially heavy periods: The more blood you shed, the more prone you are to anemia (or an iron deficiency).((Peuranpää, P., Heliövaara‐Peippo, S., Fraser, I., Paavonen, J., &amp; Hurskainen, R. (2014). Effects of anemia and iron deficiency on quality of life in women with heavy menstrual bleeding. <em>Acta Obstet Gynecol Scand</em>, 93, 654-660. https://doi.org/10.1111/aogs.12394)) The pumpkin seeds have TONS of iron, too, so you’re pretty much fully covered in that department.  </p>\n",
            "<p>For added protein, top your toast with a fried or poached egg: You’ll benefit from the Vitamin D, which helps your body absorb the much-needed, PMS-fighting calcium found in other foods. Bonus points for multigrain bread made with flax seeds, which contain omega-3 fatty acids.  </p>\n",
            "<h4 class=\"wp-block-heading\">Ingredients: </h4>\n",
            "<ul>\n",
            "<li>1 avocado, quartered and then thinly sliced</li>\n",
            "<li>2 small slices or one large slice multi-seed or multigrain + flax seed bread, toasted</li>\n",
            "<li>½ lemon</li>\n",
            "<li>1 small radish, thinly sliced</li>\n",
            "<li>2 tbsp roasted pumpkin seeds (salted or unsalted)</li>\n",
            "<li>¼ tsp smoked paprika</li>\n",
            "<li>½ tsp everything bagel seasoning</li>\n",
            "<li>Salt and pepper to taste</li>\n",
            "<li>1 tsp extra virgin olive oil </li>\n",
            "<li>1 egg (optional)</li>\n",
            "</ul>\n",
            "<h4 class=\"wp-block-heading\">Instructions:</h4>\n",
            "<ol>\n",
            "<li>Arrange the avocado slices on your toasted bread in an even layer.</li>\n",
            "<li>Arrange the radish slices on top of the avocado.</li>\n",
            "<li>Squeeze a bit of lemon juice over both slices (or your single slice).</li>\n",
            "<li>Sprinkle on the pumpkin seeds, paprika, everything bagel seasoning, salt, and pepper.</li>\n",
            "<li>Add a drizzle of olive oil, if desired. </li>\n",
            "<li>Want to make it a more filling meal? Fry or poach your egg and put that on top, too!</li>\n",
            "</ol>\n",
            "<div aria-hidden=\"true\" class=\"wp-block-spacer\" style=\"height:25px\"></div>\n",
            "<figure class=\"wp-block-image size-large\"><a href=\"https://flexfits.com/products/flex-cup-starter-kit\"><img alt=\"period care essentials\" class=\"wp-image-13116 lazyload\" data-sizes=\"(max-width: 1024px) 100vw, 1024px\" data-src=\"https://blog.flexfits.com/wp-content/uploads/2022/11/221108_blog_blogbuttons_04-1024x545.png\" data-srcset=\"https://blog.flexfits.com/wp-content/uploads/2022/11/221108_blog_blogbuttons_04-1024x545.png 1024w, https://blog.flexfits.com/wp-content/uploads/2022/11/221108_blog_blogbuttons_04-300x160.png 300w, https://blog.flexfits.com/wp-content/uploads/2022/11/221108_blog_blogbuttons_04-768x409.png 768w, https://blog.flexfits.com/wp-content/uploads/2022/11/221108_blog_blogbuttons_04-1536x818.png 1536w, https://blog.flexfits.com/wp-content/uploads/2022/11/221108_blog_blogbuttons_04.png 2000w\" decoding=\"async\" height=\"545\" src=\"data:image/gif;base64,R0lGODlhAQABAAAAACH5BAEKAAEALAAAAAABAAEAAAICTAEAOw==\" width=\"1024\"/><noscript><img alt=\"period care essentials\" class=\"wp-image-13116\" decoding=\"async\" height=\"545\" sizes=\"(max-width: 1024px) 100vw, 1024px\" src=\"https://blog.flexfits.com/wp-content/uploads/2022/11/221108_blog_blogbuttons_04-1024x545.png\" srcset=\"https://blog.flexfits.com/wp-content/uploads/2022/11/221108_blog_blogbuttons_04-1024x545.png 1024w, https://blog.flexfits.com/wp-content/uploads/2022/11/221108_blog_blogbuttons_04-300x160.png 300w, https://blog.flexfits.com/wp-content/uploads/2022/11/221108_blog_blogbuttons_04-768x409.png 768w, https://blog.flexfits.com/wp-content/uploads/2022/11/221108_blog_blogbuttons_04-1536x818.png 1536w, https://blog.flexfits.com/wp-content/uploads/2022/11/221108_blog_blogbuttons_04.png 2000w\" width=\"1024\"/></noscript></a></figure>\n",
            "<div aria-hidden=\"true\" class=\"wp-block-spacer\" style=\"height:25px\"></div>\n",
            "<h3 class=\"wp-block-heading\" id=\"jump6\">5. Glow-up “salad in a smoothie”</h3>\n",
            "<p>This last recipe is another versatile, “in-between” type of meal: Have it for breakfast, as a post-workout pick-me-up, or even as a light lunch or dinner. You can add more protein powder or tofu if you want to make it heartier (or skip those ingredients if you don’t have ‘em on hand – no big deal). Keep frozen fruit in your freezer at all times for quick, simple smoothies on the go.  </p>\n",
            "<p>Period-wise, just about every ingredient in this smoothie has something to offer. There’s the avocado which, as mentioned, <strong>gives you healthy fats, cramp-relieving magnesium, and iron.</strong>((Quaranta, S., Buscaglia, M.A., Meroni, M.G. et al. Pilot Study of the Efficacy and Safety of a Modified-Release Magnesium 250mg Tablet for the Treatment of Premenstrual Syndrome. <em>Clin. Drug Investig</em>. 27, 51–58 (2007). https://doi.org/10.2165/00044011-200727010-00004)) There’s the spinach, which has even MORE iron than the avocado and is an all-around PMS powerhouse food with tons of calcium.((Gunnars, K. (2019, May 14). Spinach 101: Nutrition Facts and Health Benefits. <em>Healthline</em>. Retrieved from healthline.com/nutrition/foods/spinach)) </p>\n",
            "<p>The yogurt adds a probiotic boost. There’s the chia seeds and flax seeds with omega-3 fatty acids. And there’s enough berries and orange juice to hit more than 100% of your daily value of Vitamin C.((Robertson, R. (2020, August 19). The 8 Healthiest Berries You Can Eat. <em>Healthline</em>. Retrieved from healthline.com/nutrition/8-healthy-berries))</p>\n",
            "<figure class=\"wp-block-image size-large is-style-default\"><img alt=\"glow up smoothie\" class=\"wp-image-5045 lazyload\" data-sizes=\"(max-width: 1024px) 100vw, 1024px\" data-src=\"https://blog.flexfits.com/wp-content/uploads/2020/11/Smoothie-Blog-Image-1024x545.jpg\" data-srcset=\"https://blog.flexfits.com/wp-content/uploads/2020/11/Smoothie-Blog-Image-1024x545.jpg 1024w, https://blog.flexfits.com/wp-content/uploads/2020/11/Smoothie-Blog-Image-300x160.jpg 300w, https://blog.flexfits.com/wp-content/uploads/2020/11/Smoothie-Blog-Image-768x409.jpg 768w, https://blog.flexfits.com/wp-content/uploads/2020/11/Smoothie-Blog-Image.jpg 1200w\" decoding=\"async\" height=\"545\" src=\"data:image/gif;base64,R0lGODlhAQABAAAAACH5BAEKAAEALAAAAAABAAEAAAICTAEAOw==\" width=\"1024\"/><noscript><img alt=\"glow up smoothie\" class=\"wp-image-5045\" decoding=\"async\" height=\"545\" sizes=\"(max-width: 1024px) 100vw, 1024px\" src=\"https://blog.flexfits.com/wp-content/uploads/2020/11/Smoothie-Blog-Image-1024x545.jpg\" srcset=\"https://blog.flexfits.com/wp-content/uploads/2020/11/Smoothie-Blog-Image-1024x545.jpg 1024w, https://blog.flexfits.com/wp-content/uploads/2020/11/Smoothie-Blog-Image-300x160.jpg 300w, https://blog.flexfits.com/wp-content/uploads/2020/11/Smoothie-Blog-Image-768x409.jpg 768w, https://blog.flexfits.com/wp-content/uploads/2020/11/Smoothie-Blog-Image.jpg 1200w\" width=\"1024\"/></noscript></figure>\n",
            "<h4 class=\"wp-block-heading\">Ingredients: </h4>\n",
            "<ul>\n",
            "<li>½ avocado (fresh or frozen)</li>\n",
            "<li>2-3 big handfuls of fresh baby spinach </li>\n",
            "<li>⅓ cup plain Greek yogurt</li>\n",
            "<li>⅓ cup frozen banana slices</li>\n",
            "<li>⅓ cup frozen blueberries</li>\n",
            "<li>⅓ cup frozen raspberries</li>\n",
            "<li>1 ½ cups orange juice</li>\n",
            "<li>½ cup almond milk (or milk of choice)</li>\n",
            "<li>1 tbsp chia seeds</li>\n",
            "<li>1 tbsp flax seeds</li>\n",
            "<li>1 scoop collagen peptides or unflavored protein powder of your choice (optional)</li>\n",
            "</ul>\n",
            "<h4 class=\"wp-block-heading\">Instructions:</h4>\n",
            "<ol>\n",
            "<li>Place the avocado, Greek yogurt, frozen banana, and frozen berries in a blender.</li>\n",
            "<li>Add the chia seeds, flax seeds, and protein powder if desired, then shove in as much spinach as you can within your blender’s capacity (trust us on this – you won’t taste it!).</li>\n",
            "<li>Pour in the orange juice and almond milk (make sure you have enough liquid to cover the top of your other ingredients, but don’t overfill your blender). </li>\n",
            "<li>Blend for 1-2 minutes until everything is totally combined. If needed, add a couple ice cubes to thicken it up. Enjoy!</li>\n",
            "</ol>\n",
            "<div aria-hidden=\"true\" class=\"wp-block-spacer\" style=\"height:50px\"></div>\n",
            "<p class=\"has-text-align-left\"><em>This article is informational only. It is not offered as medical advice. It does not substitute a consultation with your physician. Please consult your physician if you have any gynecological/medical concerns or conditions.  </em></p>\n",
            "<p class=\"has-text-align-left has-small-font-size\">© 2023 The Flex Company. All Rights Reserved.</p>\n",
            "<div aria-hidden=\"true\" class=\"wp-block-spacer\" style=\"height:30px\"></div>\n",
            "</div>, <div class=\"wp-block-column is-layout-flow wp-block-column-is-layout-flow\"></div>, <div class=\"wp-block-column is-layout-flow wp-block-column-is-layout-flow\" style=\"flex-basis:100%\"></div>]\n"
          ]
        }
      ]
    },
    {
      "cell_type": "code",
      "source": [
        "#printing content blocks in list format\n",
        "\n",
        "print(type(articles))\n",
        "print(\"Total content blocks: \",len(articles))\n",
        "for i in articles:\n",
        "  print(i)\n",
        "  print(\" \")\n",
        "  print(\" \")"
      ],
      "metadata": {
        "colab": {
          "base_uri": "https://localhost:8080/"
        },
        "id": "HVvsC1uKoLr9",
        "outputId": "30a5b58d-bfd8-4d69-f615-75325b1b6f56"
      },
      "execution_count": 9,
      "outputs": [
        {
          "output_type": "stream",
          "name": "stdout",
          "text": [
            "<class 'bs4.element.ResultSet'>\n",
            "Total content blocks:  7\n",
            "<div class=\"wp-block-column is-layout-flow wp-block-column-is-layout-flow\" style=\"flex-basis:100%\">\n",
            "<p>“Turns out, spinach and sweet potatoes have some pretty magical powers when it comes to period pain.”</p>\n",
            "</div>\n",
            " \n",
            " \n",
            "<div class=\"wp-block-column is-layout-flow wp-block-column-is-layout-flow\">\n",
            "<h6 class=\"wp-block-heading\">IN THIS ARTICLE</h6>\n",
            "<div class=\"wp-block-columns is-layout-flex wp-container-core-columns-layout-2 wp-block-columns-is-layout-flex\">\n",
            "<div class=\"wp-block-column is-layout-flow wp-block-column-is-layout-flow\">\n",
            "<p><a href=\"#jump1\"><strong>01 /</strong> The best recipes for period cramps (that actually taste good)</a></p>\n",
            "<p><a href=\"#jump2\"><strong>02 /</strong> Cinnamon dark chocolate chip overnight oats</a></p>\n",
            "<p><a href=\"#jump3\"><strong>03 /</strong> Sheet pan pesto salmon with sweet potato &amp; broccoli rabe</a></p>\n",
            "</div>\n",
            "<div class=\"wp-block-column is-layout-flow wp-block-column-is-layout-flow\">\n",
            "<p><a href=\"#jump4\"><strong>04 /</strong> Thai ginger chicken stir fry</a></p>\n",
            "<p><a href=\"#jump5\"><strong>05 /</strong> Any-meal avocado toast</a></p>\n",
            "<p><a href=\"#jump6\"><strong>06 /</strong> Glow-up “salad in a smoothie”</a></p>\n",
            "</div>\n",
            "</div>\n",
            "</div>\n",
            " \n",
            " \n",
            "<div class=\"wp-block-column is-layout-flow wp-block-column-is-layout-flow\">\n",
            "<p><a href=\"#jump1\"><strong>01 /</strong> The best recipes for period cramps (that actually taste good)</a></p>\n",
            "<p><a href=\"#jump2\"><strong>02 /</strong> Cinnamon dark chocolate chip overnight oats</a></p>\n",
            "<p><a href=\"#jump3\"><strong>03 /</strong> Sheet pan pesto salmon with sweet potato &amp; broccoli rabe</a></p>\n",
            "</div>\n",
            " \n",
            " \n",
            "<div class=\"wp-block-column is-layout-flow wp-block-column-is-layout-flow\">\n",
            "<p><a href=\"#jump4\"><strong>04 /</strong> Thai ginger chicken stir fry</a></p>\n",
            "<p><a href=\"#jump5\"><strong>05 /</strong> Any-meal avocado toast</a></p>\n",
            "<p><a href=\"#jump6\"><strong>06 /</strong> Glow-up “salad in a smoothie”</a></p>\n",
            "</div>\n",
            " \n",
            " \n",
            "<div class=\"wp-block-column is-layout-flow wp-block-column-is-layout-flow\" style=\"flex-basis:100%\">\n",
            "<h2 class=\"wp-block-heading\" id=\"jump1\">What to eat on your period: foods that help with period cramps (and actually taste good)</h2>\n",
            "<p>When you think about PMS or period food cravings, the first thing that comes to mind is usually cravings for chocolate – followed by salty chips, ice cream, and maybe a burger and fries, or Flaming Hot Cheetos.  </p>\n",
            "<p>Hormone fluctuations can lead to a decrease in blood sugar, creating an urge to eat sugary or carb-rich foods. This is because carbs are necessary for the production of serotonin, a chemical in the brain that promotes a feeling of well-being and happiness. <strong>Low serotonin levels may contribute to symptoms of PMS</strong>, such as premenstrual depression, fatigue, food cravings, and difficulty sleeping.</p>\n",
            "<p>It’s no wonder we crave these types of comfort foods around our period: They help distract us from painful menstrual cramps, fatigue, and the <a href=\"https://blog.flexfits.com/how-stress-affects-your-period/\" rel=\"noreferrer noopener\" target=\"_blank\">stress</a> that tends to ramp up right before period day one. Unfortunately, what we crave might not be what’s best for our bodies. Succumbing to that late-night Chick-Fil-A craving, red meat burgers, processed foods, and even spicy foods might actually leave you feeling worse.  </p>\n",
            "<p>On the flip side, <strong>many nutrient-rich foods help with </strong><a href=\"https://blog.flexfits.com/weird-ways-to-deal-with-pms-symptoms/\" rel=\"noreferrer noopener\" target=\"_blank\"><strong>cramps and Premenstrual Syndrome (PMS)</strong></a><strong>, by reducing their intensity or even making them disappear entirely.</strong> We’re not talking obscure, expensive herbs or potions – just the “boring” fruits and veggies you see lining the produce aisle of your average grocery store. Turns out, leafy greens and sweet potatoes have some pretty magical powers when it comes to reducing cramping and menstrual pain.  </p>\n",
            "<p>If you’re worried that getting the right nutrients during your period means sacrificing flavor, think again. We compiled a few Chrissy Teigen-worthy recipes of the best period comfort food that your body <em>and</em> your tastebuds will genuinely enjoy. Plus, they’re quick, easy to prepare, and can be done with limited kitchen equipment (read: even in your college dorm kitchen).  </p>\n",
            "<p>Kiss cramps, bloating, fatigue, and breakouts goodbye with these five recipes for PMS or period pain.  </p>\n",
            "<div aria-hidden=\"true\" class=\"wp-block-spacer\" style=\"height:25px\"></div>\n",
            "<h2 class=\"wp-block-heading\">The 5 best recipes for period cramps &amp; PMS</h2>\n",
            "<h3 class=\"wp-block-heading\" id=\"jump2\">1. Cinnamon dark chocolate chip overnight oats</h3>\n",
            "<p>What, did you think we wouldn’t include chocolate in at least one of these recipes? Of course we did. Even better, you get to eat it for breakfast (and it’s actually good for you). </p>\n",
            "<p>Dark chocolate is rich in magnesium: It contains 50 mg in every 1-oz serving. And studies have found that <strong>magnesium can be helpful in reducing PMS symptoms</strong>, especially mood swings and stress, which may be more common if you’re nutrient deficient.((Quaranta, S., Buscaglia, M.A., Meroni, M.G. et al. Pilot Study of the Efficacy and Safety of a Modified-Release Magnesium 250mg Tablet for the Treatment of Premenstrual Syndrome. <em>Clin. Drug Investig</em>. 27, 51–58 (2007). https://doi.org/10.2165/00044011-200727010-00004)) Magnesium may also ease headaches and curb sugar cravings.((Mauskop, A., Altura, B. T., Cracco, R. Q., &amp; Altura, B. M. (1996). Intravenous magnesium sulfate rapidly alleviates headaches of various types. <em>Headache</em>, 36(3), 154–160. https://doi.org/10.1046/j.1526-4610.1996.3603154.x)) </p>\n",
            "<p>While you can certainly get extra magnesium in supplement form, the best way for your body to absorb it is by consuming foods that are naturally magnesium-rich. So, consider dark chocolate your new PMS BFF – and for even more magnesium, add tofu, pumpkin seeds, avocados, and almonds to your diet during your period.((Magnesium-Rich Food Information. (2014, December 1). <em>Cleveland Clinic</em>. Retrieved from my.clevelandclinic.org/health/articles/15650-magnesium-rich-food)) </p>\n",
            "<figure class=\"wp-block-image size-large\"><a href=\"https://flexfits.com/products/pms-eraser-pms-gummies?_ga=2.126518861.1907397882.1694544725-921151436.1690404204\"><img alt=\"pms eraser pms gummies\" class=\"wp-image-13530 lazyload\" data-sizes=\"(max-width: 1024px) 100vw, 1024px\" data-src=\"https://blog.flexfits.com/wp-content/uploads/2023/07/230705_Blog_CTA_PMS-Eraser-1-1024x545.png\" data-srcset=\"https://blog.flexfits.com/wp-content/uploads/2023/07/230705_Blog_CTA_PMS-Eraser-1-1024x545.png 1024w, https://blog.flexfits.com/wp-content/uploads/2023/07/230705_Blog_CTA_PMS-Eraser-1-300x160.png 300w, https://blog.flexfits.com/wp-content/uploads/2023/07/230705_Blog_CTA_PMS-Eraser-1-768x409.png 768w, https://blog.flexfits.com/wp-content/uploads/2023/07/230705_Blog_CTA_PMS-Eraser-1-1536x818.png 1536w, https://blog.flexfits.com/wp-content/uploads/2023/07/230705_Blog_CTA_PMS-Eraser-1.png 2000w\" decoding=\"async\" fetchpriority=\"high\" height=\"545\" src=\"data:image/gif;base64,R0lGODlhAQABAAAAACH5BAEKAAEALAAAAAABAAEAAAICTAEAOw==\" width=\"1024\"/><noscript><img alt=\"pms eraser pms gummies\" class=\"wp-image-13530\" decoding=\"async\" fetchpriority=\"high\" height=\"545\" sizes=\"(max-width: 1024px) 100vw, 1024px\" src=\"https://blog.flexfits.com/wp-content/uploads/2023/07/230705_Blog_CTA_PMS-Eraser-1-1024x545.png\" srcset=\"https://blog.flexfits.com/wp-content/uploads/2023/07/230705_Blog_CTA_PMS-Eraser-1-1024x545.png 1024w, https://blog.flexfits.com/wp-content/uploads/2023/07/230705_Blog_CTA_PMS-Eraser-1-300x160.png 300w, https://blog.flexfits.com/wp-content/uploads/2023/07/230705_Blog_CTA_PMS-Eraser-1-768x409.png 768w, https://blog.flexfits.com/wp-content/uploads/2023/07/230705_Blog_CTA_PMS-Eraser-1-1536x818.png 1536w, https://blog.flexfits.com/wp-content/uploads/2023/07/230705_Blog_CTA_PMS-Eraser-1.png 2000w\" width=\"1024\"/></noscript></a></figure>\n",
            "<p>Other helpful ingredients in this overnight oats recipe include cinnamon, which has also been shown to improve pain, nausea, and vomiting associated with primary dysmenorrhea,<sup><a class=\"footnote-link footnote-identifier-link\" href=\"#footnote_0_5024\" id=\"identifier_0_5024\" title=\"Jaafarpour, M., Hatefi, M., Najafi, F., Khajavikhan, J., &amp; Khani, A. (2015). The effect of cinnamon on menstrual bleeding and systemic symptoms with primary dysmenorrhea. Iranian Red Crescent medical journal, 17(4), e27032. https://doi.org/10.5812/ircmj.17(4)2015.27032\">1</a></sup> chia seeds, which contain omega-3 fatty acids, and Greek yogurt, which contains probiotics that can help with bloating and digestive discomfort.((Bertazzoni Minelli, E., Benini, A., Vicentini, L., Andreoli, E., Oselladore, M., &amp; Cerutti, R. (1996). Effect of lactobacillus acidophilus and Bifidobacterium bifidum administration on colonic microbiota and its metabolic activity in premenstrual syndrome. <em>Microbial Ecology in Health and Disease</em>, 9(6), 247-260. https://doi.org/10.3109/08910609609166465)) Oh, and the bananas have magnesium, too!  </p>\n",
            "<h4 class=\"wp-block-heading\">Ingredients:</h4>\n",
            "<ul>\n",
            "<li>½ cup rolled oats (Old Fashioned, not Instant)</li>\n",
            "<li>½ cup almond milk (or cow’s milk, oat milk, soy milk – whatever milk you’re loyal to) </li>\n",
            "<li>1-2 tbsp pure maple syrup (the real kind, please) or honey</li>\n",
            "<li>½ tsp cinnamon</li>\n",
            "<li>½ tsp unsweetened cocoa powder</li>\n",
            "<li>2 tbsp dark chocolate chips </li>\n",
            "<li>⅓ cup plain Greek yogurt </li>\n",
            "<li>¼ tsp vanilla extract (optional)</li>\n",
            "<li>1 tsp chia seeds (optional) </li>\n",
            "<li>1 banana (optional)</li>\n",
            "</ul>\n",
            "<h4 class=\"wp-block-heading\">Instructions:</h4>\n",
            "<ol>\n",
            "<li>The night before: Mix all the ingredients EXCEPT the banana in a bowl or mason jar, preferably one with a lid. </li>\n",
            "<li>Place the covered bowl or mason jar in the refrigerator overnight (or for at least 6 hours). </li>\n",
            "<li>The morning of: Grab a banana, slice ‘er up any way you like, and place it on top of your oats. Enjoy!</li>\n",
            "</ol>\n",
            "<div aria-hidden=\"true\" class=\"wp-block-spacer\" style=\"height:25px\"></div>\n",
            "<h3 class=\"wp-block-heading\" id=\"jump3\">2. Sheet pan pesto salmon with roasted sweet potato &amp; broccoli rabe</h3>\n",
            "<p>When you have your period and you’re totally wiped out, it’s hard to get up the motivation to cook dinner. Make it as easy as possible for yourself with this single-sheet pan dinner.</p>\n",
            "<p>You’ll have plenty of leftover pesto, too, to use up later in the week for pasta or a salad. The powerhouse ingredients will make you feel amazing any day of the month, but they’re especially helpful when you’re on your period. Here’s why: </p>\n",
            "<p>First, salmon is rich in omega-3 fatty acids,((Omega-3-rich foods: Good for your heart. (2013, November 1). <em>Harvard Health</em>. Retrieved from health.harvard.edu/heart-health/omega-3-rich-foods-good-for-your-heart)) which are beneficial for so many different aspects of your health. In terms of period pain, <strong>omega-3s have been shown to reduce both the mental symptoms of PMS (like depression, nervousness, anxiety, and lack of concentration) and the physical symptoms (like bloating, headache, and breast tenderness).</strong>((Sohrabi, N., Kashanian, M., Ghafoori, S. S., &amp; Malakouti, S. K. (2013). Evaluation of the effect of omega-3 fatty acids in the treatment of premenstrual syndrome: “a pilot trial”. <em>Complementary therapies in medicine</em>, 21(3), 141–146. https://doi.org/10.1016/j.ctim.2012.12.008)) </p>\n",
            "<p>Salmon has 1,900 mg of omega-3s per 3 oz serving – and the walnuts in the pesto pack a punch, too, with 2,570 mg per ounce.((Hjalmarsdottir, F. (2019, September 30). 12 Foods That Are Very High in Omega-3. <em>Healthline</em>. Retrieved from healthline.com/nutrition/12-omega-3-rich-foods)) The sweet potato offers complex carbohydrates (the good ones!) and lots of Vitamin B6, which has also been studied for its PMS-relieving effects,((Fathizadeh, N., Ebrahimi, E., Valiani, M., Tavakoli, N., &amp; Yar, M. H. (2010). Evaluating the effect of magnesium and magnesium plus vitamin B6 supplement on the severity of premenstrual syndrome. <em>Iranian journal of nursing and midwifery research</em>, 15(Suppl 1), 401–405.)) plus Vitamin C for an immune system boost. </p>\n",
            "<figure class=\"wp-block-image size-large\"><a href=\"https://flexfits.com/products/chill-pill-stress-gummies?_ga=2.84438873.1907397882.1694544725-921151436.1690404204\"><img alt=\"chill pill stress supplement\" class=\"wp-image-13527 lazyload\" data-sizes=\"(max-width: 1024px) 100vw, 1024px\" data-src=\"https://blog.flexfits.com/wp-content/uploads/2023/07/230705_Blog_CTA_Chill-Pill-1-1024x545.png\" data-srcset=\"https://blog.flexfits.com/wp-content/uploads/2023/07/230705_Blog_CTA_Chill-Pill-1-1024x545.png 1024w, https://blog.flexfits.com/wp-content/uploads/2023/07/230705_Blog_CTA_Chill-Pill-1-300x160.png 300w, https://blog.flexfits.com/wp-content/uploads/2023/07/230705_Blog_CTA_Chill-Pill-1-768x409.png 768w, https://blog.flexfits.com/wp-content/uploads/2023/07/230705_Blog_CTA_Chill-Pill-1-1536x818.png 1536w, https://blog.flexfits.com/wp-content/uploads/2023/07/230705_Blog_CTA_Chill-Pill-1.png 2000w\" decoding=\"async\" height=\"545\" src=\"data:image/gif;base64,R0lGODlhAQABAAAAACH5BAEKAAEALAAAAAABAAEAAAICTAEAOw==\" width=\"1024\"/><noscript><img alt=\"chill pill stress supplement\" class=\"wp-image-13527\" decoding=\"async\" height=\"545\" sizes=\"(max-width: 1024px) 100vw, 1024px\" src=\"https://blog.flexfits.com/wp-content/uploads/2023/07/230705_Blog_CTA_Chill-Pill-1-1024x545.png\" srcset=\"https://blog.flexfits.com/wp-content/uploads/2023/07/230705_Blog_CTA_Chill-Pill-1-1024x545.png 1024w, https://blog.flexfits.com/wp-content/uploads/2023/07/230705_Blog_CTA_Chill-Pill-1-300x160.png 300w, https://blog.flexfits.com/wp-content/uploads/2023/07/230705_Blog_CTA_Chill-Pill-1-768x409.png 768w, https://blog.flexfits.com/wp-content/uploads/2023/07/230705_Blog_CTA_Chill-Pill-1-1536x818.png 1536w, https://blog.flexfits.com/wp-content/uploads/2023/07/230705_Blog_CTA_Chill-Pill-1.png 2000w\" width=\"1024\"/></noscript></a></figure>\n",
            "<p>Finally, the broccoli rabe contains 100 mg of calcium in a 2/3rds-cup serving.((14 Non-Dairy Foods That Are High in Calcium. (2014, September 7). <em>Time</em>. Retrieved from time.com/3265401/14-high-calcium-foods/)) Calcium has been fairly extensively studied in correlation with premenstrual symptoms, and there’s a strong indication that high calcium intake reduces the risk of PMS.((Bertone-Johnson, E. R., Hankinson, S. E., Bendich, A., Johnson, S. R., Willett, W. C., &amp; Manson, J. E. (2005). Calcium and vitamin D intake and risk of incident premenstrual syndrome. <em>Archives of internal medicine</em>, 165(11), 1246–1252. https://doi.org/10.1001/archinte.165.11.1246))</p>\n",
            "<figure class=\"wp-block-image size-large\"><img alt=\"sheet pan pesto salmon \" class=\"wp-image-5043 lazyload\" data-sizes=\"(max-width: 1024px) 100vw, 1024px\" data-src=\"https://blog.flexfits.com/wp-content/uploads/2020/11/Salmon-1024x545.jpg\" data-srcset=\"https://blog.flexfits.com/wp-content/uploads/2020/11/Salmon-1024x545.jpg 1024w, https://blog.flexfits.com/wp-content/uploads/2020/11/Salmon-300x160.jpg 300w, https://blog.flexfits.com/wp-content/uploads/2020/11/Salmon-768x409.jpg 768w, https://blog.flexfits.com/wp-content/uploads/2020/11/Salmon.jpg 1200w\" decoding=\"async\" height=\"545\" src=\"data:image/gif;base64,R0lGODlhAQABAAAAACH5BAEKAAEALAAAAAABAAEAAAICTAEAOw==\" width=\"1024\"/><noscript><img alt=\"sheet pan pesto salmon \" class=\"wp-image-5043\" decoding=\"async\" height=\"545\" sizes=\"(max-width: 1024px) 100vw, 1024px\" src=\"https://blog.flexfits.com/wp-content/uploads/2020/11/Salmon-1024x545.jpg\" srcset=\"https://blog.flexfits.com/wp-content/uploads/2020/11/Salmon-1024x545.jpg 1024w, https://blog.flexfits.com/wp-content/uploads/2020/11/Salmon-300x160.jpg 300w, https://blog.flexfits.com/wp-content/uploads/2020/11/Salmon-768x409.jpg 768w, https://blog.flexfits.com/wp-content/uploads/2020/11/Salmon.jpg 1200w\" width=\"1024\"/></noscript></figure>\n",
            "<h4 class=\"wp-block-heading\">Ingredients:</h4>\n",
            "<ul>\n",
            "<li>2 (6oz.) salmon fillets (wild-caught is our favorite if you can find it)</li>\n",
            "<li>1 cup broccoli rabe, trimmed with tough stems removed</li>\n",
            "<li>1 ½ sweet potatoes, cubed</li>\n",
            "<li>½ tsp smoked paprika</li>\n",
            "<li>1 tbsp extra virgin olive oil</li>\n",
            "<li>Salt and pepper, to taste</li>\n",
            "<li>1 lemon, sliced into wedges</li>\n",
            "</ul>\n",
            "<p><em>For the pesto: </em></p>\n",
            "<ul>\n",
            "<li>1/3 cup walnuts</li>\n",
            "<li>2 large garlic cloves, roughly chopped</li>\n",
            "<li>2 cups gently packed *fresh* basil leaves</li>\n",
            "<li>1/2 teaspoon salt</li>\n",
            "<li>1/4 teaspoon ground black pepper</li>\n",
            "<li>2/3 cup extra virgin olive oil</li>\n",
            "<li>1/2 cup grated parmesan cheese</li>\n",
            "</ul>\n",
            "<h4 class=\"wp-block-heading\">Instructions:</h4>\n",
            "<ol>\n",
            "<li>Preheat the oven to 400° F.</li>\n",
            "<li>Spray a large sheet pan with non-stick spray or cover with parchment paper.</li>\n",
            "<li>Make the pesto: Place the walnuts and garlic in a food processor and pulse until chopped. Add the basil, salt, and pepper, and pulse until the mixture looks like a thick paste. Then, with the food processor running, add your olive oil in a steady stream until fully incorporated. Add the parmesan and pulse 30 seconds more. Store in a mason jar for up to a week in the fridge. </li>\n",
            "<li>Toss cubed sweet potatoes in a bowl with ½ tablespoon of olive oil, salt, and smoked paprika. Spread on one side of the sheet pan in an even layer. </li>\n",
            "<li>Place sweet potatoes in the oven for 15 minutes until partially cooked. Remove the pan from the oven, flip the sweet potatoes. </li>\n",
            "<li>Toss broccoli rabe with the other ½ tablespoon of olive oil, salt and pepper and spread on the other side of the sheet pan, leaving enough room for your salmon fillets. </li>\n",
            "<li>Place salmon fillets in the middle of the sheet pan and top each with a heaping spoonful of your homemade pesto so it covers each fillet. Place 1 lemon wedge on each fillet. </li>\n",
            "<li>Place the sheet pan back in the oven and bake for 15 minutes (you may need to leave the salmon in a couple of minutes longer depending on thickness). </li>\n",
            "</ol>\n",
            "<figure class=\"wp-block-image size-full\"><a href=\"https://flexfits.com/products/flex-reusable-disc?_ga=2.65803182.1219824736.1694137085-531229269.1689781115\"><img alt=\"flex reusable menstrual disc\" class=\"wp-image-13582 lazyload\" data-sizes=\"(max-width: 1024px) 100vw, 1024px\" data-src=\"https://blog.flexfits.com/wp-content/uploads/2023/08/image-1.png\" data-srcset=\"https://blog.flexfits.com/wp-content/uploads/2023/08/image-1.png 1024w, https://blog.flexfits.com/wp-content/uploads/2023/08/image-1-300x160.png 300w, https://blog.flexfits.com/wp-content/uploads/2023/08/image-1-768x409.png 768w\" decoding=\"async\" height=\"545\" src=\"data:image/gif;base64,R0lGODlhAQABAAAAACH5BAEKAAEALAAAAAABAAEAAAICTAEAOw==\" width=\"1024\"/><noscript><img alt=\"flex reusable menstrual disc\" class=\"wp-image-13582\" decoding=\"async\" height=\"545\" sizes=\"(max-width: 1024px) 100vw, 1024px\" src=\"https://blog.flexfits.com/wp-content/uploads/2023/08/image-1.png\" srcset=\"https://blog.flexfits.com/wp-content/uploads/2023/08/image-1.png 1024w, https://blog.flexfits.com/wp-content/uploads/2023/08/image-1-300x160.png 300w, https://blog.flexfits.com/wp-content/uploads/2023/08/image-1-768x409.png 768w\" width=\"1024\"/></noscript></a></figure>\n",
            "<div aria-hidden=\"true\" class=\"wp-block-spacer\" style=\"height:25px\"></div>\n",
            "<h3 class=\"wp-block-heading\" id=\"jump4\">3. Thai ginger chicken stir fry</h3>\n",
            "<p>If your usual habit is ordering takeout during your period from the local Chinese or Thai hole in the wall, you may be surprised by how easily you can recreate your favorite meals at home – but way healthier and, TBH, better tasting. This simple recipe is ready in under 30 minutes and is almost impossible to mess up.  </p>\n",
            "<p>How will it help your period, though? Well, for starters, the plentiful <strong>fresh ginger may significantly reduce period pain</strong>, a.k.a. dysmenorrhea: One 2012 study found that ginger “may be an effective and safe therapy for relieving pain in women with primary dysmenorrhea if administered at the onset or during the 3 days prior to menstruation.”((Rahnama, P., Montazeri, A., Huseini, H. F., Kianbakht, S., &amp; Naseri, M. (2012). Effect of Zingiber officinale R. rhizomes (ginger) on pain relief in primary dysmenorrhea: a placebo randomized trial. <em>BMC complementary and alternative medicine</em>, 12, 92. https://doi.org/10.1186/1472-6882-12-92)) Plus, ginger has long been used to remedy an upset stomach – and it just tastes good, so don’t skimp!</p>\n",
            "<p>Then you have baby bok choy, which contains loads of PMS-busting calcium (see above for the benefits of calcium for period pain) and is a great source of vitamin A, vitamin C, and potassium.((14 Non-Dairy Foods That Are High in Calcium. (2014, September 7). <em>Time</em>. Retrieved from time.com/3265401/14-high-calcium-foods/)) The shiitake mushrooms may have an anti-inflammatory effect, too.((Finimundy, T. C., Dillon, A. J., Henriques, J. A., &amp; Ely, M. R. (2014). A review on general nutritional compounds and pharmacological properties the Lentinula edodes Mushroom. <em>Food and Nutrition Sciences</em>, 05(12), 1095-1105. https://doi.org/10.4236/fns.2014.512119))</p>\n",
            "<h4 class=\"wp-block-heading\">Ingredients: </h4>\n",
            "<ul>\n",
            "<li>1 lb boneless, skinless chicken breast, cut into strips or bite-sized pieces</li>\n",
            "<li>2 tablespoons avocado oil</li>\n",
            "<li>3 cloves garlic, minced</li>\n",
            "<li>1 tablespoon fish sauce</li>\n",
            "<li>1 tablespoon soy sauce (or coconut aminos)</li>\n",
            "<li>2 tablespoons oyster sauce</li>\n",
            "<li>1 tablespoon honey</li>\n",
            "<li>1 tsp sriracha sauce (optional)</li>\n",
            "<li>½ cup fresh ginger, cut into matchsticks</li>\n",
            "<li>1 red bell pepper, cut into strips</li>\n",
            "<li>2 cups baby bok choy leaves, cleaned with ends trimmed</li>\n",
            "<li>¾ cup sliced shiitake mushrooms</li>\n",
            "<li>Salt and pepper to taste</li>\n",
            "<li>2 tablespoons fresh basil leaves or cilantro (optional)</li>\n",
            "<li>1 cup cooked brown rice</li>\n",
            "</ul>\n",
            "<h4 class=\"wp-block-heading\">Instructions:</h4>\n",
            "<ol>\n",
            "<li>Stir the fish sauce, soy sauce, oyster sauce, sriracha sauce, garlic, and honey in a small bowl until combined. </li>\n",
            "<li>Heat the avocado oil in a large frying pan or wok over medium-high heat. </li>\n",
            "<li>Season the chicken breast pieces with salt and pepper, then transfer to the pan and cook, stirring occasionally, until browned on all sides and nearly cooked through. </li>\n",
            "<li>Add the mushrooms, bell pepper, and ginger to the pan and stir fry for another 2 minutes. Then, turn the heat up to high and pour in the sauce, stirring right away (it should sizzle). Let the sauce thicken for a minute or so, then lower the heat and continue to cook on medium for another 2-3 minutes, or until chicken is cooked through. Add the bok choy leaves and stir gently, allowing them to wilt down slightly. </li>\n",
            "<li>Divide the rice between two bowls, top each bowl with stir fry, and garnish with basil or cilantro.</li>\n",
            "</ol>\n",
            "<div aria-hidden=\"true\" class=\"wp-block-spacer\" style=\"height:25px\"></div>\n",
            "<h3 class=\"wp-block-heading\" id=\"jump5\">4. Any-meal avocado toast</h3>\n",
            "<p>The avocado is pretty much the queen of health foods – it adds an amazing dimension of flavor and texture to just about any savory meal, whether breakfast, lunch, or dinner, and even tastes great on its own with a simple slice of bread. We can do better than bland ‘cado toast, though: This recipe makes a meal out of what might otherwise be considered a snack, and it has the perfect balance of salt, spice, crunch, and lemony pizzazz.  </p>\n",
            "<p>Why is it good for your period? Well, <strong>avocados have tons of magnesium, plus iron and potassium</strong>. The magnesium (as mentioned in the Overnight Oats recipe) can help with mood swings, stress, and the emotional burnout we often feel during our period.((Quaranta, S., Buscaglia, M.A., Meroni, M.G. et al. Pilot Study of the Efficacy and Safety of a Modified-Release Magnesium 250mg Tablet for the Treatment of Premenstrual Syndrome. <em>Clin. Drug Investig</em>. 27, 51–58 (2007). https://doi.org/10.2165/00044011-200727010-00004)) </p>\n",
            "<p>The iron is great if you experience especially heavy periods: The more blood you shed, the more prone you are to anemia (or an iron deficiency).((Peuranpää, P., Heliövaara‐Peippo, S., Fraser, I., Paavonen, J., &amp; Hurskainen, R. (2014). Effects of anemia and iron deficiency on quality of life in women with heavy menstrual bleeding. <em>Acta Obstet Gynecol Scand</em>, 93, 654-660. https://doi.org/10.1111/aogs.12394)) The pumpkin seeds have TONS of iron, too, so you’re pretty much fully covered in that department.  </p>\n",
            "<p>For added protein, top your toast with a fried or poached egg: You’ll benefit from the Vitamin D, which helps your body absorb the much-needed, PMS-fighting calcium found in other foods. Bonus points for multigrain bread made with flax seeds, which contain omega-3 fatty acids.  </p>\n",
            "<h4 class=\"wp-block-heading\">Ingredients: </h4>\n",
            "<ul>\n",
            "<li>1 avocado, quartered and then thinly sliced</li>\n",
            "<li>2 small slices or one large slice multi-seed or multigrain + flax seed bread, toasted</li>\n",
            "<li>½ lemon</li>\n",
            "<li>1 small radish, thinly sliced</li>\n",
            "<li>2 tbsp roasted pumpkin seeds (salted or unsalted)</li>\n",
            "<li>¼ tsp smoked paprika</li>\n",
            "<li>½ tsp everything bagel seasoning</li>\n",
            "<li>Salt and pepper to taste</li>\n",
            "<li>1 tsp extra virgin olive oil </li>\n",
            "<li>1 egg (optional)</li>\n",
            "</ul>\n",
            "<h4 class=\"wp-block-heading\">Instructions:</h4>\n",
            "<ol>\n",
            "<li>Arrange the avocado slices on your toasted bread in an even layer.</li>\n",
            "<li>Arrange the radish slices on top of the avocado.</li>\n",
            "<li>Squeeze a bit of lemon juice over both slices (or your single slice).</li>\n",
            "<li>Sprinkle on the pumpkin seeds, paprika, everything bagel seasoning, salt, and pepper.</li>\n",
            "<li>Add a drizzle of olive oil, if desired. </li>\n",
            "<li>Want to make it a more filling meal? Fry or poach your egg and put that on top, too!</li>\n",
            "</ol>\n",
            "<div aria-hidden=\"true\" class=\"wp-block-spacer\" style=\"height:25px\"></div>\n",
            "<figure class=\"wp-block-image size-large\"><a href=\"https://flexfits.com/products/flex-cup-starter-kit\"><img alt=\"period care essentials\" class=\"wp-image-13116 lazyload\" data-sizes=\"(max-width: 1024px) 100vw, 1024px\" data-src=\"https://blog.flexfits.com/wp-content/uploads/2022/11/221108_blog_blogbuttons_04-1024x545.png\" data-srcset=\"https://blog.flexfits.com/wp-content/uploads/2022/11/221108_blog_blogbuttons_04-1024x545.png 1024w, https://blog.flexfits.com/wp-content/uploads/2022/11/221108_blog_blogbuttons_04-300x160.png 300w, https://blog.flexfits.com/wp-content/uploads/2022/11/221108_blog_blogbuttons_04-768x409.png 768w, https://blog.flexfits.com/wp-content/uploads/2022/11/221108_blog_blogbuttons_04-1536x818.png 1536w, https://blog.flexfits.com/wp-content/uploads/2022/11/221108_blog_blogbuttons_04.png 2000w\" decoding=\"async\" height=\"545\" src=\"data:image/gif;base64,R0lGODlhAQABAAAAACH5BAEKAAEALAAAAAABAAEAAAICTAEAOw==\" width=\"1024\"/><noscript><img alt=\"period care essentials\" class=\"wp-image-13116\" decoding=\"async\" height=\"545\" sizes=\"(max-width: 1024px) 100vw, 1024px\" src=\"https://blog.flexfits.com/wp-content/uploads/2022/11/221108_blog_blogbuttons_04-1024x545.png\" srcset=\"https://blog.flexfits.com/wp-content/uploads/2022/11/221108_blog_blogbuttons_04-1024x545.png 1024w, https://blog.flexfits.com/wp-content/uploads/2022/11/221108_blog_blogbuttons_04-300x160.png 300w, https://blog.flexfits.com/wp-content/uploads/2022/11/221108_blog_blogbuttons_04-768x409.png 768w, https://blog.flexfits.com/wp-content/uploads/2022/11/221108_blog_blogbuttons_04-1536x818.png 1536w, https://blog.flexfits.com/wp-content/uploads/2022/11/221108_blog_blogbuttons_04.png 2000w\" width=\"1024\"/></noscript></a></figure>\n",
            "<div aria-hidden=\"true\" class=\"wp-block-spacer\" style=\"height:25px\"></div>\n",
            "<h3 class=\"wp-block-heading\" id=\"jump6\">5. Glow-up “salad in a smoothie”</h3>\n",
            "<p>This last recipe is another versatile, “in-between” type of meal: Have it for breakfast, as a post-workout pick-me-up, or even as a light lunch or dinner. You can add more protein powder or tofu if you want to make it heartier (or skip those ingredients if you don’t have ‘em on hand – no big deal). Keep frozen fruit in your freezer at all times for quick, simple smoothies on the go.  </p>\n",
            "<p>Period-wise, just about every ingredient in this smoothie has something to offer. There’s the avocado which, as mentioned, <strong>gives you healthy fats, cramp-relieving magnesium, and iron.</strong>((Quaranta, S., Buscaglia, M.A., Meroni, M.G. et al. Pilot Study of the Efficacy and Safety of a Modified-Release Magnesium 250mg Tablet for the Treatment of Premenstrual Syndrome. <em>Clin. Drug Investig</em>. 27, 51–58 (2007). https://doi.org/10.2165/00044011-200727010-00004)) There’s the spinach, which has even MORE iron than the avocado and is an all-around PMS powerhouse food with tons of calcium.((Gunnars, K. (2019, May 14). Spinach 101: Nutrition Facts and Health Benefits. <em>Healthline</em>. Retrieved from healthline.com/nutrition/foods/spinach)) </p>\n",
            "<p>The yogurt adds a probiotic boost. There’s the chia seeds and flax seeds with omega-3 fatty acids. And there’s enough berries and orange juice to hit more than 100% of your daily value of Vitamin C.((Robertson, R. (2020, August 19). The 8 Healthiest Berries You Can Eat. <em>Healthline</em>. Retrieved from healthline.com/nutrition/8-healthy-berries))</p>\n",
            "<figure class=\"wp-block-image size-large is-style-default\"><img alt=\"glow up smoothie\" class=\"wp-image-5045 lazyload\" data-sizes=\"(max-width: 1024px) 100vw, 1024px\" data-src=\"https://blog.flexfits.com/wp-content/uploads/2020/11/Smoothie-Blog-Image-1024x545.jpg\" data-srcset=\"https://blog.flexfits.com/wp-content/uploads/2020/11/Smoothie-Blog-Image-1024x545.jpg 1024w, https://blog.flexfits.com/wp-content/uploads/2020/11/Smoothie-Blog-Image-300x160.jpg 300w, https://blog.flexfits.com/wp-content/uploads/2020/11/Smoothie-Blog-Image-768x409.jpg 768w, https://blog.flexfits.com/wp-content/uploads/2020/11/Smoothie-Blog-Image.jpg 1200w\" decoding=\"async\" height=\"545\" src=\"data:image/gif;base64,R0lGODlhAQABAAAAACH5BAEKAAEALAAAAAABAAEAAAICTAEAOw==\" width=\"1024\"/><noscript><img alt=\"glow up smoothie\" class=\"wp-image-5045\" decoding=\"async\" height=\"545\" sizes=\"(max-width: 1024px) 100vw, 1024px\" src=\"https://blog.flexfits.com/wp-content/uploads/2020/11/Smoothie-Blog-Image-1024x545.jpg\" srcset=\"https://blog.flexfits.com/wp-content/uploads/2020/11/Smoothie-Blog-Image-1024x545.jpg 1024w, https://blog.flexfits.com/wp-content/uploads/2020/11/Smoothie-Blog-Image-300x160.jpg 300w, https://blog.flexfits.com/wp-content/uploads/2020/11/Smoothie-Blog-Image-768x409.jpg 768w, https://blog.flexfits.com/wp-content/uploads/2020/11/Smoothie-Blog-Image.jpg 1200w\" width=\"1024\"/></noscript></figure>\n",
            "<h4 class=\"wp-block-heading\">Ingredients: </h4>\n",
            "<ul>\n",
            "<li>½ avocado (fresh or frozen)</li>\n",
            "<li>2-3 big handfuls of fresh baby spinach </li>\n",
            "<li>⅓ cup plain Greek yogurt</li>\n",
            "<li>⅓ cup frozen banana slices</li>\n",
            "<li>⅓ cup frozen blueberries</li>\n",
            "<li>⅓ cup frozen raspberries</li>\n",
            "<li>1 ½ cups orange juice</li>\n",
            "<li>½ cup almond milk (or milk of choice)</li>\n",
            "<li>1 tbsp chia seeds</li>\n",
            "<li>1 tbsp flax seeds</li>\n",
            "<li>1 scoop collagen peptides or unflavored protein powder of your choice (optional)</li>\n",
            "</ul>\n",
            "<h4 class=\"wp-block-heading\">Instructions:</h4>\n",
            "<ol>\n",
            "<li>Place the avocado, Greek yogurt, frozen banana, and frozen berries in a blender.</li>\n",
            "<li>Add the chia seeds, flax seeds, and protein powder if desired, then shove in as much spinach as you can within your blender’s capacity (trust us on this – you won’t taste it!).</li>\n",
            "<li>Pour in the orange juice and almond milk (make sure you have enough liquid to cover the top of your other ingredients, but don’t overfill your blender). </li>\n",
            "<li>Blend for 1-2 minutes until everything is totally combined. If needed, add a couple ice cubes to thicken it up. Enjoy!</li>\n",
            "</ol>\n",
            "<div aria-hidden=\"true\" class=\"wp-block-spacer\" style=\"height:50px\"></div>\n",
            "<p class=\"has-text-align-left\"><em>This article is informational only. It is not offered as medical advice. It does not substitute a consultation with your physician. Please consult your physician if you have any gynecological/medical concerns or conditions.  </em></p>\n",
            "<p class=\"has-text-align-left has-small-font-size\">© 2023 The Flex Company. All Rights Reserved.</p>\n",
            "<div aria-hidden=\"true\" class=\"wp-block-spacer\" style=\"height:30px\"></div>\n",
            "</div>\n",
            " \n",
            " \n",
            "<div class=\"wp-block-column is-layout-flow wp-block-column-is-layout-flow\"></div>\n",
            " \n",
            " \n",
            "<div class=\"wp-block-column is-layout-flow wp-block-column-is-layout-flow\" style=\"flex-basis:100%\"></div>\n",
            " \n",
            " \n"
          ]
        }
      ]
    },
    {
      "cell_type": "code",
      "source": [
        "# getting recipes data block\n",
        "print(articles[4])\n",
        "script= articles[4]"
      ],
      "metadata": {
        "colab": {
          "base_uri": "https://localhost:8080/"
        },
        "id": "sB1inBEvp79t",
        "outputId": "59d477ae-8ff7-46bb-8f82-7534fda797ad"
      },
      "execution_count": 10,
      "outputs": [
        {
          "output_type": "stream",
          "name": "stdout",
          "text": [
            "<div class=\"wp-block-column is-layout-flow wp-block-column-is-layout-flow\" style=\"flex-basis:100%\">\n",
            "<h2 class=\"wp-block-heading\" id=\"jump1\">What to eat on your period: foods that help with period cramps (and actually taste good)</h2>\n",
            "<p>When you think about PMS or period food cravings, the first thing that comes to mind is usually cravings for chocolate – followed by salty chips, ice cream, and maybe a burger and fries, or Flaming Hot Cheetos.  </p>\n",
            "<p>Hormone fluctuations can lead to a decrease in blood sugar, creating an urge to eat sugary or carb-rich foods. This is because carbs are necessary for the production of serotonin, a chemical in the brain that promotes a feeling of well-being and happiness. <strong>Low serotonin levels may contribute to symptoms of PMS</strong>, such as premenstrual depression, fatigue, food cravings, and difficulty sleeping.</p>\n",
            "<p>It’s no wonder we crave these types of comfort foods around our period: They help distract us from painful menstrual cramps, fatigue, and the <a href=\"https://blog.flexfits.com/how-stress-affects-your-period/\" rel=\"noreferrer noopener\" target=\"_blank\">stress</a> that tends to ramp up right before period day one. Unfortunately, what we crave might not be what’s best for our bodies. Succumbing to that late-night Chick-Fil-A craving, red meat burgers, processed foods, and even spicy foods might actually leave you feeling worse.  </p>\n",
            "<p>On the flip side, <strong>many nutrient-rich foods help with </strong><a href=\"https://blog.flexfits.com/weird-ways-to-deal-with-pms-symptoms/\" rel=\"noreferrer noopener\" target=\"_blank\"><strong>cramps and Premenstrual Syndrome (PMS)</strong></a><strong>, by reducing their intensity or even making them disappear entirely.</strong> We’re not talking obscure, expensive herbs or potions – just the “boring” fruits and veggies you see lining the produce aisle of your average grocery store. Turns out, leafy greens and sweet potatoes have some pretty magical powers when it comes to reducing cramping and menstrual pain.  </p>\n",
            "<p>If you’re worried that getting the right nutrients during your period means sacrificing flavor, think again. We compiled a few Chrissy Teigen-worthy recipes of the best period comfort food that your body <em>and</em> your tastebuds will genuinely enjoy. Plus, they’re quick, easy to prepare, and can be done with limited kitchen equipment (read: even in your college dorm kitchen).  </p>\n",
            "<p>Kiss cramps, bloating, fatigue, and breakouts goodbye with these five recipes for PMS or period pain.  </p>\n",
            "<div aria-hidden=\"true\" class=\"wp-block-spacer\" style=\"height:25px\"></div>\n",
            "<h2 class=\"wp-block-heading\">The 5 best recipes for period cramps &amp; PMS</h2>\n",
            "<h3 class=\"wp-block-heading\" id=\"jump2\">1. Cinnamon dark chocolate chip overnight oats</h3>\n",
            "<p>What, did you think we wouldn’t include chocolate in at least one of these recipes? Of course we did. Even better, you get to eat it for breakfast (and it’s actually good for you). </p>\n",
            "<p>Dark chocolate is rich in magnesium: It contains 50 mg in every 1-oz serving. And studies have found that <strong>magnesium can be helpful in reducing PMS symptoms</strong>, especially mood swings and stress, which may be more common if you’re nutrient deficient.((Quaranta, S., Buscaglia, M.A., Meroni, M.G. et al. Pilot Study of the Efficacy and Safety of a Modified-Release Magnesium 250mg Tablet for the Treatment of Premenstrual Syndrome. <em>Clin. Drug Investig</em>. 27, 51–58 (2007). https://doi.org/10.2165/00044011-200727010-00004)) Magnesium may also ease headaches and curb sugar cravings.((Mauskop, A., Altura, B. T., Cracco, R. Q., &amp; Altura, B. M. (1996). Intravenous magnesium sulfate rapidly alleviates headaches of various types. <em>Headache</em>, 36(3), 154–160. https://doi.org/10.1046/j.1526-4610.1996.3603154.x)) </p>\n",
            "<p>While you can certainly get extra magnesium in supplement form, the best way for your body to absorb it is by consuming foods that are naturally magnesium-rich. So, consider dark chocolate your new PMS BFF – and for even more magnesium, add tofu, pumpkin seeds, avocados, and almonds to your diet during your period.((Magnesium-Rich Food Information. (2014, December 1). <em>Cleveland Clinic</em>. Retrieved from my.clevelandclinic.org/health/articles/15650-magnesium-rich-food)) </p>\n",
            "<figure class=\"wp-block-image size-large\"><a href=\"https://flexfits.com/products/pms-eraser-pms-gummies?_ga=2.126518861.1907397882.1694544725-921151436.1690404204\"><img alt=\"pms eraser pms gummies\" class=\"wp-image-13530 lazyload\" data-sizes=\"(max-width: 1024px) 100vw, 1024px\" data-src=\"https://blog.flexfits.com/wp-content/uploads/2023/07/230705_Blog_CTA_PMS-Eraser-1-1024x545.png\" data-srcset=\"https://blog.flexfits.com/wp-content/uploads/2023/07/230705_Blog_CTA_PMS-Eraser-1-1024x545.png 1024w, https://blog.flexfits.com/wp-content/uploads/2023/07/230705_Blog_CTA_PMS-Eraser-1-300x160.png 300w, https://blog.flexfits.com/wp-content/uploads/2023/07/230705_Blog_CTA_PMS-Eraser-1-768x409.png 768w, https://blog.flexfits.com/wp-content/uploads/2023/07/230705_Blog_CTA_PMS-Eraser-1-1536x818.png 1536w, https://blog.flexfits.com/wp-content/uploads/2023/07/230705_Blog_CTA_PMS-Eraser-1.png 2000w\" decoding=\"async\" fetchpriority=\"high\" height=\"545\" src=\"data:image/gif;base64,R0lGODlhAQABAAAAACH5BAEKAAEALAAAAAABAAEAAAICTAEAOw==\" width=\"1024\"/><noscript><img alt=\"pms eraser pms gummies\" class=\"wp-image-13530\" decoding=\"async\" fetchpriority=\"high\" height=\"545\" sizes=\"(max-width: 1024px) 100vw, 1024px\" src=\"https://blog.flexfits.com/wp-content/uploads/2023/07/230705_Blog_CTA_PMS-Eraser-1-1024x545.png\" srcset=\"https://blog.flexfits.com/wp-content/uploads/2023/07/230705_Blog_CTA_PMS-Eraser-1-1024x545.png 1024w, https://blog.flexfits.com/wp-content/uploads/2023/07/230705_Blog_CTA_PMS-Eraser-1-300x160.png 300w, https://blog.flexfits.com/wp-content/uploads/2023/07/230705_Blog_CTA_PMS-Eraser-1-768x409.png 768w, https://blog.flexfits.com/wp-content/uploads/2023/07/230705_Blog_CTA_PMS-Eraser-1-1536x818.png 1536w, https://blog.flexfits.com/wp-content/uploads/2023/07/230705_Blog_CTA_PMS-Eraser-1.png 2000w\" width=\"1024\"/></noscript></a></figure>\n",
            "<p>Other helpful ingredients in this overnight oats recipe include cinnamon, which has also been shown to improve pain, nausea, and vomiting associated with primary dysmenorrhea,<sup><a class=\"footnote-link footnote-identifier-link\" href=\"#footnote_0_5024\" id=\"identifier_0_5024\" title=\"Jaafarpour, M., Hatefi, M., Najafi, F., Khajavikhan, J., &amp; Khani, A. (2015). The effect of cinnamon on menstrual bleeding and systemic symptoms with primary dysmenorrhea. Iranian Red Crescent medical journal, 17(4), e27032. https://doi.org/10.5812/ircmj.17(4)2015.27032\">1</a></sup> chia seeds, which contain omega-3 fatty acids, and Greek yogurt, which contains probiotics that can help with bloating and digestive discomfort.((Bertazzoni Minelli, E., Benini, A., Vicentini, L., Andreoli, E., Oselladore, M., &amp; Cerutti, R. (1996). Effect of lactobacillus acidophilus and Bifidobacterium bifidum administration on colonic microbiota and its metabolic activity in premenstrual syndrome. <em>Microbial Ecology in Health and Disease</em>, 9(6), 247-260. https://doi.org/10.3109/08910609609166465)) Oh, and the bananas have magnesium, too!  </p>\n",
            "<h4 class=\"wp-block-heading\">Ingredients:</h4>\n",
            "<ul>\n",
            "<li>½ cup rolled oats (Old Fashioned, not Instant)</li>\n",
            "<li>½ cup almond milk (or cow’s milk, oat milk, soy milk – whatever milk you’re loyal to) </li>\n",
            "<li>1-2 tbsp pure maple syrup (the real kind, please) or honey</li>\n",
            "<li>½ tsp cinnamon</li>\n",
            "<li>½ tsp unsweetened cocoa powder</li>\n",
            "<li>2 tbsp dark chocolate chips </li>\n",
            "<li>⅓ cup plain Greek yogurt </li>\n",
            "<li>¼ tsp vanilla extract (optional)</li>\n",
            "<li>1 tsp chia seeds (optional) </li>\n",
            "<li>1 banana (optional)</li>\n",
            "</ul>\n",
            "<h4 class=\"wp-block-heading\">Instructions:</h4>\n",
            "<ol>\n",
            "<li>The night before: Mix all the ingredients EXCEPT the banana in a bowl or mason jar, preferably one with a lid. </li>\n",
            "<li>Place the covered bowl or mason jar in the refrigerator overnight (or for at least 6 hours). </li>\n",
            "<li>The morning of: Grab a banana, slice ‘er up any way you like, and place it on top of your oats. Enjoy!</li>\n",
            "</ol>\n",
            "<div aria-hidden=\"true\" class=\"wp-block-spacer\" style=\"height:25px\"></div>\n",
            "<h3 class=\"wp-block-heading\" id=\"jump3\">2. Sheet pan pesto salmon with roasted sweet potato &amp; broccoli rabe</h3>\n",
            "<p>When you have your period and you’re totally wiped out, it’s hard to get up the motivation to cook dinner. Make it as easy as possible for yourself with this single-sheet pan dinner.</p>\n",
            "<p>You’ll have plenty of leftover pesto, too, to use up later in the week for pasta or a salad. The powerhouse ingredients will make you feel amazing any day of the month, but they’re especially helpful when you’re on your period. Here’s why: </p>\n",
            "<p>First, salmon is rich in omega-3 fatty acids,((Omega-3-rich foods: Good for your heart. (2013, November 1). <em>Harvard Health</em>. Retrieved from health.harvard.edu/heart-health/omega-3-rich-foods-good-for-your-heart)) which are beneficial for so many different aspects of your health. In terms of period pain, <strong>omega-3s have been shown to reduce both the mental symptoms of PMS (like depression, nervousness, anxiety, and lack of concentration) and the physical symptoms (like bloating, headache, and breast tenderness).</strong>((Sohrabi, N., Kashanian, M., Ghafoori, S. S., &amp; Malakouti, S. K. (2013). Evaluation of the effect of omega-3 fatty acids in the treatment of premenstrual syndrome: “a pilot trial”. <em>Complementary therapies in medicine</em>, 21(3), 141–146. https://doi.org/10.1016/j.ctim.2012.12.008)) </p>\n",
            "<p>Salmon has 1,900 mg of omega-3s per 3 oz serving – and the walnuts in the pesto pack a punch, too, with 2,570 mg per ounce.((Hjalmarsdottir, F. (2019, September 30). 12 Foods That Are Very High in Omega-3. <em>Healthline</em>. Retrieved from healthline.com/nutrition/12-omega-3-rich-foods)) The sweet potato offers complex carbohydrates (the good ones!) and lots of Vitamin B6, which has also been studied for its PMS-relieving effects,((Fathizadeh, N., Ebrahimi, E., Valiani, M., Tavakoli, N., &amp; Yar, M. H. (2010). Evaluating the effect of magnesium and magnesium plus vitamin B6 supplement on the severity of premenstrual syndrome. <em>Iranian journal of nursing and midwifery research</em>, 15(Suppl 1), 401–405.)) plus Vitamin C for an immune system boost. </p>\n",
            "<figure class=\"wp-block-image size-large\"><a href=\"https://flexfits.com/products/chill-pill-stress-gummies?_ga=2.84438873.1907397882.1694544725-921151436.1690404204\"><img alt=\"chill pill stress supplement\" class=\"wp-image-13527 lazyload\" data-sizes=\"(max-width: 1024px) 100vw, 1024px\" data-src=\"https://blog.flexfits.com/wp-content/uploads/2023/07/230705_Blog_CTA_Chill-Pill-1-1024x545.png\" data-srcset=\"https://blog.flexfits.com/wp-content/uploads/2023/07/230705_Blog_CTA_Chill-Pill-1-1024x545.png 1024w, https://blog.flexfits.com/wp-content/uploads/2023/07/230705_Blog_CTA_Chill-Pill-1-300x160.png 300w, https://blog.flexfits.com/wp-content/uploads/2023/07/230705_Blog_CTA_Chill-Pill-1-768x409.png 768w, https://blog.flexfits.com/wp-content/uploads/2023/07/230705_Blog_CTA_Chill-Pill-1-1536x818.png 1536w, https://blog.flexfits.com/wp-content/uploads/2023/07/230705_Blog_CTA_Chill-Pill-1.png 2000w\" decoding=\"async\" height=\"545\" src=\"data:image/gif;base64,R0lGODlhAQABAAAAACH5BAEKAAEALAAAAAABAAEAAAICTAEAOw==\" width=\"1024\"/><noscript><img alt=\"chill pill stress supplement\" class=\"wp-image-13527\" decoding=\"async\" height=\"545\" sizes=\"(max-width: 1024px) 100vw, 1024px\" src=\"https://blog.flexfits.com/wp-content/uploads/2023/07/230705_Blog_CTA_Chill-Pill-1-1024x545.png\" srcset=\"https://blog.flexfits.com/wp-content/uploads/2023/07/230705_Blog_CTA_Chill-Pill-1-1024x545.png 1024w, https://blog.flexfits.com/wp-content/uploads/2023/07/230705_Blog_CTA_Chill-Pill-1-300x160.png 300w, https://blog.flexfits.com/wp-content/uploads/2023/07/230705_Blog_CTA_Chill-Pill-1-768x409.png 768w, https://blog.flexfits.com/wp-content/uploads/2023/07/230705_Blog_CTA_Chill-Pill-1-1536x818.png 1536w, https://blog.flexfits.com/wp-content/uploads/2023/07/230705_Blog_CTA_Chill-Pill-1.png 2000w\" width=\"1024\"/></noscript></a></figure>\n",
            "<p>Finally, the broccoli rabe contains 100 mg of calcium in a 2/3rds-cup serving.((14 Non-Dairy Foods That Are High in Calcium. (2014, September 7). <em>Time</em>. Retrieved from time.com/3265401/14-high-calcium-foods/)) Calcium has been fairly extensively studied in correlation with premenstrual symptoms, and there’s a strong indication that high calcium intake reduces the risk of PMS.((Bertone-Johnson, E. R., Hankinson, S. E., Bendich, A., Johnson, S. R., Willett, W. C., &amp; Manson, J. E. (2005). Calcium and vitamin D intake and risk of incident premenstrual syndrome. <em>Archives of internal medicine</em>, 165(11), 1246–1252. https://doi.org/10.1001/archinte.165.11.1246))</p>\n",
            "<figure class=\"wp-block-image size-large\"><img alt=\"sheet pan pesto salmon \" class=\"wp-image-5043 lazyload\" data-sizes=\"(max-width: 1024px) 100vw, 1024px\" data-src=\"https://blog.flexfits.com/wp-content/uploads/2020/11/Salmon-1024x545.jpg\" data-srcset=\"https://blog.flexfits.com/wp-content/uploads/2020/11/Salmon-1024x545.jpg 1024w, https://blog.flexfits.com/wp-content/uploads/2020/11/Salmon-300x160.jpg 300w, https://blog.flexfits.com/wp-content/uploads/2020/11/Salmon-768x409.jpg 768w, https://blog.flexfits.com/wp-content/uploads/2020/11/Salmon.jpg 1200w\" decoding=\"async\" height=\"545\" src=\"data:image/gif;base64,R0lGODlhAQABAAAAACH5BAEKAAEALAAAAAABAAEAAAICTAEAOw==\" width=\"1024\"/><noscript><img alt=\"sheet pan pesto salmon \" class=\"wp-image-5043\" decoding=\"async\" height=\"545\" sizes=\"(max-width: 1024px) 100vw, 1024px\" src=\"https://blog.flexfits.com/wp-content/uploads/2020/11/Salmon-1024x545.jpg\" srcset=\"https://blog.flexfits.com/wp-content/uploads/2020/11/Salmon-1024x545.jpg 1024w, https://blog.flexfits.com/wp-content/uploads/2020/11/Salmon-300x160.jpg 300w, https://blog.flexfits.com/wp-content/uploads/2020/11/Salmon-768x409.jpg 768w, https://blog.flexfits.com/wp-content/uploads/2020/11/Salmon.jpg 1200w\" width=\"1024\"/></noscript></figure>\n",
            "<h4 class=\"wp-block-heading\">Ingredients:</h4>\n",
            "<ul>\n",
            "<li>2 (6oz.) salmon fillets (wild-caught is our favorite if you can find it)</li>\n",
            "<li>1 cup broccoli rabe, trimmed with tough stems removed</li>\n",
            "<li>1 ½ sweet potatoes, cubed</li>\n",
            "<li>½ tsp smoked paprika</li>\n",
            "<li>1 tbsp extra virgin olive oil</li>\n",
            "<li>Salt and pepper, to taste</li>\n",
            "<li>1 lemon, sliced into wedges</li>\n",
            "</ul>\n",
            "<p><em>For the pesto: </em></p>\n",
            "<ul>\n",
            "<li>1/3 cup walnuts</li>\n",
            "<li>2 large garlic cloves, roughly chopped</li>\n",
            "<li>2 cups gently packed *fresh* basil leaves</li>\n",
            "<li>1/2 teaspoon salt</li>\n",
            "<li>1/4 teaspoon ground black pepper</li>\n",
            "<li>2/3 cup extra virgin olive oil</li>\n",
            "<li>1/2 cup grated parmesan cheese</li>\n",
            "</ul>\n",
            "<h4 class=\"wp-block-heading\">Instructions:</h4>\n",
            "<ol>\n",
            "<li>Preheat the oven to 400° F.</li>\n",
            "<li>Spray a large sheet pan with non-stick spray or cover with parchment paper.</li>\n",
            "<li>Make the pesto: Place the walnuts and garlic in a food processor and pulse until chopped. Add the basil, salt, and pepper, and pulse until the mixture looks like a thick paste. Then, with the food processor running, add your olive oil in a steady stream until fully incorporated. Add the parmesan and pulse 30 seconds more. Store in a mason jar for up to a week in the fridge. </li>\n",
            "<li>Toss cubed sweet potatoes in a bowl with ½ tablespoon of olive oil, salt, and smoked paprika. Spread on one side of the sheet pan in an even layer. </li>\n",
            "<li>Place sweet potatoes in the oven for 15 minutes until partially cooked. Remove the pan from the oven, flip the sweet potatoes. </li>\n",
            "<li>Toss broccoli rabe with the other ½ tablespoon of olive oil, salt and pepper and spread on the other side of the sheet pan, leaving enough room for your salmon fillets. </li>\n",
            "<li>Place salmon fillets in the middle of the sheet pan and top each with a heaping spoonful of your homemade pesto so it covers each fillet. Place 1 lemon wedge on each fillet. </li>\n",
            "<li>Place the sheet pan back in the oven and bake for 15 minutes (you may need to leave the salmon in a couple of minutes longer depending on thickness). </li>\n",
            "</ol>\n",
            "<figure class=\"wp-block-image size-full\"><a href=\"https://flexfits.com/products/flex-reusable-disc?_ga=2.65803182.1219824736.1694137085-531229269.1689781115\"><img alt=\"flex reusable menstrual disc\" class=\"wp-image-13582 lazyload\" data-sizes=\"(max-width: 1024px) 100vw, 1024px\" data-src=\"https://blog.flexfits.com/wp-content/uploads/2023/08/image-1.png\" data-srcset=\"https://blog.flexfits.com/wp-content/uploads/2023/08/image-1.png 1024w, https://blog.flexfits.com/wp-content/uploads/2023/08/image-1-300x160.png 300w, https://blog.flexfits.com/wp-content/uploads/2023/08/image-1-768x409.png 768w\" decoding=\"async\" height=\"545\" src=\"data:image/gif;base64,R0lGODlhAQABAAAAACH5BAEKAAEALAAAAAABAAEAAAICTAEAOw==\" width=\"1024\"/><noscript><img alt=\"flex reusable menstrual disc\" class=\"wp-image-13582\" decoding=\"async\" height=\"545\" sizes=\"(max-width: 1024px) 100vw, 1024px\" src=\"https://blog.flexfits.com/wp-content/uploads/2023/08/image-1.png\" srcset=\"https://blog.flexfits.com/wp-content/uploads/2023/08/image-1.png 1024w, https://blog.flexfits.com/wp-content/uploads/2023/08/image-1-300x160.png 300w, https://blog.flexfits.com/wp-content/uploads/2023/08/image-1-768x409.png 768w\" width=\"1024\"/></noscript></a></figure>\n",
            "<div aria-hidden=\"true\" class=\"wp-block-spacer\" style=\"height:25px\"></div>\n",
            "<h3 class=\"wp-block-heading\" id=\"jump4\">3. Thai ginger chicken stir fry</h3>\n",
            "<p>If your usual habit is ordering takeout during your period from the local Chinese or Thai hole in the wall, you may be surprised by how easily you can recreate your favorite meals at home – but way healthier and, TBH, better tasting. This simple recipe is ready in under 30 minutes and is almost impossible to mess up.  </p>\n",
            "<p>How will it help your period, though? Well, for starters, the plentiful <strong>fresh ginger may significantly reduce period pain</strong>, a.k.a. dysmenorrhea: One 2012 study found that ginger “may be an effective and safe therapy for relieving pain in women with primary dysmenorrhea if administered at the onset or during the 3 days prior to menstruation.”((Rahnama, P., Montazeri, A., Huseini, H. F., Kianbakht, S., &amp; Naseri, M. (2012). Effect of Zingiber officinale R. rhizomes (ginger) on pain relief in primary dysmenorrhea: a placebo randomized trial. <em>BMC complementary and alternative medicine</em>, 12, 92. https://doi.org/10.1186/1472-6882-12-92)) Plus, ginger has long been used to remedy an upset stomach – and it just tastes good, so don’t skimp!</p>\n",
            "<p>Then you have baby bok choy, which contains loads of PMS-busting calcium (see above for the benefits of calcium for period pain) and is a great source of vitamin A, vitamin C, and potassium.((14 Non-Dairy Foods That Are High in Calcium. (2014, September 7). <em>Time</em>. Retrieved from time.com/3265401/14-high-calcium-foods/)) The shiitake mushrooms may have an anti-inflammatory effect, too.((Finimundy, T. C., Dillon, A. J., Henriques, J. A., &amp; Ely, M. R. (2014). A review on general nutritional compounds and pharmacological properties the Lentinula edodes Mushroom. <em>Food and Nutrition Sciences</em>, 05(12), 1095-1105. https://doi.org/10.4236/fns.2014.512119))</p>\n",
            "<h4 class=\"wp-block-heading\">Ingredients: </h4>\n",
            "<ul>\n",
            "<li>1 lb boneless, skinless chicken breast, cut into strips or bite-sized pieces</li>\n",
            "<li>2 tablespoons avocado oil</li>\n",
            "<li>3 cloves garlic, minced</li>\n",
            "<li>1 tablespoon fish sauce</li>\n",
            "<li>1 tablespoon soy sauce (or coconut aminos)</li>\n",
            "<li>2 tablespoons oyster sauce</li>\n",
            "<li>1 tablespoon honey</li>\n",
            "<li>1 tsp sriracha sauce (optional)</li>\n",
            "<li>½ cup fresh ginger, cut into matchsticks</li>\n",
            "<li>1 red bell pepper, cut into strips</li>\n",
            "<li>2 cups baby bok choy leaves, cleaned with ends trimmed</li>\n",
            "<li>¾ cup sliced shiitake mushrooms</li>\n",
            "<li>Salt and pepper to taste</li>\n",
            "<li>2 tablespoons fresh basil leaves or cilantro (optional)</li>\n",
            "<li>1 cup cooked brown rice</li>\n",
            "</ul>\n",
            "<h4 class=\"wp-block-heading\">Instructions:</h4>\n",
            "<ol>\n",
            "<li>Stir the fish sauce, soy sauce, oyster sauce, sriracha sauce, garlic, and honey in a small bowl until combined. </li>\n",
            "<li>Heat the avocado oil in a large frying pan or wok over medium-high heat. </li>\n",
            "<li>Season the chicken breast pieces with salt and pepper, then transfer to the pan and cook, stirring occasionally, until browned on all sides and nearly cooked through. </li>\n",
            "<li>Add the mushrooms, bell pepper, and ginger to the pan and stir fry for another 2 minutes. Then, turn the heat up to high and pour in the sauce, stirring right away (it should sizzle). Let the sauce thicken for a minute or so, then lower the heat and continue to cook on medium for another 2-3 minutes, or until chicken is cooked through. Add the bok choy leaves and stir gently, allowing them to wilt down slightly. </li>\n",
            "<li>Divide the rice between two bowls, top each bowl with stir fry, and garnish with basil or cilantro.</li>\n",
            "</ol>\n",
            "<div aria-hidden=\"true\" class=\"wp-block-spacer\" style=\"height:25px\"></div>\n",
            "<h3 class=\"wp-block-heading\" id=\"jump5\">4. Any-meal avocado toast</h3>\n",
            "<p>The avocado is pretty much the queen of health foods – it adds an amazing dimension of flavor and texture to just about any savory meal, whether breakfast, lunch, or dinner, and even tastes great on its own with a simple slice of bread. We can do better than bland ‘cado toast, though: This recipe makes a meal out of what might otherwise be considered a snack, and it has the perfect balance of salt, spice, crunch, and lemony pizzazz.  </p>\n",
            "<p>Why is it good for your period? Well, <strong>avocados have tons of magnesium, plus iron and potassium</strong>. The magnesium (as mentioned in the Overnight Oats recipe) can help with mood swings, stress, and the emotional burnout we often feel during our period.((Quaranta, S., Buscaglia, M.A., Meroni, M.G. et al. Pilot Study of the Efficacy and Safety of a Modified-Release Magnesium 250mg Tablet for the Treatment of Premenstrual Syndrome. <em>Clin. Drug Investig</em>. 27, 51–58 (2007). https://doi.org/10.2165/00044011-200727010-00004)) </p>\n",
            "<p>The iron is great if you experience especially heavy periods: The more blood you shed, the more prone you are to anemia (or an iron deficiency).((Peuranpää, P., Heliövaara‐Peippo, S., Fraser, I., Paavonen, J., &amp; Hurskainen, R. (2014). Effects of anemia and iron deficiency on quality of life in women with heavy menstrual bleeding. <em>Acta Obstet Gynecol Scand</em>, 93, 654-660. https://doi.org/10.1111/aogs.12394)) The pumpkin seeds have TONS of iron, too, so you’re pretty much fully covered in that department.  </p>\n",
            "<p>For added protein, top your toast with a fried or poached egg: You’ll benefit from the Vitamin D, which helps your body absorb the much-needed, PMS-fighting calcium found in other foods. Bonus points for multigrain bread made with flax seeds, which contain omega-3 fatty acids.  </p>\n",
            "<h4 class=\"wp-block-heading\">Ingredients: </h4>\n",
            "<ul>\n",
            "<li>1 avocado, quartered and then thinly sliced</li>\n",
            "<li>2 small slices or one large slice multi-seed or multigrain + flax seed bread, toasted</li>\n",
            "<li>½ lemon</li>\n",
            "<li>1 small radish, thinly sliced</li>\n",
            "<li>2 tbsp roasted pumpkin seeds (salted or unsalted)</li>\n",
            "<li>¼ tsp smoked paprika</li>\n",
            "<li>½ tsp everything bagel seasoning</li>\n",
            "<li>Salt and pepper to taste</li>\n",
            "<li>1 tsp extra virgin olive oil </li>\n",
            "<li>1 egg (optional)</li>\n",
            "</ul>\n",
            "<h4 class=\"wp-block-heading\">Instructions:</h4>\n",
            "<ol>\n",
            "<li>Arrange the avocado slices on your toasted bread in an even layer.</li>\n",
            "<li>Arrange the radish slices on top of the avocado.</li>\n",
            "<li>Squeeze a bit of lemon juice over both slices (or your single slice).</li>\n",
            "<li>Sprinkle on the pumpkin seeds, paprika, everything bagel seasoning, salt, and pepper.</li>\n",
            "<li>Add a drizzle of olive oil, if desired. </li>\n",
            "<li>Want to make it a more filling meal? Fry or poach your egg and put that on top, too!</li>\n",
            "</ol>\n",
            "<div aria-hidden=\"true\" class=\"wp-block-spacer\" style=\"height:25px\"></div>\n",
            "<figure class=\"wp-block-image size-large\"><a href=\"https://flexfits.com/products/flex-cup-starter-kit\"><img alt=\"period care essentials\" class=\"wp-image-13116 lazyload\" data-sizes=\"(max-width: 1024px) 100vw, 1024px\" data-src=\"https://blog.flexfits.com/wp-content/uploads/2022/11/221108_blog_blogbuttons_04-1024x545.png\" data-srcset=\"https://blog.flexfits.com/wp-content/uploads/2022/11/221108_blog_blogbuttons_04-1024x545.png 1024w, https://blog.flexfits.com/wp-content/uploads/2022/11/221108_blog_blogbuttons_04-300x160.png 300w, https://blog.flexfits.com/wp-content/uploads/2022/11/221108_blog_blogbuttons_04-768x409.png 768w, https://blog.flexfits.com/wp-content/uploads/2022/11/221108_blog_blogbuttons_04-1536x818.png 1536w, https://blog.flexfits.com/wp-content/uploads/2022/11/221108_blog_blogbuttons_04.png 2000w\" decoding=\"async\" height=\"545\" src=\"data:image/gif;base64,R0lGODlhAQABAAAAACH5BAEKAAEALAAAAAABAAEAAAICTAEAOw==\" width=\"1024\"/><noscript><img alt=\"period care essentials\" class=\"wp-image-13116\" decoding=\"async\" height=\"545\" sizes=\"(max-width: 1024px) 100vw, 1024px\" src=\"https://blog.flexfits.com/wp-content/uploads/2022/11/221108_blog_blogbuttons_04-1024x545.png\" srcset=\"https://blog.flexfits.com/wp-content/uploads/2022/11/221108_blog_blogbuttons_04-1024x545.png 1024w, https://blog.flexfits.com/wp-content/uploads/2022/11/221108_blog_blogbuttons_04-300x160.png 300w, https://blog.flexfits.com/wp-content/uploads/2022/11/221108_blog_blogbuttons_04-768x409.png 768w, https://blog.flexfits.com/wp-content/uploads/2022/11/221108_blog_blogbuttons_04-1536x818.png 1536w, https://blog.flexfits.com/wp-content/uploads/2022/11/221108_blog_blogbuttons_04.png 2000w\" width=\"1024\"/></noscript></a></figure>\n",
            "<div aria-hidden=\"true\" class=\"wp-block-spacer\" style=\"height:25px\"></div>\n",
            "<h3 class=\"wp-block-heading\" id=\"jump6\">5. Glow-up “salad in a smoothie”</h3>\n",
            "<p>This last recipe is another versatile, “in-between” type of meal: Have it for breakfast, as a post-workout pick-me-up, or even as a light lunch or dinner. You can add more protein powder or tofu if you want to make it heartier (or skip those ingredients if you don’t have ‘em on hand – no big deal). Keep frozen fruit in your freezer at all times for quick, simple smoothies on the go.  </p>\n",
            "<p>Period-wise, just about every ingredient in this smoothie has something to offer. There’s the avocado which, as mentioned, <strong>gives you healthy fats, cramp-relieving magnesium, and iron.</strong>((Quaranta, S., Buscaglia, M.A., Meroni, M.G. et al. Pilot Study of the Efficacy and Safety of a Modified-Release Magnesium 250mg Tablet for the Treatment of Premenstrual Syndrome. <em>Clin. Drug Investig</em>. 27, 51–58 (2007). https://doi.org/10.2165/00044011-200727010-00004)) There’s the spinach, which has even MORE iron than the avocado and is an all-around PMS powerhouse food with tons of calcium.((Gunnars, K. (2019, May 14). Spinach 101: Nutrition Facts and Health Benefits. <em>Healthline</em>. Retrieved from healthline.com/nutrition/foods/spinach)) </p>\n",
            "<p>The yogurt adds a probiotic boost. There’s the chia seeds and flax seeds with omega-3 fatty acids. And there’s enough berries and orange juice to hit more than 100% of your daily value of Vitamin C.((Robertson, R. (2020, August 19). The 8 Healthiest Berries You Can Eat. <em>Healthline</em>. Retrieved from healthline.com/nutrition/8-healthy-berries))</p>\n",
            "<figure class=\"wp-block-image size-large is-style-default\"><img alt=\"glow up smoothie\" class=\"wp-image-5045 lazyload\" data-sizes=\"(max-width: 1024px) 100vw, 1024px\" data-src=\"https://blog.flexfits.com/wp-content/uploads/2020/11/Smoothie-Blog-Image-1024x545.jpg\" data-srcset=\"https://blog.flexfits.com/wp-content/uploads/2020/11/Smoothie-Blog-Image-1024x545.jpg 1024w, https://blog.flexfits.com/wp-content/uploads/2020/11/Smoothie-Blog-Image-300x160.jpg 300w, https://blog.flexfits.com/wp-content/uploads/2020/11/Smoothie-Blog-Image-768x409.jpg 768w, https://blog.flexfits.com/wp-content/uploads/2020/11/Smoothie-Blog-Image.jpg 1200w\" decoding=\"async\" height=\"545\" src=\"data:image/gif;base64,R0lGODlhAQABAAAAACH5BAEKAAEALAAAAAABAAEAAAICTAEAOw==\" width=\"1024\"/><noscript><img alt=\"glow up smoothie\" class=\"wp-image-5045\" decoding=\"async\" height=\"545\" sizes=\"(max-width: 1024px) 100vw, 1024px\" src=\"https://blog.flexfits.com/wp-content/uploads/2020/11/Smoothie-Blog-Image-1024x545.jpg\" srcset=\"https://blog.flexfits.com/wp-content/uploads/2020/11/Smoothie-Blog-Image-1024x545.jpg 1024w, https://blog.flexfits.com/wp-content/uploads/2020/11/Smoothie-Blog-Image-300x160.jpg 300w, https://blog.flexfits.com/wp-content/uploads/2020/11/Smoothie-Blog-Image-768x409.jpg 768w, https://blog.flexfits.com/wp-content/uploads/2020/11/Smoothie-Blog-Image.jpg 1200w\" width=\"1024\"/></noscript></figure>\n",
            "<h4 class=\"wp-block-heading\">Ingredients: </h4>\n",
            "<ul>\n",
            "<li>½ avocado (fresh or frozen)</li>\n",
            "<li>2-3 big handfuls of fresh baby spinach </li>\n",
            "<li>⅓ cup plain Greek yogurt</li>\n",
            "<li>⅓ cup frozen banana slices</li>\n",
            "<li>⅓ cup frozen blueberries</li>\n",
            "<li>⅓ cup frozen raspberries</li>\n",
            "<li>1 ½ cups orange juice</li>\n",
            "<li>½ cup almond milk (or milk of choice)</li>\n",
            "<li>1 tbsp chia seeds</li>\n",
            "<li>1 tbsp flax seeds</li>\n",
            "<li>1 scoop collagen peptides or unflavored protein powder of your choice (optional)</li>\n",
            "</ul>\n",
            "<h4 class=\"wp-block-heading\">Instructions:</h4>\n",
            "<ol>\n",
            "<li>Place the avocado, Greek yogurt, frozen banana, and frozen berries in a blender.</li>\n",
            "<li>Add the chia seeds, flax seeds, and protein powder if desired, then shove in as much spinach as you can within your blender’s capacity (trust us on this – you won’t taste it!).</li>\n",
            "<li>Pour in the orange juice and almond milk (make sure you have enough liquid to cover the top of your other ingredients, but don’t overfill your blender). </li>\n",
            "<li>Blend for 1-2 minutes until everything is totally combined. If needed, add a couple ice cubes to thicken it up. Enjoy!</li>\n",
            "</ol>\n",
            "<div aria-hidden=\"true\" class=\"wp-block-spacer\" style=\"height:50px\"></div>\n",
            "<p class=\"has-text-align-left\"><em>This article is informational only. It is not offered as medical advice. It does not substitute a consultation with your physician. Please consult your physician if you have any gynecological/medical concerns or conditions.  </em></p>\n",
            "<p class=\"has-text-align-left has-small-font-size\">© 2023 The Flex Company. All Rights Reserved.</p>\n",
            "<div aria-hidden=\"true\" class=\"wp-block-spacer\" style=\"height:30px\"></div>\n",
            "</div>\n"
          ]
        }
      ]
    },
    {
      "cell_type": "markdown",
      "source": [
        "## dishes"
      ],
      "metadata": {
        "id": "ylME1EtP7pux"
      }
    },
    {
      "cell_type": "code",
      "source": [
        "# print recipes' title code\n",
        "title= script.find_all('h3')\n",
        "print(title)"
      ],
      "metadata": {
        "colab": {
          "base_uri": "https://localhost:8080/"
        },
        "id": "1ecpq11glLRW",
        "outputId": "f179e411-c311-46dc-b500-4dd2427cbb2d"
      },
      "execution_count": 11,
      "outputs": [
        {
          "output_type": "stream",
          "name": "stdout",
          "text": [
            "[<h3 class=\"wp-block-heading\" id=\"jump2\">1. Cinnamon dark chocolate chip overnight oats</h3>, <h3 class=\"wp-block-heading\" id=\"jump3\">2. Sheet pan pesto salmon with roasted sweet potato &amp; broccoli rabe</h3>, <h3 class=\"wp-block-heading\" id=\"jump4\">3. Thai ginger chicken stir fry</h3>, <h3 class=\"wp-block-heading\" id=\"jump5\">4. Any-meal avocado toast</h3>, <h3 class=\"wp-block-heading\" id=\"jump6\">5. Glow-up “salad in a smoothie”</h3>]\n"
          ]
        }
      ]
    },
    {
      "cell_type": "code",
      "source": [
        "# get content from recipes' title code and convert to list\n",
        "\n",
        "titles=['','','','','']\n",
        "count=0\n",
        "for dish in title:\n",
        "  titles[count]= dish.text\n",
        "  count=count+1\n",
        "  print(dish.text)"
      ],
      "metadata": {
        "colab": {
          "base_uri": "https://localhost:8080/"
        },
        "id": "0S7RjrfM6yT6",
        "outputId": "39cfa01e-84a4-406b-be77-22912d17f1f3"
      },
      "execution_count": 12,
      "outputs": [
        {
          "output_type": "stream",
          "name": "stdout",
          "text": [
            "1. Cinnamon dark chocolate chip overnight oats\n",
            "2. Sheet pan pesto salmon with roasted sweet potato & broccoli rabe\n",
            "3. Thai ginger chicken stir fry\n",
            "4. Any-meal avocado toast\n",
            "5. Glow-up “salad in a smoothie”\n"
          ]
        }
      ]
    },
    {
      "cell_type": "code",
      "source": [
        "# print recipes' titles\n",
        "print(titles)"
      ],
      "metadata": {
        "colab": {
          "base_uri": "https://localhost:8080/"
        },
        "id": "G6ziDV9_gO_O",
        "outputId": "7ad8dd71-c4f1-4fb2-ba3b-aa434ffad4cf"
      },
      "execution_count": 13,
      "outputs": [
        {
          "output_type": "stream",
          "name": "stdout",
          "text": [
            "['1. Cinnamon dark chocolate chip overnight oats', '2. Sheet pan pesto salmon with roasted sweet potato & broccoli rabe', '3. Thai ginger chicken stir fry', '4. Any-meal avocado toast', '5. Glow-up “salad in a smoothie”']\n"
          ]
        }
      ]
    },
    {
      "cell_type": "markdown",
      "source": [
        "##metadata"
      ],
      "metadata": {
        "id": "-eeSwEh37rkx"
      }
    },
    {
      "cell_type": "code",
      "source": [
        "#print recipes' content headings\n",
        "m_data= script.find_all('h4')\n",
        "print(m_data)\n",
        "#print(m_data[0])"
      ],
      "metadata": {
        "colab": {
          "base_uri": "https://localhost:8080/"
        },
        "id": "787GX6Mh65SA",
        "outputId": "9d37f375-9fee-4113-aa45-a1ff722ba662"
      },
      "execution_count": 14,
      "outputs": [
        {
          "output_type": "stream",
          "name": "stdout",
          "text": [
            "[<h4 class=\"wp-block-heading\">Ingredients:</h4>, <h4 class=\"wp-block-heading\">Instructions:</h4>, <h4 class=\"wp-block-heading\">Ingredients:</h4>, <h4 class=\"wp-block-heading\">Instructions:</h4>, <h4 class=\"wp-block-heading\">Ingredients: </h4>, <h4 class=\"wp-block-heading\">Instructions:</h4>, <h4 class=\"wp-block-heading\">Ingredients: </h4>, <h4 class=\"wp-block-heading\">Instructions:</h4>, <h4 class=\"wp-block-heading\">Ingredients: </h4>, <h4 class=\"wp-block-heading\">Instructions:</h4>]\n"
          ]
        }
      ]
    },
    {
      "cell_type": "code",
      "source": [
        "for mData in m_data:\n",
        "  print(mData.text)"
      ],
      "metadata": {
        "colab": {
          "base_uri": "https://localhost:8080/"
        },
        "id": "x47dRZUy7m74",
        "outputId": "b04a9f49-64d9-454d-9241-115545b29f12"
      },
      "execution_count": 15,
      "outputs": [
        {
          "output_type": "stream",
          "name": "stdout",
          "text": [
            "Ingredients:\n",
            "Instructions:\n",
            "Ingredients:\n",
            "Instructions:\n",
            "Ingredients: \n",
            "Instructions:\n",
            "Ingredients: \n",
            "Instructions:\n",
            "Ingredients: \n",
            "Instructions:\n"
          ]
        }
      ]
    },
    {
      "cell_type": "code",
      "source": [
        "# get all ingredients\n",
        "ingr= script.find_all('ul')\n",
        "print(ingr)"
      ],
      "metadata": {
        "colab": {
          "base_uri": "https://localhost:8080/"
        },
        "id": "cFhYYgtF7-FI",
        "outputId": "342618cf-8ef4-43f2-ea3c-22323a5f5ac2"
      },
      "execution_count": 16,
      "outputs": [
        {
          "output_type": "stream",
          "name": "stdout",
          "text": [
            "[<ul>\n",
            "<li>½ cup rolled oats (Old Fashioned, not Instant)</li>\n",
            "<li>½ cup almond milk (or cow’s milk, oat milk, soy milk – whatever milk you’re loyal to) </li>\n",
            "<li>1-2 tbsp pure maple syrup (the real kind, please) or honey</li>\n",
            "<li>½ tsp cinnamon</li>\n",
            "<li>½ tsp unsweetened cocoa powder</li>\n",
            "<li>2 tbsp dark chocolate chips </li>\n",
            "<li>⅓ cup plain Greek yogurt </li>\n",
            "<li>¼ tsp vanilla extract (optional)</li>\n",
            "<li>1 tsp chia seeds (optional) </li>\n",
            "<li>1 banana (optional)</li>\n",
            "</ul>, <ul>\n",
            "<li>2 (6oz.) salmon fillets (wild-caught is our favorite if you can find it)</li>\n",
            "<li>1 cup broccoli rabe, trimmed with tough stems removed</li>\n",
            "<li>1 ½ sweet potatoes, cubed</li>\n",
            "<li>½ tsp smoked paprika</li>\n",
            "<li>1 tbsp extra virgin olive oil</li>\n",
            "<li>Salt and pepper, to taste</li>\n",
            "<li>1 lemon, sliced into wedges</li>\n",
            "</ul>, <ul>\n",
            "<li>1/3 cup walnuts</li>\n",
            "<li>2 large garlic cloves, roughly chopped</li>\n",
            "<li>2 cups gently packed *fresh* basil leaves</li>\n",
            "<li>1/2 teaspoon salt</li>\n",
            "<li>1/4 teaspoon ground black pepper</li>\n",
            "<li>2/3 cup extra virgin olive oil</li>\n",
            "<li>1/2 cup grated parmesan cheese</li>\n",
            "</ul>, <ul>\n",
            "<li>1 lb boneless, skinless chicken breast, cut into strips or bite-sized pieces</li>\n",
            "<li>2 tablespoons avocado oil</li>\n",
            "<li>3 cloves garlic, minced</li>\n",
            "<li>1 tablespoon fish sauce</li>\n",
            "<li>1 tablespoon soy sauce (or coconut aminos)</li>\n",
            "<li>2 tablespoons oyster sauce</li>\n",
            "<li>1 tablespoon honey</li>\n",
            "<li>1 tsp sriracha sauce (optional)</li>\n",
            "<li>½ cup fresh ginger, cut into matchsticks</li>\n",
            "<li>1 red bell pepper, cut into strips</li>\n",
            "<li>2 cups baby bok choy leaves, cleaned with ends trimmed</li>\n",
            "<li>¾ cup sliced shiitake mushrooms</li>\n",
            "<li>Salt and pepper to taste</li>\n",
            "<li>2 tablespoons fresh basil leaves or cilantro (optional)</li>\n",
            "<li>1 cup cooked brown rice</li>\n",
            "</ul>, <ul>\n",
            "<li>1 avocado, quartered and then thinly sliced</li>\n",
            "<li>2 small slices or one large slice multi-seed or multigrain + flax seed bread, toasted</li>\n",
            "<li>½ lemon</li>\n",
            "<li>1 small radish, thinly sliced</li>\n",
            "<li>2 tbsp roasted pumpkin seeds (salted or unsalted)</li>\n",
            "<li>¼ tsp smoked paprika</li>\n",
            "<li>½ tsp everything bagel seasoning</li>\n",
            "<li>Salt and pepper to taste</li>\n",
            "<li>1 tsp extra virgin olive oil </li>\n",
            "<li>1 egg (optional)</li>\n",
            "</ul>, <ul>\n",
            "<li>½ avocado (fresh or frozen)</li>\n",
            "<li>2-3 big handfuls of fresh baby spinach </li>\n",
            "<li>⅓ cup plain Greek yogurt</li>\n",
            "<li>⅓ cup frozen banana slices</li>\n",
            "<li>⅓ cup frozen blueberries</li>\n",
            "<li>⅓ cup frozen raspberries</li>\n",
            "<li>1 ½ cups orange juice</li>\n",
            "<li>½ cup almond milk (or milk of choice)</li>\n",
            "<li>1 tbsp chia seeds</li>\n",
            "<li>1 tbsp flax seeds</li>\n",
            "<li>1 scoop collagen peptides or unflavored protein powder of your choice (optional)</li>\n",
            "</ul>]\n"
          ]
        }
      ]
    },
    {
      "cell_type": "code",
      "source": [
        "\n",
        "# get ingredients' text\n",
        "for i in ingr:\n",
        "  print('Ingredients:',i.text)"
      ],
      "metadata": {
        "colab": {
          "base_uri": "https://localhost:8080/"
        },
        "id": "mTsEk25-8zL1",
        "outputId": "75466766-5896-455b-9c3d-1f30df980c1e"
      },
      "execution_count": 17,
      "outputs": [
        {
          "output_type": "stream",
          "name": "stdout",
          "text": [
            "Ingredients: \n",
            "½ cup rolled oats (Old Fashioned, not Instant)\n",
            "½ cup almond milk (or cow’s milk, oat milk, soy milk – whatever milk you’re loyal to) \n",
            "1-2 tbsp pure maple syrup (the real kind, please) or honey\n",
            "½ tsp cinnamon\n",
            "½ tsp unsweetened cocoa powder\n",
            "2 tbsp dark chocolate chips \n",
            "⅓ cup plain Greek yogurt \n",
            "¼ tsp vanilla extract (optional)\n",
            "1 tsp chia seeds (optional) \n",
            "1 banana (optional)\n",
            "\n",
            "Ingredients: \n",
            "2 (6oz.) salmon fillets (wild-caught is our favorite if you can find it)\n",
            "1 cup broccoli rabe, trimmed with tough stems removed\n",
            "1 ½ sweet potatoes, cubed\n",
            "½ tsp smoked paprika\n",
            "1 tbsp extra virgin olive oil\n",
            "Salt and pepper, to taste\n",
            "1 lemon, sliced into wedges\n",
            "\n",
            "Ingredients: \n",
            "1/3 cup walnuts\n",
            "2 large garlic cloves, roughly chopped\n",
            "2 cups gently packed *fresh* basil leaves\n",
            "1/2 teaspoon salt\n",
            "1/4 teaspoon ground black pepper\n",
            "2/3 cup extra virgin olive oil\n",
            "1/2 cup grated parmesan cheese\n",
            "\n",
            "Ingredients: \n",
            "1 lb boneless, skinless chicken breast, cut into strips or bite-sized pieces\n",
            "2 tablespoons avocado oil\n",
            "3 cloves garlic, minced\n",
            "1 tablespoon fish sauce\n",
            "1 tablespoon soy sauce (or coconut aminos)\n",
            "2 tablespoons oyster sauce\n",
            "1 tablespoon honey\n",
            "1 tsp sriracha sauce (optional)\n",
            "½ cup fresh ginger, cut into matchsticks\n",
            "1 red bell pepper, cut into strips\n",
            "2 cups baby bok choy leaves, cleaned with ends trimmed\n",
            "¾ cup sliced shiitake mushrooms\n",
            "Salt and pepper to taste\n",
            "2 tablespoons fresh basil leaves or cilantro (optional)\n",
            "1 cup cooked brown rice\n",
            "\n",
            "Ingredients: \n",
            "1 avocado, quartered and then thinly sliced\n",
            "2 small slices or one large slice multi-seed or multigrain + flax seed bread, toasted\n",
            "½ lemon\n",
            "1 small radish, thinly sliced\n",
            "2 tbsp roasted pumpkin seeds (salted or unsalted)\n",
            "¼ tsp smoked paprika\n",
            "½ tsp everything bagel seasoning\n",
            "Salt and pepper to taste\n",
            "1 tsp extra virgin olive oil \n",
            "1 egg (optional)\n",
            "\n",
            "Ingredients: \n",
            "½ avocado (fresh or frozen)\n",
            "2-3 big handfuls of fresh baby spinach \n",
            "⅓ cup plain Greek yogurt\n",
            "⅓ cup frozen banana slices\n",
            "⅓ cup frozen blueberries\n",
            "⅓ cup frozen raspberries\n",
            "1 ½ cups orange juice\n",
            "½ cup almond milk (or milk of choice)\n",
            "1 tbsp chia seeds\n",
            "1 tbsp flax seeds\n",
            "1 scoop collagen peptides or unflavored protein powder of your choice (optional)\n",
            "\n"
          ]
        }
      ]
    },
    {
      "cell_type": "code",
      "source": [
        "# convert to list\n",
        "list=['','','','','','']\n",
        "\n",
        "count=0\n",
        "for i in ingr:\n",
        "  str= i.text\n",
        "  list[count]= str\n",
        "  count=count+1\n",
        "  print('Ingredients:',i.text)"
      ],
      "metadata": {
        "id": "g701WXcHQiP0",
        "colab": {
          "base_uri": "https://localhost:8080/"
        },
        "outputId": "d1b12869-6691-46ec-a2a7-d2a5b17f4bb0"
      },
      "execution_count": 18,
      "outputs": [
        {
          "output_type": "stream",
          "name": "stdout",
          "text": [
            "Ingredients: \n",
            "½ cup rolled oats (Old Fashioned, not Instant)\n",
            "½ cup almond milk (or cow’s milk, oat milk, soy milk – whatever milk you’re loyal to) \n",
            "1-2 tbsp pure maple syrup (the real kind, please) or honey\n",
            "½ tsp cinnamon\n",
            "½ tsp unsweetened cocoa powder\n",
            "2 tbsp dark chocolate chips \n",
            "⅓ cup plain Greek yogurt \n",
            "¼ tsp vanilla extract (optional)\n",
            "1 tsp chia seeds (optional) \n",
            "1 banana (optional)\n",
            "\n",
            "Ingredients: \n",
            "2 (6oz.) salmon fillets (wild-caught is our favorite if you can find it)\n",
            "1 cup broccoli rabe, trimmed with tough stems removed\n",
            "1 ½ sweet potatoes, cubed\n",
            "½ tsp smoked paprika\n",
            "1 tbsp extra virgin olive oil\n",
            "Salt and pepper, to taste\n",
            "1 lemon, sliced into wedges\n",
            "\n",
            "Ingredients: \n",
            "1/3 cup walnuts\n",
            "2 large garlic cloves, roughly chopped\n",
            "2 cups gently packed *fresh* basil leaves\n",
            "1/2 teaspoon salt\n",
            "1/4 teaspoon ground black pepper\n",
            "2/3 cup extra virgin olive oil\n",
            "1/2 cup grated parmesan cheese\n",
            "\n",
            "Ingredients: \n",
            "1 lb boneless, skinless chicken breast, cut into strips or bite-sized pieces\n",
            "2 tablespoons avocado oil\n",
            "3 cloves garlic, minced\n",
            "1 tablespoon fish sauce\n",
            "1 tablespoon soy sauce (or coconut aminos)\n",
            "2 tablespoons oyster sauce\n",
            "1 tablespoon honey\n",
            "1 tsp sriracha sauce (optional)\n",
            "½ cup fresh ginger, cut into matchsticks\n",
            "1 red bell pepper, cut into strips\n",
            "2 cups baby bok choy leaves, cleaned with ends trimmed\n",
            "¾ cup sliced shiitake mushrooms\n",
            "Salt and pepper to taste\n",
            "2 tablespoons fresh basil leaves or cilantro (optional)\n",
            "1 cup cooked brown rice\n",
            "\n",
            "Ingredients: \n",
            "1 avocado, quartered and then thinly sliced\n",
            "2 small slices or one large slice multi-seed or multigrain + flax seed bread, toasted\n",
            "½ lemon\n",
            "1 small radish, thinly sliced\n",
            "2 tbsp roasted pumpkin seeds (salted or unsalted)\n",
            "¼ tsp smoked paprika\n",
            "½ tsp everything bagel seasoning\n",
            "Salt and pepper to taste\n",
            "1 tsp extra virgin olive oil \n",
            "1 egg (optional)\n",
            "\n",
            "Ingredients: \n",
            "½ avocado (fresh or frozen)\n",
            "2-3 big handfuls of fresh baby spinach \n",
            "⅓ cup plain Greek yogurt\n",
            "⅓ cup frozen banana slices\n",
            "⅓ cup frozen blueberries\n",
            "⅓ cup frozen raspberries\n",
            "1 ½ cups orange juice\n",
            "½ cup almond milk (or milk of choice)\n",
            "1 tbsp chia seeds\n",
            "1 tbsp flax seeds\n",
            "1 scoop collagen peptides or unflavored protein powder of your choice (optional)\n",
            "\n"
          ]
        }
      ]
    },
    {
      "cell_type": "code",
      "source": [
        "print(list)"
      ],
      "metadata": {
        "colab": {
          "base_uri": "https://localhost:8080/"
        },
        "id": "eLlwzUDjUUUJ",
        "outputId": "a54d55d7-dc0b-4ad4-ddfc-b8f01397e6e2"
      },
      "execution_count": 19,
      "outputs": [
        {
          "output_type": "stream",
          "name": "stdout",
          "text": [
            "['\\n½ cup rolled oats (Old Fashioned, not Instant)\\n½ cup almond milk (or cow’s milk, oat milk, soy milk –\\xa0whatever milk you’re loyal to)\\xa0\\n1-2 tbsp pure maple syrup (the real kind, please) or honey\\n½ tsp cinnamon\\n½ tsp unsweetened cocoa powder\\n2 tbsp dark chocolate chips\\xa0\\n⅓ cup plain Greek yogurt\\xa0\\n¼ tsp vanilla extract (optional)\\n1 tsp chia seeds (optional)\\xa0\\n1 banana (optional)\\n', '\\n2 (6oz.) salmon fillets (wild-caught is our favorite if you can find it)\\n1 cup broccoli rabe, trimmed with tough stems removed\\n1 ½ sweet potatoes, cubed\\n½ tsp smoked paprika\\n1 tbsp extra virgin olive oil\\nSalt and pepper, to taste\\n1 lemon, sliced into wedges\\n', '\\n1/3 cup walnuts\\n2 large garlic cloves, roughly chopped\\n2 cups gently packed *fresh* basil leaves\\n1/2 teaspoon salt\\n1/4 teaspoon ground black pepper\\n2/3 cup extra virgin olive oil\\n1/2 cup grated parmesan cheese\\n', '\\n1 lb boneless, skinless chicken breast, cut into strips or bite-sized pieces\\n2 tablespoons avocado oil\\n3 cloves garlic, minced\\n1 tablespoon fish sauce\\n1 tablespoon soy sauce (or coconut aminos)\\n2 tablespoons oyster sauce\\n1 tablespoon honey\\n1 tsp sriracha sauce (optional)\\n½ cup fresh ginger, cut into matchsticks\\n1 red bell pepper, cut into strips\\n2 cups baby bok choy leaves, cleaned with ends trimmed\\n¾ cup sliced shiitake mushrooms\\nSalt and pepper to taste\\n2 tablespoons fresh basil leaves or cilantro (optional)\\n1 cup cooked brown rice\\n', '\\n1 avocado, quartered and then thinly sliced\\n2 small slices or one large slice multi-seed or multigrain + flax seed bread, toasted\\n½ lemon\\n1 small radish, thinly sliced\\n2 tbsp roasted pumpkin seeds (salted or unsalted)\\n¼ tsp smoked paprika\\n½ tsp everything bagel seasoning\\nSalt and pepper to taste\\n1 tsp extra virgin olive oil\\xa0\\n1 egg (optional)\\n', '\\n½ avocado (fresh or frozen)\\n2-3 big handfuls of fresh baby spinach\\xa0\\n⅓ cup plain Greek yogurt\\n⅓ cup frozen banana slices\\n⅓ cup frozen blueberries\\n⅓ cup frozen raspberries\\n1 ½ cups orange juice\\n½ cup almond milk (or milk of choice)\\n1 tbsp chia seeds\\n1 tbsp flax seeds\\n1 scoop collagen peptides or unflavored protein powder of your choice (optional)\\n']\n"
          ]
        }
      ]
    },
    {
      "cell_type": "code",
      "source": [
        "for i in list:\n",
        "  print(i)\n",
        "  print(' ')"
      ],
      "metadata": {
        "colab": {
          "base_uri": "https://localhost:8080/"
        },
        "id": "yIfChjTmUZf6",
        "outputId": "749a1981-726b-4033-ddfa-20a322989f92"
      },
      "execution_count": 20,
      "outputs": [
        {
          "output_type": "stream",
          "name": "stdout",
          "text": [
            "\n",
            "½ cup rolled oats (Old Fashioned, not Instant)\n",
            "½ cup almond milk (or cow’s milk, oat milk, soy milk – whatever milk you’re loyal to) \n",
            "1-2 tbsp pure maple syrup (the real kind, please) or honey\n",
            "½ tsp cinnamon\n",
            "½ tsp unsweetened cocoa powder\n",
            "2 tbsp dark chocolate chips \n",
            "⅓ cup plain Greek yogurt \n",
            "¼ tsp vanilla extract (optional)\n",
            "1 tsp chia seeds (optional) \n",
            "1 banana (optional)\n",
            "\n",
            " \n",
            "\n",
            "2 (6oz.) salmon fillets (wild-caught is our favorite if you can find it)\n",
            "1 cup broccoli rabe, trimmed with tough stems removed\n",
            "1 ½ sweet potatoes, cubed\n",
            "½ tsp smoked paprika\n",
            "1 tbsp extra virgin olive oil\n",
            "Salt and pepper, to taste\n",
            "1 lemon, sliced into wedges\n",
            "\n",
            " \n",
            "\n",
            "1/3 cup walnuts\n",
            "2 large garlic cloves, roughly chopped\n",
            "2 cups gently packed *fresh* basil leaves\n",
            "1/2 teaspoon salt\n",
            "1/4 teaspoon ground black pepper\n",
            "2/3 cup extra virgin olive oil\n",
            "1/2 cup grated parmesan cheese\n",
            "\n",
            " \n",
            "\n",
            "1 lb boneless, skinless chicken breast, cut into strips or bite-sized pieces\n",
            "2 tablespoons avocado oil\n",
            "3 cloves garlic, minced\n",
            "1 tablespoon fish sauce\n",
            "1 tablespoon soy sauce (or coconut aminos)\n",
            "2 tablespoons oyster sauce\n",
            "1 tablespoon honey\n",
            "1 tsp sriracha sauce (optional)\n",
            "½ cup fresh ginger, cut into matchsticks\n",
            "1 red bell pepper, cut into strips\n",
            "2 cups baby bok choy leaves, cleaned with ends trimmed\n",
            "¾ cup sliced shiitake mushrooms\n",
            "Salt and pepper to taste\n",
            "2 tablespoons fresh basil leaves or cilantro (optional)\n",
            "1 cup cooked brown rice\n",
            "\n",
            " \n",
            "\n",
            "1 avocado, quartered and then thinly sliced\n",
            "2 small slices or one large slice multi-seed or multigrain + flax seed bread, toasted\n",
            "½ lemon\n",
            "1 small radish, thinly sliced\n",
            "2 tbsp roasted pumpkin seeds (salted or unsalted)\n",
            "¼ tsp smoked paprika\n",
            "½ tsp everything bagel seasoning\n",
            "Salt and pepper to taste\n",
            "1 tsp extra virgin olive oil \n",
            "1 egg (optional)\n",
            "\n",
            " \n",
            "\n",
            "½ avocado (fresh or frozen)\n",
            "2-3 big handfuls of fresh baby spinach \n",
            "⅓ cup plain Greek yogurt\n",
            "⅓ cup frozen banana slices\n",
            "⅓ cup frozen blueberries\n",
            "⅓ cup frozen raspberries\n",
            "1 ½ cups orange juice\n",
            "½ cup almond milk (or milk of choice)\n",
            "1 tbsp chia seeds\n",
            "1 tbsp flax seeds\n",
            "1 scoop collagen peptides or unflavored protein powder of your choice (optional)\n",
            "\n",
            " \n"
          ]
        }
      ]
    },
    {
      "cell_type": "code",
      "source": [
        "print(list[1])"
      ],
      "metadata": {
        "colab": {
          "base_uri": "https://localhost:8080/"
        },
        "id": "-4q8R-cnVO7d",
        "outputId": "9123001f-16f6-4248-b4f7-f8dcc4f17283"
      },
      "execution_count": 21,
      "outputs": [
        {
          "output_type": "stream",
          "name": "stdout",
          "text": [
            "\n",
            "2 (6oz.) salmon fillets (wild-caught is our favorite if you can find it)\n",
            "1 cup broccoli rabe, trimmed with tough stems removed\n",
            "1 ½ sweet potatoes, cubed\n",
            "½ tsp smoked paprika\n",
            "1 tbsp extra virgin olive oil\n",
            "Salt and pepper, to taste\n",
            "1 lemon, sliced into wedges\n",
            "\n"
          ]
        }
      ]
    },
    {
      "cell_type": "code",
      "source": [
        "# combining list[1] and list[2] as list[2] is subpart of list[1]\n",
        "list[1]= list[1]+list[2]"
      ],
      "metadata": {
        "id": "yJd-75FFUkho"
      },
      "execution_count": 22,
      "outputs": []
    },
    {
      "cell_type": "code",
      "source": [
        "list[2]= list[3]\n",
        "list[3]= list[4]\n",
        "list[4]= list[5]\n",
        "list[5]= ''"
      ],
      "metadata": {
        "id": "t_1xB19aU6Bg"
      },
      "execution_count": 23,
      "outputs": []
    },
    {
      "cell_type": "code",
      "source": [
        "# print new list\n",
        "for i in list:\n",
        "  print(i)\n",
        "  print(' ')"
      ],
      "metadata": {
        "colab": {
          "base_uri": "https://localhost:8080/"
        },
        "id": "X3DaeFohVgFY",
        "outputId": "a3bf6a06-4cd4-4180-f745-61c4d6033636"
      },
      "execution_count": 24,
      "outputs": [
        {
          "output_type": "stream",
          "name": "stdout",
          "text": [
            "\n",
            "½ cup rolled oats (Old Fashioned, not Instant)\n",
            "½ cup almond milk (or cow’s milk, oat milk, soy milk – whatever milk you’re loyal to) \n",
            "1-2 tbsp pure maple syrup (the real kind, please) or honey\n",
            "½ tsp cinnamon\n",
            "½ tsp unsweetened cocoa powder\n",
            "2 tbsp dark chocolate chips \n",
            "⅓ cup plain Greek yogurt \n",
            "¼ tsp vanilla extract (optional)\n",
            "1 tsp chia seeds (optional) \n",
            "1 banana (optional)\n",
            "\n",
            " \n",
            "\n",
            "2 (6oz.) salmon fillets (wild-caught is our favorite if you can find it)\n",
            "1 cup broccoli rabe, trimmed with tough stems removed\n",
            "1 ½ sweet potatoes, cubed\n",
            "½ tsp smoked paprika\n",
            "1 tbsp extra virgin olive oil\n",
            "Salt and pepper, to taste\n",
            "1 lemon, sliced into wedges\n",
            "\n",
            "1/3 cup walnuts\n",
            "2 large garlic cloves, roughly chopped\n",
            "2 cups gently packed *fresh* basil leaves\n",
            "1/2 teaspoon salt\n",
            "1/4 teaspoon ground black pepper\n",
            "2/3 cup extra virgin olive oil\n",
            "1/2 cup grated parmesan cheese\n",
            "\n",
            " \n",
            "\n",
            "1 lb boneless, skinless chicken breast, cut into strips or bite-sized pieces\n",
            "2 tablespoons avocado oil\n",
            "3 cloves garlic, minced\n",
            "1 tablespoon fish sauce\n",
            "1 tablespoon soy sauce (or coconut aminos)\n",
            "2 tablespoons oyster sauce\n",
            "1 tablespoon honey\n",
            "1 tsp sriracha sauce (optional)\n",
            "½ cup fresh ginger, cut into matchsticks\n",
            "1 red bell pepper, cut into strips\n",
            "2 cups baby bok choy leaves, cleaned with ends trimmed\n",
            "¾ cup sliced shiitake mushrooms\n",
            "Salt and pepper to taste\n",
            "2 tablespoons fresh basil leaves or cilantro (optional)\n",
            "1 cup cooked brown rice\n",
            "\n",
            " \n",
            "\n",
            "1 avocado, quartered and then thinly sliced\n",
            "2 small slices or one large slice multi-seed or multigrain + flax seed bread, toasted\n",
            "½ lemon\n",
            "1 small radish, thinly sliced\n",
            "2 tbsp roasted pumpkin seeds (salted or unsalted)\n",
            "¼ tsp smoked paprika\n",
            "½ tsp everything bagel seasoning\n",
            "Salt and pepper to taste\n",
            "1 tsp extra virgin olive oil \n",
            "1 egg (optional)\n",
            "\n",
            " \n",
            "\n",
            "½ avocado (fresh or frozen)\n",
            "2-3 big handfuls of fresh baby spinach \n",
            "⅓ cup plain Greek yogurt\n",
            "⅓ cup frozen banana slices\n",
            "⅓ cup frozen blueberries\n",
            "⅓ cup frozen raspberries\n",
            "1 ½ cups orange juice\n",
            "½ cup almond milk (or milk of choice)\n",
            "1 tbsp chia seeds\n",
            "1 tbsp flax seeds\n",
            "1 scoop collagen peptides or unflavored protein powder of your choice (optional)\n",
            "\n",
            " \n",
            "\n",
            " \n"
          ]
        }
      ]
    },
    {
      "cell_type": "code",
      "source": [
        "# get instructions\n",
        "instr= script.find_all('ol')\n",
        "print(instr)"
      ],
      "metadata": {
        "id": "9xu060no-Bl0",
        "colab": {
          "base_uri": "https://localhost:8080/"
        },
        "outputId": "b9b15823-78a1-44ec-c6db-1d1d0276e55b"
      },
      "execution_count": 25,
      "outputs": [
        {
          "output_type": "stream",
          "name": "stdout",
          "text": [
            "[<ol>\n",
            "<li>The night before: Mix all the ingredients EXCEPT the banana in a bowl or mason jar, preferably one with a lid. </li>\n",
            "<li>Place the covered bowl or mason jar in the refrigerator overnight (or for at least 6 hours). </li>\n",
            "<li>The morning of: Grab a banana, slice ‘er up any way you like, and place it on top of your oats. Enjoy!</li>\n",
            "</ol>, <ol>\n",
            "<li>Preheat the oven to 400° F.</li>\n",
            "<li>Spray a large sheet pan with non-stick spray or cover with parchment paper.</li>\n",
            "<li>Make the pesto: Place the walnuts and garlic in a food processor and pulse until chopped. Add the basil, salt, and pepper, and pulse until the mixture looks like a thick paste. Then, with the food processor running, add your olive oil in a steady stream until fully incorporated. Add the parmesan and pulse 30 seconds more. Store in a mason jar for up to a week in the fridge. </li>\n",
            "<li>Toss cubed sweet potatoes in a bowl with ½ tablespoon of olive oil, salt, and smoked paprika. Spread on one side of the sheet pan in an even layer. </li>\n",
            "<li>Place sweet potatoes in the oven for 15 minutes until partially cooked. Remove the pan from the oven, flip the sweet potatoes. </li>\n",
            "<li>Toss broccoli rabe with the other ½ tablespoon of olive oil, salt and pepper and spread on the other side of the sheet pan, leaving enough room for your salmon fillets. </li>\n",
            "<li>Place salmon fillets in the middle of the sheet pan and top each with a heaping spoonful of your homemade pesto so it covers each fillet. Place 1 lemon wedge on each fillet. </li>\n",
            "<li>Place the sheet pan back in the oven and bake for 15 minutes (you may need to leave the salmon in a couple of minutes longer depending on thickness). </li>\n",
            "</ol>, <ol>\n",
            "<li>Stir the fish sauce, soy sauce, oyster sauce, sriracha sauce, garlic, and honey in a small bowl until combined. </li>\n",
            "<li>Heat the avocado oil in a large frying pan or wok over medium-high heat. </li>\n",
            "<li>Season the chicken breast pieces with salt and pepper, then transfer to the pan and cook, stirring occasionally, until browned on all sides and nearly cooked through. </li>\n",
            "<li>Add the mushrooms, bell pepper, and ginger to the pan and stir fry for another 2 minutes. Then, turn the heat up to high and pour in the sauce, stirring right away (it should sizzle). Let the sauce thicken for a minute or so, then lower the heat and continue to cook on medium for another 2-3 minutes, or until chicken is cooked through. Add the bok choy leaves and stir gently, allowing them to wilt down slightly. </li>\n",
            "<li>Divide the rice between two bowls, top each bowl with stir fry, and garnish with basil or cilantro.</li>\n",
            "</ol>, <ol>\n",
            "<li>Arrange the avocado slices on your toasted bread in an even layer.</li>\n",
            "<li>Arrange the radish slices on top of the avocado.</li>\n",
            "<li>Squeeze a bit of lemon juice over both slices (or your single slice).</li>\n",
            "<li>Sprinkle on the pumpkin seeds, paprika, everything bagel seasoning, salt, and pepper.</li>\n",
            "<li>Add a drizzle of olive oil, if desired. </li>\n",
            "<li>Want to make it a more filling meal? Fry or poach your egg and put that on top, too!</li>\n",
            "</ol>, <ol>\n",
            "<li>Place the avocado, Greek yogurt, frozen banana, and frozen berries in a blender.</li>\n",
            "<li>Add the chia seeds, flax seeds, and protein powder if desired, then shove in as much spinach as you can within your blender’s capacity (trust us on this – you won’t taste it!).</li>\n",
            "<li>Pour in the orange juice and almond milk (make sure you have enough liquid to cover the top of your other ingredients, but don’t overfill your blender). </li>\n",
            "<li>Blend for 1-2 minutes until everything is totally combined. If needed, add a couple ice cubes to thicken it up. Enjoy!</li>\n",
            "</ol>]\n"
          ]
        }
      ]
    },
    {
      "cell_type": "code",
      "source": [
        "# print n convert instructions to list\n",
        "instructions=['' ,'','','','']\n",
        "count=0\n",
        "for j in instr:\n",
        "  instructions[count]= j.text\n",
        "  count=count+1\n",
        "  print('Instructions:', j.text)"
      ],
      "metadata": {
        "colab": {
          "base_uri": "https://localhost:8080/"
        },
        "id": "sHHzjAeK-f1z",
        "outputId": "f8746ce8-7f55-4eba-d5ce-e31b03588d80"
      },
      "execution_count": 26,
      "outputs": [
        {
          "output_type": "stream",
          "name": "stdout",
          "text": [
            "Instructions: \n",
            "The night before: Mix all the ingredients EXCEPT the banana in a bowl or mason jar, preferably one with a lid. \n",
            "Place the covered bowl or mason jar in the refrigerator overnight (or for at least 6 hours). \n",
            "The morning of: Grab a banana, slice ‘er up any way you like, and place it on top of your oats. Enjoy!\n",
            "\n",
            "Instructions: \n",
            "Preheat the oven to 400° F.\n",
            "Spray a large sheet pan with non-stick spray or cover with parchment paper.\n",
            "Make the pesto: Place the walnuts and garlic in a food processor and pulse until chopped. Add the basil, salt, and pepper, and pulse until the mixture looks like a thick paste. Then, with the food processor running, add your olive oil in a steady stream until fully incorporated. Add the parmesan and pulse 30 seconds more. Store in a mason jar for up to a week in the fridge. \n",
            "Toss cubed sweet potatoes in a bowl with ½ tablespoon of olive oil, salt, and smoked paprika. Spread on one side of the sheet pan in an even layer. \n",
            "Place sweet potatoes in the oven for 15 minutes until partially cooked. Remove the pan from the oven, flip the sweet potatoes. \n",
            "Toss broccoli rabe with the other ½ tablespoon of olive oil, salt and pepper and spread on the other side of the sheet pan, leaving enough room for your salmon fillets. \n",
            "Place salmon fillets in the middle of the sheet pan and top each with a heaping spoonful of your homemade pesto so it covers each fillet. Place 1 lemon wedge on each fillet. \n",
            "Place the sheet pan back in the oven and bake for 15 minutes (you may need to leave the salmon in a couple of minutes longer depending on thickness). \n",
            "\n",
            "Instructions: \n",
            "Stir the fish sauce, soy sauce, oyster sauce, sriracha sauce, garlic, and honey in a small bowl until combined. \n",
            "Heat the avocado oil in a large frying pan or wok over medium-high heat. \n",
            "Season the chicken breast pieces with salt and pepper, then transfer to the pan and cook, stirring occasionally, until browned on all sides and nearly cooked through. \n",
            "Add the mushrooms, bell pepper, and ginger to the pan and stir fry for another 2 minutes. Then, turn the heat up to high and pour in the sauce, stirring right away (it should sizzle). Let the sauce thicken for a minute or so, then lower the heat and continue to cook on medium for another 2-3 minutes, or until chicken is cooked through. Add the bok choy leaves and stir gently, allowing them to wilt down slightly. \n",
            "Divide the rice between two bowls, top each bowl with stir fry, and garnish with basil or cilantro.\n",
            "\n",
            "Instructions: \n",
            "Arrange the avocado slices on your toasted bread in an even layer.\n",
            "Arrange the radish slices on top of the avocado.\n",
            "Squeeze a bit of lemon juice over both slices (or your single slice).\n",
            "Sprinkle on the pumpkin seeds, paprika, everything bagel seasoning, salt, and pepper.\n",
            "Add a drizzle of olive oil, if desired. \n",
            "Want to make it a more filling meal? Fry or poach your egg and put that on top, too!\n",
            "\n",
            "Instructions: \n",
            "Place the avocado, Greek yogurt, frozen banana, and frozen berries in a blender.\n",
            "Add the chia seeds, flax seeds, and protein powder if desired, then shove in as much spinach as you can within your blender’s capacity (trust us on this – you won’t taste it!).\n",
            "Pour in the orange juice and almond milk (make sure you have enough liquid to cover the top of your other ingredients, but don’t overfill your blender). \n",
            "Blend for 1-2 minutes until everything is totally combined. If needed, add a couple ice cubes to thicken it up. Enjoy!\n",
            "\n"
          ]
        }
      ]
    },
    {
      "cell_type": "code",
      "source": [
        "print(instructions)"
      ],
      "metadata": {
        "colab": {
          "base_uri": "https://localhost:8080/"
        },
        "id": "tYNYFhAZf2Oz",
        "outputId": "9f9f6311-9f26-4721-aadd-2bc6989e3dd4"
      },
      "execution_count": 27,
      "outputs": [
        {
          "output_type": "stream",
          "name": "stdout",
          "text": [
            "['\\nThe night before: Mix all the ingredients EXCEPT the banana in a bowl or mason jar, preferably one with a lid.\\xa0\\nPlace the covered bowl or mason jar in the refrigerator overnight (or for at least 6 hours).\\xa0\\nThe morning of: Grab a banana, slice ‘er up any way you like, and place it on top of your oats. Enjoy!\\n', '\\nPreheat the oven to 400° F.\\nSpray a large sheet pan with non-stick spray or cover with parchment paper.\\nMake the pesto: Place the walnuts and garlic in a food processor and pulse until chopped. Add the basil, salt, and pepper, and pulse until the mixture looks like a thick paste. Then, with the food processor running, add your olive oil in a steady stream until fully incorporated. Add the parmesan and pulse 30 seconds more. Store in a mason jar for up to a week in the fridge.\\xa0\\nToss cubed sweet potatoes in a bowl with ½ tablespoon of olive oil, salt, and smoked paprika. Spread on one side of the sheet pan in an even layer.\\xa0\\nPlace sweet potatoes in the oven for 15 minutes until partially cooked. Remove the pan from the oven, flip the sweet potatoes.\\xa0\\nToss broccoli rabe with the other ½ tablespoon of olive oil, salt and pepper and spread on the other side of the sheet pan, leaving enough room for your salmon fillets.\\xa0\\nPlace salmon fillets in the middle of the sheet pan and top each with a heaping spoonful of your homemade pesto so it covers each fillet. Place 1 lemon wedge on each fillet.\\xa0\\nPlace the sheet pan back in the oven and bake for 15 minutes (you may need to leave the salmon in a couple of minutes longer depending on thickness).\\xa0\\n', '\\nStir the fish sauce, soy sauce, oyster sauce, sriracha sauce, garlic, and honey in a small bowl until combined.\\xa0\\nHeat the avocado oil in a large frying pan or wok over medium-high heat.\\xa0\\nSeason the chicken breast pieces with salt and pepper, then transfer to the pan and cook, stirring occasionally, until browned on all sides and nearly cooked through.\\xa0\\nAdd the mushrooms, bell pepper, and ginger to the pan and stir fry for another 2 minutes. Then, turn the heat up to high and pour in the sauce, stirring right away (it should sizzle). Let the sauce thicken for a minute or so, then lower the heat and continue to cook on medium for another 2-3 minutes, or until chicken is cooked through. Add the bok choy leaves and stir gently, allowing them to wilt down slightly.\\xa0\\nDivide the rice between two bowls, top each bowl with stir fry, and garnish with basil or cilantro.\\n', '\\nArrange the avocado slices on your toasted bread in an even layer.\\nArrange the radish slices on top of the avocado.\\nSqueeze a bit of lemon juice over both slices (or your single slice).\\nSprinkle on the pumpkin seeds, paprika, everything bagel seasoning, salt, and pepper.\\nAdd a drizzle of olive oil, if desired.\\xa0\\nWant to make it a more filling meal? Fry or poach your egg and put that on top, too!\\n', '\\nPlace the avocado, Greek yogurt, frozen banana, and frozen berries in a blender.\\nAdd the chia seeds, flax seeds, and protein powder if desired, then shove in as much spinach as you can within your blender’s capacity (trust us on this –\\xa0you won’t taste it!).\\nPour in the orange juice and almond milk (make sure you have enough liquid to cover the top of your other ingredients, but don’t overfill your blender).\\xa0\\nBlend for 1-2 minutes until everything is totally combined. If needed, add a couple ice cubes to thicken it up. Enjoy!\\n']\n"
          ]
        }
      ]
    },
    {
      "cell_type": "markdown",
      "source": [
        "##Blog paragraphs (optional)\n"
      ],
      "metadata": {
        "id": "2MzpjTb2CQr-"
      }
    },
    {
      "cell_type": "code",
      "source": [
        "# get all para elements\n",
        "para= script.find_all('p')\n",
        "print(para)\n"
      ],
      "metadata": {
        "colab": {
          "base_uri": "https://localhost:8080/"
        },
        "id": "XQ30KrJL-2bH",
        "outputId": "a24d9d2c-cb98-4d95-c857-6ac45bfa7502"
      },
      "execution_count": 28,
      "outputs": [
        {
          "output_type": "stream",
          "name": "stdout",
          "text": [
            "[<p>When you think about PMS or period food cravings, the first thing that comes to mind is usually cravings for chocolate – followed by salty chips, ice cream, and maybe a burger and fries, or Flaming Hot Cheetos.  </p>, <p>Hormone fluctuations can lead to a decrease in blood sugar, creating an urge to eat sugary or carb-rich foods. This is because carbs are necessary for the production of serotonin, a chemical in the brain that promotes a feeling of well-being and happiness. <strong>Low serotonin levels may contribute to symptoms of PMS</strong>, such as premenstrual depression, fatigue, food cravings, and difficulty sleeping.</p>, <p>It’s no wonder we crave these types of comfort foods around our period: They help distract us from painful menstrual cramps, fatigue, and the <a href=\"https://blog.flexfits.com/how-stress-affects-your-period/\" rel=\"noreferrer noopener\" target=\"_blank\">stress</a> that tends to ramp up right before period day one. Unfortunately, what we crave might not be what’s best for our bodies. Succumbing to that late-night Chick-Fil-A craving, red meat burgers, processed foods, and even spicy foods might actually leave you feeling worse.  </p>, <p>On the flip side, <strong>many nutrient-rich foods help with </strong><a href=\"https://blog.flexfits.com/weird-ways-to-deal-with-pms-symptoms/\" rel=\"noreferrer noopener\" target=\"_blank\"><strong>cramps and Premenstrual Syndrome (PMS)</strong></a><strong>, by reducing their intensity or even making them disappear entirely.</strong> We’re not talking obscure, expensive herbs or potions – just the “boring” fruits and veggies you see lining the produce aisle of your average grocery store. Turns out, leafy greens and sweet potatoes have some pretty magical powers when it comes to reducing cramping and menstrual pain.  </p>, <p>If you’re worried that getting the right nutrients during your period means sacrificing flavor, think again. We compiled a few Chrissy Teigen-worthy recipes of the best period comfort food that your body <em>and</em> your tastebuds will genuinely enjoy. Plus, they’re quick, easy to prepare, and can be done with limited kitchen equipment (read: even in your college dorm kitchen).  </p>, <p>Kiss cramps, bloating, fatigue, and breakouts goodbye with these five recipes for PMS or period pain.  </p>, <p>What, did you think we wouldn’t include chocolate in at least one of these recipes? Of course we did. Even better, you get to eat it for breakfast (and it’s actually good for you). </p>, <p>Dark chocolate is rich in magnesium: It contains 50 mg in every 1-oz serving. And studies have found that <strong>magnesium can be helpful in reducing PMS symptoms</strong>, especially mood swings and stress, which may be more common if you’re nutrient deficient.((Quaranta, S., Buscaglia, M.A., Meroni, M.G. et al. Pilot Study of the Efficacy and Safety of a Modified-Release Magnesium 250mg Tablet for the Treatment of Premenstrual Syndrome. <em>Clin. Drug Investig</em>. 27, 51–58 (2007). https://doi.org/10.2165/00044011-200727010-00004)) Magnesium may also ease headaches and curb sugar cravings.((Mauskop, A., Altura, B. T., Cracco, R. Q., &amp; Altura, B. M. (1996). Intravenous magnesium sulfate rapidly alleviates headaches of various types. <em>Headache</em>, 36(3), 154–160. https://doi.org/10.1046/j.1526-4610.1996.3603154.x)) </p>, <p>While you can certainly get extra magnesium in supplement form, the best way for your body to absorb it is by consuming foods that are naturally magnesium-rich. So, consider dark chocolate your new PMS BFF – and for even more magnesium, add tofu, pumpkin seeds, avocados, and almonds to your diet during your period.((Magnesium-Rich Food Information. (2014, December 1). <em>Cleveland Clinic</em>. Retrieved from my.clevelandclinic.org/health/articles/15650-magnesium-rich-food)) </p>, <p>Other helpful ingredients in this overnight oats recipe include cinnamon, which has also been shown to improve pain, nausea, and vomiting associated with primary dysmenorrhea,<sup><a class=\"footnote-link footnote-identifier-link\" href=\"#footnote_0_5024\" id=\"identifier_0_5024\" title=\"Jaafarpour, M., Hatefi, M., Najafi, F., Khajavikhan, J., &amp; Khani, A. (2015). The effect of cinnamon on menstrual bleeding and systemic symptoms with primary dysmenorrhea. Iranian Red Crescent medical journal, 17(4), e27032. https://doi.org/10.5812/ircmj.17(4)2015.27032\">1</a></sup> chia seeds, which contain omega-3 fatty acids, and Greek yogurt, which contains probiotics that can help with bloating and digestive discomfort.((Bertazzoni Minelli, E., Benini, A., Vicentini, L., Andreoli, E., Oselladore, M., &amp; Cerutti, R. (1996). Effect of lactobacillus acidophilus and Bifidobacterium bifidum administration on colonic microbiota and its metabolic activity in premenstrual syndrome. <em>Microbial Ecology in Health and Disease</em>, 9(6), 247-260. https://doi.org/10.3109/08910609609166465)) Oh, and the bananas have magnesium, too!  </p>, <p>When you have your period and you’re totally wiped out, it’s hard to get up the motivation to cook dinner. Make it as easy as possible for yourself with this single-sheet pan dinner.</p>, <p>You’ll have plenty of leftover pesto, too, to use up later in the week for pasta or a salad. The powerhouse ingredients will make you feel amazing any day of the month, but they’re especially helpful when you’re on your period. Here’s why: </p>, <p>First, salmon is rich in omega-3 fatty acids,((Omega-3-rich foods: Good for your heart. (2013, November 1). <em>Harvard Health</em>. Retrieved from health.harvard.edu/heart-health/omega-3-rich-foods-good-for-your-heart)) which are beneficial for so many different aspects of your health. In terms of period pain, <strong>omega-3s have been shown to reduce both the mental symptoms of PMS (like depression, nervousness, anxiety, and lack of concentration) and the physical symptoms (like bloating, headache, and breast tenderness).</strong>((Sohrabi, N., Kashanian, M., Ghafoori, S. S., &amp; Malakouti, S. K. (2013). Evaluation of the effect of omega-3 fatty acids in the treatment of premenstrual syndrome: “a pilot trial”. <em>Complementary therapies in medicine</em>, 21(3), 141–146. https://doi.org/10.1016/j.ctim.2012.12.008)) </p>, <p>Salmon has 1,900 mg of omega-3s per 3 oz serving – and the walnuts in the pesto pack a punch, too, with 2,570 mg per ounce.((Hjalmarsdottir, F. (2019, September 30). 12 Foods That Are Very High in Omega-3. <em>Healthline</em>. Retrieved from healthline.com/nutrition/12-omega-3-rich-foods)) The sweet potato offers complex carbohydrates (the good ones!) and lots of Vitamin B6, which has also been studied for its PMS-relieving effects,((Fathizadeh, N., Ebrahimi, E., Valiani, M., Tavakoli, N., &amp; Yar, M. H. (2010). Evaluating the effect of magnesium and magnesium plus vitamin B6 supplement on the severity of premenstrual syndrome. <em>Iranian journal of nursing and midwifery research</em>, 15(Suppl 1), 401–405.)) plus Vitamin C for an immune system boost. </p>, <p>Finally, the broccoli rabe contains 100 mg of calcium in a 2/3rds-cup serving.((14 Non-Dairy Foods That Are High in Calcium. (2014, September 7). <em>Time</em>. Retrieved from time.com/3265401/14-high-calcium-foods/)) Calcium has been fairly extensively studied in correlation with premenstrual symptoms, and there’s a strong indication that high calcium intake reduces the risk of PMS.((Bertone-Johnson, E. R., Hankinson, S. E., Bendich, A., Johnson, S. R., Willett, W. C., &amp; Manson, J. E. (2005). Calcium and vitamin D intake and risk of incident premenstrual syndrome. <em>Archives of internal medicine</em>, 165(11), 1246–1252. https://doi.org/10.1001/archinte.165.11.1246))</p>, <p><em>For the pesto: </em></p>, <p>If your usual habit is ordering takeout during your period from the local Chinese or Thai hole in the wall, you may be surprised by how easily you can recreate your favorite meals at home – but way healthier and, TBH, better tasting. This simple recipe is ready in under 30 minutes and is almost impossible to mess up.  </p>, <p>How will it help your period, though? Well, for starters, the plentiful <strong>fresh ginger may significantly reduce period pain</strong>, a.k.a. dysmenorrhea: One 2012 study found that ginger “may be an effective and safe therapy for relieving pain in women with primary dysmenorrhea if administered at the onset or during the 3 days prior to menstruation.”((Rahnama, P., Montazeri, A., Huseini, H. F., Kianbakht, S., &amp; Naseri, M. (2012). Effect of Zingiber officinale R. rhizomes (ginger) on pain relief in primary dysmenorrhea: a placebo randomized trial. <em>BMC complementary and alternative medicine</em>, 12, 92. https://doi.org/10.1186/1472-6882-12-92)) Plus, ginger has long been used to remedy an upset stomach – and it just tastes good, so don’t skimp!</p>, <p>Then you have baby bok choy, which contains loads of PMS-busting calcium (see above for the benefits of calcium for period pain) and is a great source of vitamin A, vitamin C, and potassium.((14 Non-Dairy Foods That Are High in Calcium. (2014, September 7). <em>Time</em>. Retrieved from time.com/3265401/14-high-calcium-foods/)) The shiitake mushrooms may have an anti-inflammatory effect, too.((Finimundy, T. C., Dillon, A. J., Henriques, J. A., &amp; Ely, M. R. (2014). A review on general nutritional compounds and pharmacological properties the Lentinula edodes Mushroom. <em>Food and Nutrition Sciences</em>, 05(12), 1095-1105. https://doi.org/10.4236/fns.2014.512119))</p>, <p>The avocado is pretty much the queen of health foods – it adds an amazing dimension of flavor and texture to just about any savory meal, whether breakfast, lunch, or dinner, and even tastes great on its own with a simple slice of bread. We can do better than bland ‘cado toast, though: This recipe makes a meal out of what might otherwise be considered a snack, and it has the perfect balance of salt, spice, crunch, and lemony pizzazz.  </p>, <p>Why is it good for your period? Well, <strong>avocados have tons of magnesium, plus iron and potassium</strong>. The magnesium (as mentioned in the Overnight Oats recipe) can help with mood swings, stress, and the emotional burnout we often feel during our period.((Quaranta, S., Buscaglia, M.A., Meroni, M.G. et al. Pilot Study of the Efficacy and Safety of a Modified-Release Magnesium 250mg Tablet for the Treatment of Premenstrual Syndrome. <em>Clin. Drug Investig</em>. 27, 51–58 (2007). https://doi.org/10.2165/00044011-200727010-00004)) </p>, <p>The iron is great if you experience especially heavy periods: The more blood you shed, the more prone you are to anemia (or an iron deficiency).((Peuranpää, P., Heliövaara‐Peippo, S., Fraser, I., Paavonen, J., &amp; Hurskainen, R. (2014). Effects of anemia and iron deficiency on quality of life in women with heavy menstrual bleeding. <em>Acta Obstet Gynecol Scand</em>, 93, 654-660. https://doi.org/10.1111/aogs.12394)) The pumpkin seeds have TONS of iron, too, so you’re pretty much fully covered in that department.  </p>, <p>For added protein, top your toast with a fried or poached egg: You’ll benefit from the Vitamin D, which helps your body absorb the much-needed, PMS-fighting calcium found in other foods. Bonus points for multigrain bread made with flax seeds, which contain omega-3 fatty acids.  </p>, <p>This last recipe is another versatile, “in-between” type of meal: Have it for breakfast, as a post-workout pick-me-up, or even as a light lunch or dinner. You can add more protein powder or tofu if you want to make it heartier (or skip those ingredients if you don’t have ‘em on hand – no big deal). Keep frozen fruit in your freezer at all times for quick, simple smoothies on the go.  </p>, <p>Period-wise, just about every ingredient in this smoothie has something to offer. There’s the avocado which, as mentioned, <strong>gives you healthy fats, cramp-relieving magnesium, and iron.</strong>((Quaranta, S., Buscaglia, M.A., Meroni, M.G. et al. Pilot Study of the Efficacy and Safety of a Modified-Release Magnesium 250mg Tablet for the Treatment of Premenstrual Syndrome. <em>Clin. Drug Investig</em>. 27, 51–58 (2007). https://doi.org/10.2165/00044011-200727010-00004)) There’s the spinach, which has even MORE iron than the avocado and is an all-around PMS powerhouse food with tons of calcium.((Gunnars, K. (2019, May 14). Spinach 101: Nutrition Facts and Health Benefits. <em>Healthline</em>. Retrieved from healthline.com/nutrition/foods/spinach)) </p>, <p>The yogurt adds a probiotic boost. There’s the chia seeds and flax seeds with omega-3 fatty acids. And there’s enough berries and orange juice to hit more than 100% of your daily value of Vitamin C.((Robertson, R. (2020, August 19). The 8 Healthiest Berries You Can Eat. <em>Healthline</em>. Retrieved from healthline.com/nutrition/8-healthy-berries))</p>, <p class=\"has-text-align-left\"><em>This article is informational only. It is not offered as medical advice. It does not substitute a consultation with your physician. Please consult your physician if you have any gynecological/medical concerns or conditions.  </em></p>, <p class=\"has-text-align-left has-small-font-size\">© 2023 The Flex Company. All Rights Reserved.</p>]\n"
          ]
        }
      ]
    },
    {
      "cell_type": "code",
      "source": [
        "# print content of para\n",
        "for k in para:\n",
        "  print(\"para:\", k.text)\n",
        "  print(' ')"
      ],
      "metadata": {
        "id": "jWRpy5gt_gQb",
        "colab": {
          "base_uri": "https://localhost:8080/"
        },
        "outputId": "1e810213-b0e1-43cb-83bd-58b9bbf48b2f"
      },
      "execution_count": 29,
      "outputs": [
        {
          "output_type": "stream",
          "name": "stdout",
          "text": [
            "para: When you think about PMS or period food cravings, the first thing that comes to mind is usually cravings for chocolate – followed by salty chips, ice cream, and maybe a burger and fries, or Flaming Hot Cheetos.  \n",
            " \n",
            "para: Hormone fluctuations can lead to a decrease in blood sugar, creating an urge to eat sugary or carb-rich foods. This is because carbs are necessary for the production of serotonin, a chemical in the brain that promotes a feeling of well-being and happiness. Low serotonin levels may contribute to symptoms of PMS, such as premenstrual depression, fatigue, food cravings, and difficulty sleeping.\n",
            " \n",
            "para: It’s no wonder we crave these types of comfort foods around our period: They help distract us from painful menstrual cramps, fatigue, and the stress that tends to ramp up right before period day one. Unfortunately, what we crave might not be what’s best for our bodies. Succumbing to that late-night Chick-Fil-A craving, red meat burgers, processed foods, and even spicy foods might actually leave you feeling worse.  \n",
            " \n",
            "para: On the flip side, many nutrient-rich foods help with cramps and Premenstrual Syndrome (PMS), by reducing their intensity or even making them disappear entirely. We’re not talking obscure, expensive herbs or potions – just the “boring” fruits and veggies you see lining the produce aisle of your average grocery store. Turns out, leafy greens and sweet potatoes have some pretty magical powers when it comes to reducing cramping and menstrual pain.  \n",
            " \n",
            "para: If you’re worried that getting the right nutrients during your period means sacrificing flavor, think again. We compiled a few Chrissy Teigen-worthy recipes of the best period comfort food that your body and your tastebuds will genuinely enjoy. Plus, they’re quick, easy to prepare, and can be done with limited kitchen equipment (read: even in your college dorm kitchen).  \n",
            " \n",
            "para: Kiss cramps, bloating, fatigue, and breakouts goodbye with these five recipes for PMS or period pain.  \n",
            " \n",
            "para: What, did you think we wouldn’t include chocolate in at least one of these recipes? Of course we did. Even better, you get to eat it for breakfast (and it’s actually good for you). \n",
            " \n",
            "para: Dark chocolate is rich in magnesium: It contains 50 mg in every 1-oz serving. And studies have found that magnesium can be helpful in reducing PMS symptoms, especially mood swings and stress, which may be more common if you’re nutrient deficient.((Quaranta, S., Buscaglia, M.A., Meroni, M.G. et al. Pilot Study of the Efficacy and Safety of a Modified-Release Magnesium 250mg Tablet for the Treatment of Premenstrual Syndrome. Clin. Drug Investig. 27, 51–58 (2007). https://doi.org/10.2165/00044011-200727010-00004)) Magnesium may also ease headaches and curb sugar cravings.((Mauskop, A., Altura, B. T., Cracco, R. Q., & Altura, B. M. (1996). Intravenous magnesium sulfate rapidly alleviates headaches of various types. Headache, 36(3), 154–160. https://doi.org/10.1046/j.1526-4610.1996.3603154.x)) \n",
            " \n",
            "para: While you can certainly get extra magnesium in supplement form, the best way for your body to absorb it is by consuming foods that are naturally magnesium-rich. So, consider dark chocolate your new PMS BFF – and for even more magnesium, add tofu, pumpkin seeds, avocados, and almonds to your diet during your period.((Magnesium-Rich Food Information. (2014, December 1). Cleveland Clinic. Retrieved from my.clevelandclinic.org/health/articles/15650-magnesium-rich-food)) \n",
            " \n",
            "para: Other helpful ingredients in this overnight oats recipe include cinnamon, which has also been shown to improve pain, nausea, and vomiting associated with primary dysmenorrhea,1 chia seeds, which contain omega-3 fatty acids, and Greek yogurt, which contains probiotics that can help with bloating and digestive discomfort.((Bertazzoni Minelli, E., Benini, A., Vicentini, L., Andreoli, E., Oselladore, M., & Cerutti, R. (1996). Effect of lactobacillus acidophilus and Bifidobacterium bifidum administration on colonic microbiota and its metabolic activity in premenstrual syndrome. Microbial Ecology in Health and Disease, 9(6), 247-260. https://doi.org/10.3109/08910609609166465)) Oh, and the bananas have magnesium, too!  \n",
            " \n",
            "para: When you have your period and you’re totally wiped out, it’s hard to get up the motivation to cook dinner. Make it as easy as possible for yourself with this single-sheet pan dinner.\n",
            " \n",
            "para: You’ll have plenty of leftover pesto, too, to use up later in the week for pasta or a salad. The powerhouse ingredients will make you feel amazing any day of the month, but they’re especially helpful when you’re on your period. Here’s why: \n",
            " \n",
            "para: First, salmon is rich in omega-3 fatty acids,((Omega-3-rich foods: Good for your heart. (2013, November 1). Harvard Health. Retrieved from health.harvard.edu/heart-health/omega-3-rich-foods-good-for-your-heart)) which are beneficial for so many different aspects of your health. In terms of period pain, omega-3s have been shown to reduce both the mental symptoms of PMS (like depression, nervousness, anxiety, and lack of concentration) and the physical symptoms (like bloating, headache, and breast tenderness).((Sohrabi, N., Kashanian, M., Ghafoori, S. S., & Malakouti, S. K. (2013). Evaluation of the effect of omega-3 fatty acids in the treatment of premenstrual syndrome: “a pilot trial”. Complementary therapies in medicine, 21(3), 141–146. https://doi.org/10.1016/j.ctim.2012.12.008)) \n",
            " \n",
            "para: Salmon has 1,900 mg of omega-3s per 3 oz serving – and the walnuts in the pesto pack a punch, too, with 2,570 mg per ounce.((Hjalmarsdottir, F. (2019, September 30). 12 Foods That Are Very High in Omega-3. Healthline. Retrieved from healthline.com/nutrition/12-omega-3-rich-foods)) The sweet potato offers complex carbohydrates (the good ones!) and lots of Vitamin B6, which has also been studied for its PMS-relieving effects,((Fathizadeh, N., Ebrahimi, E., Valiani, M., Tavakoli, N., & Yar, M. H. (2010). Evaluating the effect of magnesium and magnesium plus vitamin B6 supplement on the severity of premenstrual syndrome. Iranian journal of nursing and midwifery research, 15(Suppl 1), 401–405.)) plus Vitamin C for an immune system boost. \n",
            " \n",
            "para: Finally, the broccoli rabe contains 100 mg of calcium in a 2/3rds-cup serving.((14 Non-Dairy Foods That Are High in Calcium. (2014, September 7). Time. Retrieved from time.com/3265401/14-high-calcium-foods/)) Calcium has been fairly extensively studied in correlation with premenstrual symptoms, and there’s a strong indication that high calcium intake reduces the risk of PMS.((Bertone-Johnson, E. R., Hankinson, S. E., Bendich, A., Johnson, S. R., Willett, W. C., & Manson, J. E. (2005). Calcium and vitamin D intake and risk of incident premenstrual syndrome. Archives of internal medicine, 165(11), 1246–1252. https://doi.org/10.1001/archinte.165.11.1246))\n",
            " \n",
            "para: For the pesto: \n",
            " \n",
            "para: If your usual habit is ordering takeout during your period from the local Chinese or Thai hole in the wall, you may be surprised by how easily you can recreate your favorite meals at home – but way healthier and, TBH, better tasting. This simple recipe is ready in under 30 minutes and is almost impossible to mess up.  \n",
            " \n",
            "para: How will it help your period, though? Well, for starters, the plentiful fresh ginger may significantly reduce period pain, a.k.a. dysmenorrhea: One 2012 study found that ginger “may be an effective and safe therapy for relieving pain in women with primary dysmenorrhea if administered at the onset or during the 3 days prior to menstruation.”((Rahnama, P., Montazeri, A., Huseini, H. F., Kianbakht, S., & Naseri, M. (2012). Effect of Zingiber officinale R. rhizomes (ginger) on pain relief in primary dysmenorrhea: a placebo randomized trial. BMC complementary and alternative medicine, 12, 92. https://doi.org/10.1186/1472-6882-12-92)) Plus, ginger has long been used to remedy an upset stomach – and it just tastes good, so don’t skimp!\n",
            " \n",
            "para: Then you have baby bok choy, which contains loads of PMS-busting calcium (see above for the benefits of calcium for period pain) and is a great source of vitamin A, vitamin C, and potassium.((14 Non-Dairy Foods That Are High in Calcium. (2014, September 7). Time. Retrieved from time.com/3265401/14-high-calcium-foods/)) The shiitake mushrooms may have an anti-inflammatory effect, too.((Finimundy, T. C., Dillon, A. J., Henriques, J. A., & Ely, M. R. (2014). A review on general nutritional compounds and pharmacological properties the Lentinula edodes Mushroom. Food and Nutrition Sciences, 05(12), 1095-1105. https://doi.org/10.4236/fns.2014.512119))\n",
            " \n",
            "para: The avocado is pretty much the queen of health foods – it adds an amazing dimension of flavor and texture to just about any savory meal, whether breakfast, lunch, or dinner, and even tastes great on its own with a simple slice of bread. We can do better than bland ‘cado toast, though: This recipe makes a meal out of what might otherwise be considered a snack, and it has the perfect balance of salt, spice, crunch, and lemony pizzazz.  \n",
            " \n",
            "para: Why is it good for your period? Well, avocados have tons of magnesium, plus iron and potassium. The magnesium (as mentioned in the Overnight Oats recipe) can help with mood swings, stress, and the emotional burnout we often feel during our period.((Quaranta, S., Buscaglia, M.A., Meroni, M.G. et al. Pilot Study of the Efficacy and Safety of a Modified-Release Magnesium 250mg Tablet for the Treatment of Premenstrual Syndrome. Clin. Drug Investig. 27, 51–58 (2007). https://doi.org/10.2165/00044011-200727010-00004)) \n",
            " \n",
            "para: The iron is great if you experience especially heavy periods: The more blood you shed, the more prone you are to anemia (or an iron deficiency).((Peuranpää, P., Heliövaara‐Peippo, S., Fraser, I., Paavonen, J., & Hurskainen, R. (2014). Effects of anemia and iron deficiency on quality of life in women with heavy menstrual bleeding. Acta Obstet Gynecol Scand, 93, 654-660. https://doi.org/10.1111/aogs.12394)) The pumpkin seeds have TONS of iron, too, so you’re pretty much fully covered in that department.  \n",
            " \n",
            "para: For added protein, top your toast with a fried or poached egg: You’ll benefit from the Vitamin D, which helps your body absorb the much-needed, PMS-fighting calcium found in other foods. Bonus points for multigrain bread made with flax seeds, which contain omega-3 fatty acids.  \n",
            " \n",
            "para: This last recipe is another versatile, “in-between” type of meal: Have it for breakfast, as a post-workout pick-me-up, or even as a light lunch or dinner. You can add more protein powder or tofu if you want to make it heartier (or skip those ingredients if you don’t have ‘em on hand – no big deal). Keep frozen fruit in your freezer at all times for quick, simple smoothies on the go.  \n",
            " \n",
            "para: Period-wise, just about every ingredient in this smoothie has something to offer. There’s the avocado which, as mentioned, gives you healthy fats, cramp-relieving magnesium, and iron.((Quaranta, S., Buscaglia, M.A., Meroni, M.G. et al. Pilot Study of the Efficacy and Safety of a Modified-Release Magnesium 250mg Tablet for the Treatment of Premenstrual Syndrome. Clin. Drug Investig. 27, 51–58 (2007). https://doi.org/10.2165/00044011-200727010-00004)) There’s the spinach, which has even MORE iron than the avocado and is an all-around PMS powerhouse food with tons of calcium.((Gunnars, K. (2019, May 14). Spinach 101: Nutrition Facts and Health Benefits. Healthline. Retrieved from healthline.com/nutrition/foods/spinach)) \n",
            " \n",
            "para: The yogurt adds a probiotic boost. There’s the chia seeds and flax seeds with omega-3 fatty acids. And there’s enough berries and orange juice to hit more than 100% of your daily value of Vitamin C.((Robertson, R. (2020, August 19). The 8 Healthiest Berries You Can Eat. Healthline. Retrieved from healthline.com/nutrition/8-healthy-berries))\n",
            " \n",
            "para: This article is informational only. It is not offered as medical advice. It does not substitute a consultation with your physician. Please consult your physician if you have any gynecological/medical concerns or conditions.  \n",
            " \n",
            "para: © 2023 The Flex Company. All Rights Reserved.\n",
            " \n"
          ]
        }
      ]
    },
    {
      "cell_type": "code",
      "source": [
        "# import libraries\n",
        "!pip install bs4\n",
        "from bs4 import Tag"
      ],
      "metadata": {
        "id": "dCV6GYfTA-m_",
        "colab": {
          "base_uri": "https://localhost:8080/"
        },
        "outputId": "a737a066-1736-4c9a-a6d6-19011f93a67b"
      },
      "execution_count": 30,
      "outputs": [
        {
          "output_type": "stream",
          "name": "stdout",
          "text": [
            "Collecting bs4\n",
            "  Downloading bs4-0.0.2-py2.py3-none-any.whl (1.2 kB)\n",
            "Requirement already satisfied: beautifulsoup4 in /usr/local/lib/python3.10/dist-packages (from bs4) (4.12.3)\n",
            "Requirement already satisfied: soupsieve>1.2 in /usr/local/lib/python3.10/dist-packages (from beautifulsoup4->bs4) (2.5)\n",
            "Installing collected packages: bs4\n",
            "Successfully installed bs4-0.0.2\n"
          ]
        }
      ]
    },
    {
      "cell_type": "code",
      "source": [
        "# combine first 5 para\n",
        "count=0\n",
        "intro=[]\n",
        "for l in para:\n",
        "  count=count+1\n",
        "  if(count < 6):\n",
        "    intro.append(l)\n",
        "\n",
        "print(intro)"
      ],
      "metadata": {
        "colab": {
          "base_uri": "https://localhost:8080/"
        },
        "id": "5gRXsOmi_8B0",
        "outputId": "64f64bd1-e45b-43b6-bc8b-b39c3a968976"
      },
      "execution_count": 31,
      "outputs": [
        {
          "output_type": "stream",
          "name": "stdout",
          "text": [
            "[<p>When you think about PMS or period food cravings, the first thing that comes to mind is usually cravings for chocolate – followed by salty chips, ice cream, and maybe a burger and fries, or Flaming Hot Cheetos.  </p>, <p>Hormone fluctuations can lead to a decrease in blood sugar, creating an urge to eat sugary or carb-rich foods. This is because carbs are necessary for the production of serotonin, a chemical in the brain that promotes a feeling of well-being and happiness. <strong>Low serotonin levels may contribute to symptoms of PMS</strong>, such as premenstrual depression, fatigue, food cravings, and difficulty sleeping.</p>, <p>It’s no wonder we crave these types of comfort foods around our period: They help distract us from painful menstrual cramps, fatigue, and the <a href=\"https://blog.flexfits.com/how-stress-affects-your-period/\" rel=\"noreferrer noopener\" target=\"_blank\">stress</a> that tends to ramp up right before period day one. Unfortunately, what we crave might not be what’s best for our bodies. Succumbing to that late-night Chick-Fil-A craving, red meat burgers, processed foods, and even spicy foods might actually leave you feeling worse.  </p>, <p>On the flip side, <strong>many nutrient-rich foods help with </strong><a href=\"https://blog.flexfits.com/weird-ways-to-deal-with-pms-symptoms/\" rel=\"noreferrer noopener\" target=\"_blank\"><strong>cramps and Premenstrual Syndrome (PMS)</strong></a><strong>, by reducing their intensity or even making them disappear entirely.</strong> We’re not talking obscure, expensive herbs or potions – just the “boring” fruits and veggies you see lining the produce aisle of your average grocery store. Turns out, leafy greens and sweet potatoes have some pretty magical powers when it comes to reducing cramping and menstrual pain.  </p>, <p>If you’re worried that getting the right nutrients during your period means sacrificing flavor, think again. We compiled a few Chrissy Teigen-worthy recipes of the best period comfort food that your body <em>and</em> your tastebuds will genuinely enjoy. Plus, they’re quick, easy to prepare, and can be done with limited kitchen equipment (read: even in your college dorm kitchen).  </p>]\n"
          ]
        }
      ]
    },
    {
      "cell_type": "code",
      "source": [
        "# print para\n",
        "for m in intro:\n",
        "  print(m.text)"
      ],
      "metadata": {
        "colab": {
          "base_uri": "https://localhost:8080/"
        },
        "id": "HH_1zVRLB3CU",
        "outputId": "9bf7dec3-bee4-41db-8dc3-d6de04bac2d3"
      },
      "execution_count": 32,
      "outputs": [
        {
          "output_type": "stream",
          "name": "stdout",
          "text": [
            "When you think about PMS or period food cravings, the first thing that comes to mind is usually cravings for chocolate – followed by salty chips, ice cream, and maybe a burger and fries, or Flaming Hot Cheetos.  \n",
            "Hormone fluctuations can lead to a decrease in blood sugar, creating an urge to eat sugary or carb-rich foods. This is because carbs are necessary for the production of serotonin, a chemical in the brain that promotes a feeling of well-being and happiness. Low serotonin levels may contribute to symptoms of PMS, such as premenstrual depression, fatigue, food cravings, and difficulty sleeping.\n",
            "It’s no wonder we crave these types of comfort foods around our period: They help distract us from painful menstrual cramps, fatigue, and the stress that tends to ramp up right before period day one. Unfortunately, what we crave might not be what’s best for our bodies. Succumbing to that late-night Chick-Fil-A craving, red meat burgers, processed foods, and even spicy foods might actually leave you feeling worse.  \n",
            "On the flip side, many nutrient-rich foods help with cramps and Premenstrual Syndrome (PMS), by reducing their intensity or even making them disappear entirely. We’re not talking obscure, expensive herbs or potions – just the “boring” fruits and veggies you see lining the produce aisle of your average grocery store. Turns out, leafy greens and sweet potatoes have some pretty magical powers when it comes to reducing cramping and menstrual pain.  \n",
            "If you’re worried that getting the right nutrients during your period means sacrificing flavor, think again. We compiled a few Chrissy Teigen-worthy recipes of the best period comfort food that your body and your tastebuds will genuinely enjoy. Plus, they’re quick, easy to prepare, and can be done with limited kitchen equipment (read: even in your college dorm kitchen).  \n"
          ]
        }
      ]
    },
    {
      "cell_type": "markdown",
      "source": [
        "## combine lists- title, ingredients and instructions"
      ],
      "metadata": {
        "id": "gKy-jz8SWQdh"
      }
    },
    {
      "cell_type": "code",
      "source": [
        "import csv\n"
      ],
      "metadata": {
        "id": "n1cC0evFBT87"
      },
      "execution_count": 33,
      "outputs": []
    },
    {
      "cell_type": "code",
      "source": [
        "import pandas as pd"
      ],
      "metadata": {
        "id": "DpobV4q1cq4l"
      },
      "execution_count": 34,
      "outputs": []
    },
    {
      "cell_type": "code",
      "source": [
        "# make 1st dataframe. make 2nd dataframe. make 3rd dataframe :|\n",
        "dt= pd.DataFrame(titles)\n",
        "dl= pd.DataFrame(list)\n",
        "di= pd.DataFrame(instructions)"
      ],
      "metadata": {
        "id": "21Xgl2eOjJ6V"
      },
      "execution_count": 35,
      "outputs": []
    },
    {
      "cell_type": "code",
      "source": [
        "print(dt)"
      ],
      "metadata": {
        "colab": {
          "base_uri": "https://localhost:8080/"
        },
        "id": "TB1xhCrOjlWG",
        "outputId": "97078283-396c-47e8-cb02-caabe75f4773"
      },
      "execution_count": 36,
      "outputs": [
        {
          "output_type": "stream",
          "name": "stdout",
          "text": [
            "                                                   0\n",
            "0     1. Cinnamon dark chocolate chip overnight oats\n",
            "1  2. Sheet pan pesto salmon with roasted sweet p...\n",
            "2                    3. Thai ginger chicken stir fry\n",
            "3                          4. Any-meal avocado toast\n",
            "4                   5. Glow-up “salad in a smoothie”\n"
          ]
        }
      ]
    },
    {
      "cell_type": "code",
      "source": [
        "print(dl)"
      ],
      "metadata": {
        "colab": {
          "base_uri": "https://localhost:8080/"
        },
        "id": "Eg_JYA99kQyF",
        "outputId": "4fa7be11-b1e8-445b-e6b6-da158304f58e"
      },
      "execution_count": 37,
      "outputs": [
        {
          "output_type": "stream",
          "name": "stdout",
          "text": [
            "                                                   0\n",
            "0  \\n½ cup rolled oats (Old Fashioned, not Instan...\n",
            "1  \\n2 (6oz.) salmon fillets (wild-caught is our ...\n",
            "2  \\n1 lb boneless, skinless chicken breast, cut ...\n",
            "3  \\n1 avocado, quartered and then thinly sliced\\...\n",
            "4  \\n½ avocado (fresh or frozen)\\n2-3 big handful...\n",
            "5                                                   \n"
          ]
        }
      ]
    },
    {
      "cell_type": "code",
      "source": [
        "# combine all dataframes:)\n",
        "resultt = pd.concat([dt, dl,di], axis=1)"
      ],
      "metadata": {
        "id": "uwA55jJ-kzaa"
      },
      "execution_count": 38,
      "outputs": []
    },
    {
      "cell_type": "code",
      "source": [
        "print(resultt)"
      ],
      "metadata": {
        "colab": {
          "base_uri": "https://localhost:8080/"
        },
        "id": "lF4nqTk6k3Mb",
        "outputId": "0f05b603-21dc-4cff-9582-0395dcdcf43a"
      },
      "execution_count": 39,
      "outputs": [
        {
          "output_type": "stream",
          "name": "stdout",
          "text": [
            "                                                   0  \\\n",
            "0     1. Cinnamon dark chocolate chip overnight oats   \n",
            "1  2. Sheet pan pesto salmon with roasted sweet p...   \n",
            "2                    3. Thai ginger chicken stir fry   \n",
            "3                          4. Any-meal avocado toast   \n",
            "4                   5. Glow-up “salad in a smoothie”   \n",
            "5                                                NaN   \n",
            "\n",
            "                                                   0  \\\n",
            "0  \\n½ cup rolled oats (Old Fashioned, not Instan...   \n",
            "1  \\n2 (6oz.) salmon fillets (wild-caught is our ...   \n",
            "2  \\n1 lb boneless, skinless chicken breast, cut ...   \n",
            "3  \\n1 avocado, quartered and then thinly sliced\\...   \n",
            "4  \\n½ avocado (fresh or frozen)\\n2-3 big handful...   \n",
            "5                                                      \n",
            "\n",
            "                                                   0  \n",
            "0  \\nThe night before: Mix all the ingredients EX...  \n",
            "1  \\nPreheat the oven to 400° F.\\nSpray a large s...  \n",
            "2  \\nStir the fish sauce, soy sauce, oyster sauce...  \n",
            "3  \\nArrange the avocado slices on your toasted b...  \n",
            "4  \\nPlace the avocado, Greek yogurt, frozen bana...  \n",
            "5                                                NaN  \n"
          ]
        }
      ]
    },
    {
      "cell_type": "code",
      "source": [
        "# create dataframe\n",
        "df= pd.DataFrame(resultt)"
      ],
      "metadata": {
        "id": "KudCeVlklSJM"
      },
      "execution_count": 40,
      "outputs": []
    },
    {
      "cell_type": "code",
      "source": [
        "# make csv file\n",
        "df.to_csv('Recipes-2.csv')"
      ],
      "metadata": {
        "id": "GWrGRPUhlb3H"
      },
      "execution_count": 41,
      "outputs": []
    },
    {
      "cell_type": "code",
      "source": [
        "# printing our extracted data in a neat manner ;)\n",
        "result=''\n",
        "for ti, ins, li in zip(title, instr, list):\n",
        "\n",
        "  result = result+ ti.text+\"\\n Ingredients: \"+li +\"Instructions:  \"+ ins.text\n",
        "  print(ti.text,\"\\n Ingredients: \", li, \"Instructions:  \",ins.text )\n"
      ],
      "metadata": {
        "colab": {
          "base_uri": "https://localhost:8080/"
        },
        "id": "RIYD0oNPbtjn",
        "outputId": "1179b1c6-9794-4185-d0e5-a6aac917d2f3"
      },
      "execution_count": 42,
      "outputs": [
        {
          "output_type": "stream",
          "name": "stdout",
          "text": [
            "1. Cinnamon dark chocolate chip overnight oats \n",
            " Ingredients:  \n",
            "½ cup rolled oats (Old Fashioned, not Instant)\n",
            "½ cup almond milk (or cow’s milk, oat milk, soy milk – whatever milk you’re loyal to) \n",
            "1-2 tbsp pure maple syrup (the real kind, please) or honey\n",
            "½ tsp cinnamon\n",
            "½ tsp unsweetened cocoa powder\n",
            "2 tbsp dark chocolate chips \n",
            "⅓ cup plain Greek yogurt \n",
            "¼ tsp vanilla extract (optional)\n",
            "1 tsp chia seeds (optional) \n",
            "1 banana (optional)\n",
            " Instructions:   \n",
            "The night before: Mix all the ingredients EXCEPT the banana in a bowl or mason jar, preferably one with a lid. \n",
            "Place the covered bowl or mason jar in the refrigerator overnight (or for at least 6 hours). \n",
            "The morning of: Grab a banana, slice ‘er up any way you like, and place it on top of your oats. Enjoy!\n",
            "\n",
            "2. Sheet pan pesto salmon with roasted sweet potato & broccoli rabe \n",
            " Ingredients:  \n",
            "2 (6oz.) salmon fillets (wild-caught is our favorite if you can find it)\n",
            "1 cup broccoli rabe, trimmed with tough stems removed\n",
            "1 ½ sweet potatoes, cubed\n",
            "½ tsp smoked paprika\n",
            "1 tbsp extra virgin olive oil\n",
            "Salt and pepper, to taste\n",
            "1 lemon, sliced into wedges\n",
            "\n",
            "1/3 cup walnuts\n",
            "2 large garlic cloves, roughly chopped\n",
            "2 cups gently packed *fresh* basil leaves\n",
            "1/2 teaspoon salt\n",
            "1/4 teaspoon ground black pepper\n",
            "2/3 cup extra virgin olive oil\n",
            "1/2 cup grated parmesan cheese\n",
            " Instructions:   \n",
            "Preheat the oven to 400° F.\n",
            "Spray a large sheet pan with non-stick spray or cover with parchment paper.\n",
            "Make the pesto: Place the walnuts and garlic in a food processor and pulse until chopped. Add the basil, salt, and pepper, and pulse until the mixture looks like a thick paste. Then, with the food processor running, add your olive oil in a steady stream until fully incorporated. Add the parmesan and pulse 30 seconds more. Store in a mason jar for up to a week in the fridge. \n",
            "Toss cubed sweet potatoes in a bowl with ½ tablespoon of olive oil, salt, and smoked paprika. Spread on one side of the sheet pan in an even layer. \n",
            "Place sweet potatoes in the oven for 15 minutes until partially cooked. Remove the pan from the oven, flip the sweet potatoes. \n",
            "Toss broccoli rabe with the other ½ tablespoon of olive oil, salt and pepper and spread on the other side of the sheet pan, leaving enough room for your salmon fillets. \n",
            "Place salmon fillets in the middle of the sheet pan and top each with a heaping spoonful of your homemade pesto so it covers each fillet. Place 1 lemon wedge on each fillet. \n",
            "Place the sheet pan back in the oven and bake for 15 minutes (you may need to leave the salmon in a couple of minutes longer depending on thickness). \n",
            "\n",
            "3. Thai ginger chicken stir fry \n",
            " Ingredients:  \n",
            "1 lb boneless, skinless chicken breast, cut into strips or bite-sized pieces\n",
            "2 tablespoons avocado oil\n",
            "3 cloves garlic, minced\n",
            "1 tablespoon fish sauce\n",
            "1 tablespoon soy sauce (or coconut aminos)\n",
            "2 tablespoons oyster sauce\n",
            "1 tablespoon honey\n",
            "1 tsp sriracha sauce (optional)\n",
            "½ cup fresh ginger, cut into matchsticks\n",
            "1 red bell pepper, cut into strips\n",
            "2 cups baby bok choy leaves, cleaned with ends trimmed\n",
            "¾ cup sliced shiitake mushrooms\n",
            "Salt and pepper to taste\n",
            "2 tablespoons fresh basil leaves or cilantro (optional)\n",
            "1 cup cooked brown rice\n",
            " Instructions:   \n",
            "Stir the fish sauce, soy sauce, oyster sauce, sriracha sauce, garlic, and honey in a small bowl until combined. \n",
            "Heat the avocado oil in a large frying pan or wok over medium-high heat. \n",
            "Season the chicken breast pieces with salt and pepper, then transfer to the pan and cook, stirring occasionally, until browned on all sides and nearly cooked through. \n",
            "Add the mushrooms, bell pepper, and ginger to the pan and stir fry for another 2 minutes. Then, turn the heat up to high and pour in the sauce, stirring right away (it should sizzle). Let the sauce thicken for a minute or so, then lower the heat and continue to cook on medium for another 2-3 minutes, or until chicken is cooked through. Add the bok choy leaves and stir gently, allowing them to wilt down slightly. \n",
            "Divide the rice between two bowls, top each bowl with stir fry, and garnish with basil or cilantro.\n",
            "\n",
            "4. Any-meal avocado toast \n",
            " Ingredients:  \n",
            "1 avocado, quartered and then thinly sliced\n",
            "2 small slices or one large slice multi-seed or multigrain + flax seed bread, toasted\n",
            "½ lemon\n",
            "1 small radish, thinly sliced\n",
            "2 tbsp roasted pumpkin seeds (salted or unsalted)\n",
            "¼ tsp smoked paprika\n",
            "½ tsp everything bagel seasoning\n",
            "Salt and pepper to taste\n",
            "1 tsp extra virgin olive oil \n",
            "1 egg (optional)\n",
            " Instructions:   \n",
            "Arrange the avocado slices on your toasted bread in an even layer.\n",
            "Arrange the radish slices on top of the avocado.\n",
            "Squeeze a bit of lemon juice over both slices (or your single slice).\n",
            "Sprinkle on the pumpkin seeds, paprika, everything bagel seasoning, salt, and pepper.\n",
            "Add a drizzle of olive oil, if desired. \n",
            "Want to make it a more filling meal? Fry or poach your egg and put that on top, too!\n",
            "\n",
            "5. Glow-up “salad in a smoothie” \n",
            " Ingredients:  \n",
            "½ avocado (fresh or frozen)\n",
            "2-3 big handfuls of fresh baby spinach \n",
            "⅓ cup plain Greek yogurt\n",
            "⅓ cup frozen banana slices\n",
            "⅓ cup frozen blueberries\n",
            "⅓ cup frozen raspberries\n",
            "1 ½ cups orange juice\n",
            "½ cup almond milk (or milk of choice)\n",
            "1 tbsp chia seeds\n",
            "1 tbsp flax seeds\n",
            "1 scoop collagen peptides or unflavored protein powder of your choice (optional)\n",
            " Instructions:   \n",
            "Place the avocado, Greek yogurt, frozen banana, and frozen berries in a blender.\n",
            "Add the chia seeds, flax seeds, and protein powder if desired, then shove in as much spinach as you can within your blender’s capacity (trust us on this – you won’t taste it!).\n",
            "Pour in the orange juice and almond milk (make sure you have enough liquid to cover the top of your other ingredients, but don’t overfill your blender). \n",
            "Blend for 1-2 minutes until everything is totally combined. If needed, add a couple ice cubes to thicken it up. Enjoy!\n",
            "\n"
          ]
        }
      ]
    },
    {
      "cell_type": "code",
      "source": [
        "print(result)"
      ],
      "metadata": {
        "colab": {
          "base_uri": "https://localhost:8080/"
        },
        "id": "FFsQSxyrcc60",
        "outputId": "274ae7b3-4952-4fa4-a6cf-f86029c51cae"
      },
      "execution_count": 43,
      "outputs": [
        {
          "output_type": "stream",
          "name": "stdout",
          "text": [
            "1. Cinnamon dark chocolate chip overnight oats\n",
            " Ingredients: \n",
            "½ cup rolled oats (Old Fashioned, not Instant)\n",
            "½ cup almond milk (or cow’s milk, oat milk, soy milk – whatever milk you’re loyal to) \n",
            "1-2 tbsp pure maple syrup (the real kind, please) or honey\n",
            "½ tsp cinnamon\n",
            "½ tsp unsweetened cocoa powder\n",
            "2 tbsp dark chocolate chips \n",
            "⅓ cup plain Greek yogurt \n",
            "¼ tsp vanilla extract (optional)\n",
            "1 tsp chia seeds (optional) \n",
            "1 banana (optional)\n",
            "Instructions:  \n",
            "The night before: Mix all the ingredients EXCEPT the banana in a bowl or mason jar, preferably one with a lid. \n",
            "Place the covered bowl or mason jar in the refrigerator overnight (or for at least 6 hours). \n",
            "The morning of: Grab a banana, slice ‘er up any way you like, and place it on top of your oats. Enjoy!\n",
            "2. Sheet pan pesto salmon with roasted sweet potato & broccoli rabe\n",
            " Ingredients: \n",
            "2 (6oz.) salmon fillets (wild-caught is our favorite if you can find it)\n",
            "1 cup broccoli rabe, trimmed with tough stems removed\n",
            "1 ½ sweet potatoes, cubed\n",
            "½ tsp smoked paprika\n",
            "1 tbsp extra virgin olive oil\n",
            "Salt and pepper, to taste\n",
            "1 lemon, sliced into wedges\n",
            "\n",
            "1/3 cup walnuts\n",
            "2 large garlic cloves, roughly chopped\n",
            "2 cups gently packed *fresh* basil leaves\n",
            "1/2 teaspoon salt\n",
            "1/4 teaspoon ground black pepper\n",
            "2/3 cup extra virgin olive oil\n",
            "1/2 cup grated parmesan cheese\n",
            "Instructions:  \n",
            "Preheat the oven to 400° F.\n",
            "Spray a large sheet pan with non-stick spray or cover with parchment paper.\n",
            "Make the pesto: Place the walnuts and garlic in a food processor and pulse until chopped. Add the basil, salt, and pepper, and pulse until the mixture looks like a thick paste. Then, with the food processor running, add your olive oil in a steady stream until fully incorporated. Add the parmesan and pulse 30 seconds more. Store in a mason jar for up to a week in the fridge. \n",
            "Toss cubed sweet potatoes in a bowl with ½ tablespoon of olive oil, salt, and smoked paprika. Spread on one side of the sheet pan in an even layer. \n",
            "Place sweet potatoes in the oven for 15 minutes until partially cooked. Remove the pan from the oven, flip the sweet potatoes. \n",
            "Toss broccoli rabe with the other ½ tablespoon of olive oil, salt and pepper and spread on the other side of the sheet pan, leaving enough room for your salmon fillets. \n",
            "Place salmon fillets in the middle of the sheet pan and top each with a heaping spoonful of your homemade pesto so it covers each fillet. Place 1 lemon wedge on each fillet. \n",
            "Place the sheet pan back in the oven and bake for 15 minutes (you may need to leave the salmon in a couple of minutes longer depending on thickness). \n",
            "3. Thai ginger chicken stir fry\n",
            " Ingredients: \n",
            "1 lb boneless, skinless chicken breast, cut into strips or bite-sized pieces\n",
            "2 tablespoons avocado oil\n",
            "3 cloves garlic, minced\n",
            "1 tablespoon fish sauce\n",
            "1 tablespoon soy sauce (or coconut aminos)\n",
            "2 tablespoons oyster sauce\n",
            "1 tablespoon honey\n",
            "1 tsp sriracha sauce (optional)\n",
            "½ cup fresh ginger, cut into matchsticks\n",
            "1 red bell pepper, cut into strips\n",
            "2 cups baby bok choy leaves, cleaned with ends trimmed\n",
            "¾ cup sliced shiitake mushrooms\n",
            "Salt and pepper to taste\n",
            "2 tablespoons fresh basil leaves or cilantro (optional)\n",
            "1 cup cooked brown rice\n",
            "Instructions:  \n",
            "Stir the fish sauce, soy sauce, oyster sauce, sriracha sauce, garlic, and honey in a small bowl until combined. \n",
            "Heat the avocado oil in a large frying pan or wok over medium-high heat. \n",
            "Season the chicken breast pieces with salt and pepper, then transfer to the pan and cook, stirring occasionally, until browned on all sides and nearly cooked through. \n",
            "Add the mushrooms, bell pepper, and ginger to the pan and stir fry for another 2 minutes. Then, turn the heat up to high and pour in the sauce, stirring right away (it should sizzle). Let the sauce thicken for a minute or so, then lower the heat and continue to cook on medium for another 2-3 minutes, or until chicken is cooked through. Add the bok choy leaves and stir gently, allowing them to wilt down slightly. \n",
            "Divide the rice between two bowls, top each bowl with stir fry, and garnish with basil or cilantro.\n",
            "4. Any-meal avocado toast\n",
            " Ingredients: \n",
            "1 avocado, quartered and then thinly sliced\n",
            "2 small slices or one large slice multi-seed or multigrain + flax seed bread, toasted\n",
            "½ lemon\n",
            "1 small radish, thinly sliced\n",
            "2 tbsp roasted pumpkin seeds (salted or unsalted)\n",
            "¼ tsp smoked paprika\n",
            "½ tsp everything bagel seasoning\n",
            "Salt and pepper to taste\n",
            "1 tsp extra virgin olive oil \n",
            "1 egg (optional)\n",
            "Instructions:  \n",
            "Arrange the avocado slices on your toasted bread in an even layer.\n",
            "Arrange the radish slices on top of the avocado.\n",
            "Squeeze a bit of lemon juice over both slices (or your single slice).\n",
            "Sprinkle on the pumpkin seeds, paprika, everything bagel seasoning, salt, and pepper.\n",
            "Add a drizzle of olive oil, if desired. \n",
            "Want to make it a more filling meal? Fry or poach your egg and put that on top, too!\n",
            "5. Glow-up “salad in a smoothie”\n",
            " Ingredients: \n",
            "½ avocado (fresh or frozen)\n",
            "2-3 big handfuls of fresh baby spinach \n",
            "⅓ cup plain Greek yogurt\n",
            "⅓ cup frozen banana slices\n",
            "⅓ cup frozen blueberries\n",
            "⅓ cup frozen raspberries\n",
            "1 ½ cups orange juice\n",
            "½ cup almond milk (or milk of choice)\n",
            "1 tbsp chia seeds\n",
            "1 tbsp flax seeds\n",
            "1 scoop collagen peptides or unflavored protein powder of your choice (optional)\n",
            "Instructions:  \n",
            "Place the avocado, Greek yogurt, frozen banana, and frozen berries in a blender.\n",
            "Add the chia seeds, flax seeds, and protein powder if desired, then shove in as much spinach as you can within your blender’s capacity (trust us on this – you won’t taste it!).\n",
            "Pour in the orange juice and almond milk (make sure you have enough liquid to cover the top of your other ingredients, but don’t overfill your blender). \n",
            "Blend for 1-2 minutes until everything is totally combined. If needed, add a couple ice cubes to thicken it up. Enjoy!\n",
            "\n"
          ]
        }
      ]
    }
  ]
}