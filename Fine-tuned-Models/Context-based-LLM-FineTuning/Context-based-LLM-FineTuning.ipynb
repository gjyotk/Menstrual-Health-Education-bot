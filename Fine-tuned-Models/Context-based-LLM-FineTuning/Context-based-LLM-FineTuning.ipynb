{
 "cells": [
  {
   "cell_type": "markdown",
   "metadata": {
    "id": "lWXWVX5Tk2ws"
   },
   "source": [
    "##Context based LLM Fine-tuning"
   ]
  },
  {
   "cell_type": "code",
   "execution_count": 1,
   "metadata": {},
   "outputs": [
    {
     "name": "stdout",
     "output_type": "stream",
     "text": [
      "Collecting simpletransformers\n",
      "  Downloading simpletransformers-0.70.0-py3-none-any.whl (315 kB)\n",
      "\u001b[2K     \u001b[90m━━━━━━━━━━━━━━━━━━━━━━━━━━━━━━━━━━━━━━━━\u001b[0m \u001b[32m315.5/315.5 kB\u001b[0m \u001b[31m5.2 MB/s\u001b[0m eta \u001b[36m0:00:00\u001b[0m\n",
      "\u001b[?25hRequirement already satisfied: numpy in /usr/local/lib/python3.10/dist-packages (from simpletransformers) (1.25.2)\n",
      "Requirement already satisfied: requests in /usr/local/lib/python3.10/dist-packages (from simpletransformers) (2.31.0)\n",
      "Requirement already satisfied: tqdm>=4.47.0 in /usr/local/lib/python3.10/dist-packages (from simpletransformers) (4.66.2)\n",
      "Requirement already satisfied: regex in /usr/local/lib/python3.10/dist-packages (from simpletransformers) (2023.12.25)\n",
      "Requirement already satisfied: transformers>=4.31.0 in /usr/local/lib/python3.10/dist-packages (from simpletransformers) (4.38.2)\n",
      "Collecting datasets (from simpletransformers)\n",
      "  Downloading datasets-2.19.0-py3-none-any.whl (542 kB)\n",
      "\u001b[2K     \u001b[90m━━━━━━━━━━━━━━━━━━━━━━━━━━━━━━━━━━━━━━━━\u001b[0m \u001b[32m542.0/542.0 kB\u001b[0m \u001b[31m8.5 MB/s\u001b[0m eta \u001b[36m0:00:00\u001b[0m\n",
      "\u001b[?25hRequirement already satisfied: scipy in /usr/local/lib/python3.10/dist-packages (from simpletransformers) (1.11.4)\n",
      "Requirement already satisfied: scikit-learn in /usr/local/lib/python3.10/dist-packages (from simpletransformers) (1.2.2)\n",
      "Collecting seqeval (from simpletransformers)\n",
      "  Downloading seqeval-1.2.2.tar.gz (43 kB)\n",
      "\u001b[2K     \u001b[90m━━━━━━━━━━━━━━━━━━━━━━━━━━━━━━━━━━━━━━━━\u001b[0m \u001b[32m43.6/43.6 kB\u001b[0m \u001b[31m4.3 MB/s\u001b[0m eta \u001b[36m0:00:00\u001b[0m\n",
      "\u001b[?25h  Preparing metadata (setup.py) ... \u001b[?25l\u001b[?25hdone\n",
      "Requirement already satisfied: tensorboard in /usr/local/lib/python3.10/dist-packages (from simpletransformers) (2.15.2)\n",
      "Collecting tensorboardx (from simpletransformers)\n",
      "  Downloading tensorboardX-2.6.2.2-py2.py3-none-any.whl (101 kB)\n",
      "\u001b[2K     \u001b[90m━━━━━━━━━━━━━━━━━━━━━━━━━━━━━━━━━━━━━━━━\u001b[0m \u001b[32m101.7/101.7 kB\u001b[0m \u001b[31m8.0 MB/s\u001b[0m eta \u001b[36m0:00:00\u001b[0m\n",
      "\u001b[?25hRequirement already satisfied: pandas in /usr/local/lib/python3.10/dist-packages (from simpletransformers) (2.0.3)\n",
      "Requirement already satisfied: tokenizers in /usr/local/lib/python3.10/dist-packages (from simpletransformers) (0.15.2)\n",
      "Collecting wandb>=0.10.32 (from simpletransformers)\n",
      "  Downloading wandb-0.16.6-py3-none-any.whl (2.2 MB)\n",
      "\u001b[2K     \u001b[90m━━━━━━━━━━━━━━━━━━━━━━━━━━━━━━━━━━━━━━━━\u001b[0m \u001b[32m2.2/2.2 MB\u001b[0m \u001b[31m13.0 MB/s\u001b[0m eta \u001b[36m0:00:00\u001b[0m\n",
      "\u001b[?25hCollecting streamlit (from simpletransformers)\n",
      "  Downloading streamlit-1.33.0-py2.py3-none-any.whl (8.1 MB)\n",
      "\u001b[2K     \u001b[90m━━━━━━━━━━━━━━━━━━━━━━━━━━━━━━━━━━━━━━━━\u001b[0m \u001b[32m8.1/8.1 MB\u001b[0m \u001b[31m26.5 MB/s\u001b[0m eta \u001b[36m0:00:00\u001b[0m\n",
      "\u001b[?25hRequirement already satisfied: sentencepiece in /usr/local/lib/python3.10/dist-packages (from simpletransformers) (0.1.99)\n",
      "Requirement already satisfied: filelock in /usr/local/lib/python3.10/dist-packages (from transformers>=4.31.0->simpletransformers) (3.13.4)\n",
      "Requirement already satisfied: huggingface-hub<1.0,>=0.19.3 in /usr/local/lib/python3.10/dist-packages (from transformers>=4.31.0->simpletransformers) (0.20.3)\n",
      "Requirement already satisfied: packaging>=20.0 in /usr/local/lib/python3.10/dist-packages (from transformers>=4.31.0->simpletransformers) (24.0)\n",
      "Requirement already satisfied: pyyaml>=5.1 in /usr/local/lib/python3.10/dist-packages (from transformers>=4.31.0->simpletransformers) (6.0.1)\n",
      "Requirement already satisfied: safetensors>=0.4.1 in /usr/local/lib/python3.10/dist-packages (from transformers>=4.31.0->simpletransformers) (0.4.3)\n",
      "Requirement already satisfied: Click!=8.0.0,>=7.1 in /usr/local/lib/python3.10/dist-packages (from wandb>=0.10.32->simpletransformers) (8.1.7)\n",
      "Collecting GitPython!=3.1.29,>=1.0.0 (from wandb>=0.10.32->simpletransformers)\n",
      "  Downloading GitPython-3.1.43-py3-none-any.whl (207 kB)\n",
      "\u001b[2K     \u001b[90m━━━━━━━━━━━━━━━━━━━━━━━━━━━━━━━━━━━━━━━━\u001b[0m \u001b[32m207.3/207.3 kB\u001b[0m \u001b[31m13.9 MB/s\u001b[0m eta \u001b[36m0:00:00\u001b[0m\n",
      "\u001b[?25hRequirement already satisfied: psutil>=5.0.0 in /usr/local/lib/python3.10/dist-packages (from wandb>=0.10.32->simpletransformers) (5.9.5)\n",
      "Collecting sentry-sdk>=1.0.0 (from wandb>=0.10.32->simpletransformers)\n",
      "  Downloading sentry_sdk-1.45.0-py2.py3-none-any.whl (267 kB)\n",
      "\u001b[2K     \u001b[90m━━━━━━━━━━━━━━━━━━━━━━━━━━━━━━━━━━━━━━━━\u001b[0m \u001b[32m267.1/267.1 kB\u001b[0m \u001b[31m15.3 MB/s\u001b[0m eta \u001b[36m0:00:00\u001b[0m\n",
      "\u001b[?25hCollecting docker-pycreds>=0.4.0 (from wandb>=0.10.32->simpletransformers)\n",
      "  Downloading docker_pycreds-0.4.0-py2.py3-none-any.whl (9.0 kB)\n",
      "Collecting setproctitle (from wandb>=0.10.32->simpletransformers)\n",
      "  Downloading setproctitle-1.3.3-cp310-cp310-manylinux_2_5_x86_64.manylinux1_x86_64.manylinux_2_17_x86_64.manylinux2014_x86_64.whl (30 kB)\n",
      "Requirement already satisfied: setuptools in /usr/local/lib/python3.10/dist-packages (from wandb>=0.10.32->simpletransformers) (67.7.2)\n",
      "Requirement already satisfied: appdirs>=1.4.3 in /usr/local/lib/python3.10/dist-packages (from wandb>=0.10.32->simpletransformers) (1.4.4)\n",
      "Requirement already satisfied: protobuf!=4.21.0,<5,>=3.19.0 in /usr/local/lib/python3.10/dist-packages (from wandb>=0.10.32->simpletransformers) (3.20.3)\n",
      "Requirement already satisfied: charset-normalizer<4,>=2 in /usr/local/lib/python3.10/dist-packages (from requests->simpletransformers) (3.3.2)\n",
      "Requirement already satisfied: idna<4,>=2.5 in /usr/local/lib/python3.10/dist-packages (from requests->simpletransformers) (3.7)\n",
      "Requirement already satisfied: urllib3<3,>=1.21.1 in /usr/local/lib/python3.10/dist-packages (from requests->simpletransformers) (2.0.7)\n",
      "Requirement already satisfied: certifi>=2017.4.17 in /usr/local/lib/python3.10/dist-packages (from requests->simpletransformers) (2024.2.2)\n",
      "Requirement already satisfied: pyarrow>=12.0.0 in /usr/local/lib/python3.10/dist-packages (from datasets->simpletransformers) (14.0.2)\n",
      "Requirement already satisfied: pyarrow-hotfix in /usr/local/lib/python3.10/dist-packages (from datasets->simpletransformers) (0.6)\n",
      "Collecting dill<0.3.9,>=0.3.0 (from datasets->simpletransformers)\n",
      "  Downloading dill-0.3.8-py3-none-any.whl (116 kB)\n",
      "\u001b[2K     \u001b[90m━━━━━━━━━━━━━━━━━━━━━━━━━━━━━━━━━━━━━━━━\u001b[0m \u001b[32m116.3/116.3 kB\u001b[0m \u001b[31m9.3 MB/s\u001b[0m eta \u001b[36m0:00:00\u001b[0m\n",
      "\u001b[?25hCollecting xxhash (from datasets->simpletransformers)\n",
      "  Downloading xxhash-3.4.1-cp310-cp310-manylinux_2_17_x86_64.manylinux2014_x86_64.whl (194 kB)\n",
      "\u001b[2K     \u001b[90m━━━━━━━━━━━━━━━━━━━━━━━━━━━━━━━━━━━━━━━━\u001b[0m \u001b[32m194.1/194.1 kB\u001b[0m \u001b[31m10.0 MB/s\u001b[0m eta \u001b[36m0:00:00\u001b[0m\n",
      "\u001b[?25hCollecting multiprocess (from datasets->simpletransformers)\n",
      "  Downloading multiprocess-0.70.16-py310-none-any.whl (134 kB)\n",
      "\u001b[2K     \u001b[90m━━━━━━━━━━━━━━━━━━━━━━━━━━━━━━━━━━━━━━━━\u001b[0m \u001b[32m134.8/134.8 kB\u001b[0m \u001b[31m8.1 MB/s\u001b[0m eta \u001b[36m0:00:00\u001b[0m\n",
      "\u001b[?25hRequirement already satisfied: fsspec[http]<=2024.3.1,>=2023.1.0 in /usr/local/lib/python3.10/dist-packages (from datasets->simpletransformers) (2023.6.0)\n",
      "Requirement already satisfied: aiohttp in /usr/local/lib/python3.10/dist-packages (from datasets->simpletransformers) (3.9.5)\n",
      "Collecting huggingface-hub<1.0,>=0.19.3 (from transformers>=4.31.0->simpletransformers)\n",
      "  Downloading huggingface_hub-0.22.2-py3-none-any.whl (388 kB)\n",
      "\u001b[2K     \u001b[90m━━━━━━━━━━━━━━━━━━━━━━━━━━━━━━━━━━━━━━━━\u001b[0m \u001b[32m388.9/388.9 kB\u001b[0m \u001b[31m22.0 MB/s\u001b[0m eta \u001b[36m0:00:00\u001b[0m\n",
      "\u001b[?25hRequirement already satisfied: python-dateutil>=2.8.2 in /usr/local/lib/python3.10/dist-packages (from pandas->simpletransformers) (2.8.2)\n",
      "Requirement already satisfied: pytz>=2020.1 in /usr/local/lib/python3.10/dist-packages (from pandas->simpletransformers) (2023.4)\n",
      "Requirement already satisfied: tzdata>=2022.1 in /usr/local/lib/python3.10/dist-packages (from pandas->simpletransformers) (2024.1)\n",
      "Requirement already satisfied: joblib>=1.1.1 in /usr/local/lib/python3.10/dist-packages (from scikit-learn->simpletransformers) (1.4.0)\n",
      "Requirement already satisfied: threadpoolctl>=2.0.0 in /usr/local/lib/python3.10/dist-packages (from scikit-learn->simpletransformers) (3.4.0)\n",
      "Requirement already satisfied: altair<6,>=4.0 in /usr/local/lib/python3.10/dist-packages (from streamlit->simpletransformers) (4.2.2)\n",
      "Requirement already satisfied: blinker<2,>=1.0.0 in /usr/lib/python3/dist-packages (from streamlit->simpletransformers) (1.4)\n",
      "Requirement already satisfied: cachetools<6,>=4.0 in /usr/local/lib/python3.10/dist-packages (from streamlit->simpletransformers) (5.3.3)\n",
      "Requirement already satisfied: pillow<11,>=7.1.0 in /usr/local/lib/python3.10/dist-packages (from streamlit->simpletransformers) (9.4.0)\n",
      "Requirement already satisfied: rich<14,>=10.14.0 in /usr/local/lib/python3.10/dist-packages (from streamlit->simpletransformers) (13.7.1)\n",
      "Requirement already satisfied: tenacity<9,>=8.1.0 in /usr/local/lib/python3.10/dist-packages (from streamlit->simpletransformers) (8.2.3)\n",
      "Requirement already satisfied: toml<2,>=0.10.1 in /usr/local/lib/python3.10/dist-packages (from streamlit->simpletransformers) (0.10.2)\n",
      "Requirement already satisfied: typing-extensions<5,>=4.3.0 in /usr/local/lib/python3.10/dist-packages (from streamlit->simpletransformers) (4.11.0)\n",
      "Collecting pydeck<1,>=0.8.0b4 (from streamlit->simpletransformers)\n",
      "  Downloading pydeck-0.8.1b0-py2.py3-none-any.whl (4.8 MB)\n",
      "\u001b[2K     \u001b[90m━━━━━━━━━━━━━━━━━━━━━━━━━━━━━━━━━━━━━━━━\u001b[0m \u001b[32m4.8/4.8 MB\u001b[0m \u001b[31m38.9 MB/s\u001b[0m eta \u001b[36m0:00:00\u001b[0m\n",
      "\u001b[?25hRequirement already satisfied: tornado<7,>=6.0.3 in /usr/local/lib/python3.10/dist-packages (from streamlit->simpletransformers) (6.3.3)\n",
      "Collecting watchdog>=2.1.5 (from streamlit->simpletransformers)\n",
      "  Downloading watchdog-4.0.0-py3-none-manylinux2014_x86_64.whl (82 kB)\n",
      "\u001b[2K     \u001b[90m━━━━━━━━━━━━━━━━━━━━━━━━━━━━━━━━━━━━━━━━\u001b[0m \u001b[32m83.0/83.0 kB\u001b[0m \u001b[31m8.6 MB/s\u001b[0m eta \u001b[36m0:00:00\u001b[0m\n",
      "\u001b[?25hRequirement already satisfied: absl-py>=0.4 in /usr/local/lib/python3.10/dist-packages (from tensorboard->simpletransformers) (1.4.0)\n",
      "Requirement already satisfied: grpcio>=1.48.2 in /usr/local/lib/python3.10/dist-packages (from tensorboard->simpletransformers) (1.62.1)\n",
      "Requirement already satisfied: google-auth<3,>=1.6.3 in /usr/local/lib/python3.10/dist-packages (from tensorboard->simpletransformers) (2.27.0)\n",
      "Requirement already satisfied: google-auth-oauthlib<2,>=0.5 in /usr/local/lib/python3.10/dist-packages (from tensorboard->simpletransformers) (1.2.0)\n",
      "Requirement already satisfied: markdown>=2.6.8 in /usr/local/lib/python3.10/dist-packages (from tensorboard->simpletransformers) (3.6)\n",
      "Requirement already satisfied: six>1.9 in /usr/local/lib/python3.10/dist-packages (from tensorboard->simpletransformers) (1.16.0)\n",
      "Requirement already satisfied: tensorboard-data-server<0.8.0,>=0.7.0 in /usr/local/lib/python3.10/dist-packages (from tensorboard->simpletransformers) (0.7.2)\n",
      "Requirement already satisfied: werkzeug>=1.0.1 in /usr/local/lib/python3.10/dist-packages (from tensorboard->simpletransformers) (3.0.2)\n",
      "Requirement already satisfied: entrypoints in /usr/local/lib/python3.10/dist-packages (from altair<6,>=4.0->streamlit->simpletransformers) (0.4)\n",
      "Requirement already satisfied: jinja2 in /usr/local/lib/python3.10/dist-packages (from altair<6,>=4.0->streamlit->simpletransformers) (3.1.3)\n",
      "Requirement already satisfied: jsonschema>=3.0 in /usr/local/lib/python3.10/dist-packages (from altair<6,>=4.0->streamlit->simpletransformers) (4.19.2)\n",
      "Requirement already satisfied: toolz in /usr/local/lib/python3.10/dist-packages (from altair<6,>=4.0->streamlit->simpletransformers) (0.12.1)\n",
      "Requirement already satisfied: aiosignal>=1.1.2 in /usr/local/lib/python3.10/dist-packages (from aiohttp->datasets->simpletransformers) (1.3.1)\n",
      "Requirement already satisfied: attrs>=17.3.0 in /usr/local/lib/python3.10/dist-packages (from aiohttp->datasets->simpletransformers) (23.2.0)\n",
      "Requirement already satisfied: frozenlist>=1.1.1 in /usr/local/lib/python3.10/dist-packages (from aiohttp->datasets->simpletransformers) (1.4.1)\n",
      "Requirement already satisfied: multidict<7.0,>=4.5 in /usr/local/lib/python3.10/dist-packages (from aiohttp->datasets->simpletransformers) (6.0.5)\n",
      "Requirement already satisfied: yarl<2.0,>=1.0 in /usr/local/lib/python3.10/dist-packages (from aiohttp->datasets->simpletransformers) (1.9.4)\n",
      "Requirement already satisfied: async-timeout<5.0,>=4.0 in /usr/local/lib/python3.10/dist-packages (from aiohttp->datasets->simpletransformers) (4.0.3)\n",
      "Collecting gitdb<5,>=4.0.1 (from GitPython!=3.1.29,>=1.0.0->wandb>=0.10.32->simpletransformers)\n",
      "  Downloading gitdb-4.0.11-py3-none-any.whl (62 kB)\n",
      "\u001b[2K     \u001b[90m━━━━━━━━━━━━━━━━━━━━━━━━━━━━━━━━━━━━━━━━\u001b[0m \u001b[32m62.7/62.7 kB\u001b[0m \u001b[31m6.8 MB/s\u001b[0m eta \u001b[36m0:00:00\u001b[0m\n",
      "\u001b[?25hRequirement already satisfied: pyasn1-modules>=0.2.1 in /usr/local/lib/python3.10/dist-packages (from google-auth<3,>=1.6.3->tensorboard->simpletransformers) (0.4.0)\n",
      "Requirement already satisfied: rsa<5,>=3.1.4 in /usr/local/lib/python3.10/dist-packages (from google-auth<3,>=1.6.3->tensorboard->simpletransformers) (4.9)\n",
      "Requirement already satisfied: requests-oauthlib>=0.7.0 in /usr/local/lib/python3.10/dist-packages (from google-auth-oauthlib<2,>=0.5->tensorboard->simpletransformers) (1.3.1)\n",
      "Requirement already satisfied: markdown-it-py>=2.2.0 in /usr/local/lib/python3.10/dist-packages (from rich<14,>=10.14.0->streamlit->simpletransformers) (3.0.0)\n",
      "Requirement already satisfied: pygments<3.0.0,>=2.13.0 in /usr/local/lib/python3.10/dist-packages (from rich<14,>=10.14.0->streamlit->simpletransformers) (2.16.1)\n",
      "Requirement already satisfied: MarkupSafe>=2.1.1 in /usr/local/lib/python3.10/dist-packages (from werkzeug>=1.0.1->tensorboard->simpletransformers) (2.1.5)\n",
      "Collecting smmap<6,>=3.0.1 (from gitdb<5,>=4.0.1->GitPython!=3.1.29,>=1.0.0->wandb>=0.10.32->simpletransformers)\n",
      "  Downloading smmap-5.0.1-py3-none-any.whl (24 kB)\n",
      "Requirement already satisfied: jsonschema-specifications>=2023.03.6 in /usr/local/lib/python3.10/dist-packages (from jsonschema>=3.0->altair<6,>=4.0->streamlit->simpletransformers) (2023.12.1)\n",
      "Requirement already satisfied: referencing>=0.28.4 in /usr/local/lib/python3.10/dist-packages (from jsonschema>=3.0->altair<6,>=4.0->streamlit->simpletransformers) (0.34.0)\n",
      "Requirement already satisfied: rpds-py>=0.7.1 in /usr/local/lib/python3.10/dist-packages (from jsonschema>=3.0->altair<6,>=4.0->streamlit->simpletransformers) (0.18.0)\n",
      "Requirement already satisfied: mdurl~=0.1 in /usr/local/lib/python3.10/dist-packages (from markdown-it-py>=2.2.0->rich<14,>=10.14.0->streamlit->simpletransformers) (0.1.2)\n",
      "Requirement already satisfied: pyasn1<0.7.0,>=0.4.6 in /usr/local/lib/python3.10/dist-packages (from pyasn1-modules>=0.2.1->google-auth<3,>=1.6.3->tensorboard->simpletransformers) (0.6.0)\n",
      "Requirement already satisfied: oauthlib>=3.0.0 in /usr/local/lib/python3.10/dist-packages (from requests-oauthlib>=0.7.0->google-auth-oauthlib<2,>=0.5->tensorboard->simpletransformers) (3.2.2)\n",
      "Building wheels for collected packages: seqeval\n",
      "  Building wheel for seqeval (setup.py) ... \u001b[?25l\u001b[?25hdone\n",
      "  Created wheel for seqeval: filename=seqeval-1.2.2-py3-none-any.whl size=16161 sha256=03832a82a1e08f2244cc50b84eb16a7aeab0d6571ff69579bdf1c0e703d01774\n",
      "  Stored in directory: /root/.cache/pip/wheels/1a/67/4a/ad4082dd7dfc30f2abfe4d80a2ed5926a506eb8a972b4767fa\n",
      "Successfully built seqeval\n",
      "Installing collected packages: xxhash, watchdog, tensorboardx, smmap, setproctitle, sentry-sdk, docker-pycreds, dill, pydeck, multiprocess, huggingface-hub, gitdb, seqeval, GitPython, wandb, datasets, streamlit, simpletransformers\n",
      "  Attempting uninstall: huggingface-hub\n",
      "    Found existing installation: huggingface-hub 0.20.3\n",
      "    Uninstalling huggingface-hub-0.20.3:\n",
      "      Successfully uninstalled huggingface-hub-0.20.3\n",
      "Successfully installed GitPython-3.1.43 datasets-2.19.0 dill-0.3.8 docker-pycreds-0.4.0 gitdb-4.0.11 huggingface-hub-0.22.2 multiprocess-0.70.16 pydeck-0.8.1b0 sentry-sdk-1.45.0 seqeval-1.2.2 setproctitle-1.3.3 simpletransformers-0.70.0 smmap-5.0.1 streamlit-1.33.0 tensorboardx-2.6.2.2 wandb-0.16.6 watchdog-4.0.0 xxhash-3.4.1\n"
     ]
    }
   ],
   "source": [
    "!pip install simpletransformers"
   ]
  },
  {
   "cell_type": "code",
   "execution_count": 3,
   "metadata": {},
   "outputs": [],
   "source": [
    "import json\n",
    "with open(r\"/content/train.json\", \"r\") as read_file:\n",
    "    train = json.load(read_file)"
   ]
  },
  {
   "cell_type": "code",
   "execution_count": 4,
   "metadata": {},
   "outputs": [
    {
     "data": {
      "text/plain": [
       "[{'context': 'A normal menstrual cycle typically ranges from 21 to 35 days, with the average cycle lasting around 28 days.',\n",
       "  'qas': [{'id': '00001',\n",
       "    'is_impossible': False,\n",
       "    'question': 'What is a normal menstrual cycle length?',\n",
       "    'answers': [{'text': '21 to 35 days', 'answer_start': 71}]}]},\n",
       " {'context': 'Common causes of irregular periods include hormonal imbalances, stress, excessive exercise, weight changes, thyroid disorders, and certain medical conditions.',\n",
       "  'qas': [{'id': '00002',\n",
       "    'is_impossible': False,\n",
       "    'question': 'What are common causes of irregular periods?',\n",
       "    'answers': [{'text': 'hormonal imbalances, stress, excessive exercise, weight changes, thyroid disorders, and certain medical conditions',\n",
       "      'answer_start': 28}]}]},\n",
       " {'context': 'Menstrual cramps can be alleviated through various methods including over-the-counter pain relievers, applying heat to the abdomen, gentle exercise, relaxation techniques, and dietary changes.',\n",
       "  'qas': [{'id': '00003',\n",
       "    'is_impossible': False,\n",
       "    'question': 'How can I alleviate menstrual cramps?',\n",
       "    'answers': [{'text': 'over-the-counter pain relievers, applying heat to the abdomen, gentle exercise, relaxation techniques, and dietary changes',\n",
       "      'answer_start': 63}]}]},\n",
       " {'context': 'Signs of a heavy menstrual flow include soaking through one or more pads or tampons every hour for several consecutive hours, passing large blood clots, and experiencing symptoms like fatigue and shortness of breath.',\n",
       "  'qas': [{'id': '00004',\n",
       "    'is_impossible': False,\n",
       "    'question': 'What are the signs of a heavy menstrual flow?',\n",
       "    'answers': [{'text': 'soaking through one or more pads or tampons every hour for several consecutive hours, passing large blood clots, and experiencing symptoms like fatigue and shortness of breath',\n",
       "      'answer_start': 69}]}]},\n",
       " {'context': 'it is common for some individuals to experience mood swings, irritability, or changes in mood before and during menstruation due to hormonal fluctuations..',\n",
       "  'qas': [{'id': '00005',\n",
       "    'is_impossible': False,\n",
       "    'question': 'Is it normal to experience mood swings during menstruation?',\n",
       "    'answers': [{'text': 'Yes', 'answer_start': 15}]}]},\n",
       " {'context': 'Signs of a menstrual disorder include irregular periods, extremely heavy or light periods, severe menstrual cramps, prolonged periods, and other abnormal menstrual symptoms that interfere with daily life.',\n",
       "  'qas': [{'id': '00006',\n",
       "    'is_impossible': False,\n",
       "    'question': 'How do I know if I have a menstrual disorder?',\n",
       "    'answers': [{'text': 'irregular periods, extremely heavy or light periods, severe menstrual cramps, prolonged periods',\n",
       "      'answer_start': 52}]}]},\n",
       " {'context': 'Natural remedies for PMS include dietary changes (such as reducing caffeine and increasing intake of fruits and vegetables), regular exercise, stress management techniques (such as yoga and meditation), and herbal supplements.',\n",
       "  'qas': [{'id': '00007',\n",
       "    'is_impossible': False,\n",
       "    'question': 'What are some natural remedies for PMS (premenstrual syndrome)?',\n",
       "    'answers': [{'text': 'reducing caffeine and increasing intake of fruits and vegetables, regular exercise, stress management techniques ',\n",
       "      'answer_start': 44}]}]},\n",
       " {'context': ' birth control methods such as hormonal contraceptives can regulate and sometimes even eliminate menstrual periods. However, they can also cause changes in menstrual flow and regularity.',\n",
       "  'qas': [{'id': '00008',\n",
       "    'is_impossible': False,\n",
       "    'question': 'Can birth control affect my menstrual cycle?',\n",
       "    'answers': [{'text': 'Yes, they can regulate and sometimes even eliminate menstrual periods and cause changes in menstrual flow and regularity',\n",
       "      'answer_start': 77}]}]},\n",
       " {'context': 'Potential causes of missed periods other than pregnancy include stress, hormonal imbalances, excessive exercise, rapid weight loss or gain, thyroid disorders, polycystic ovary syndrome (PCOS), and certain medications..',\n",
       "  'qas': [{'id': '00009',\n",
       "    'is_impossible': False,\n",
       "    'question': 'What are the potential causes of missed periods other than pregnancy',\n",
       "    'answers': [{'text': 'stress, hormonal imbalances, excessive exercise, rapid weight loss or gain, thyroid disorders, polycystic ovary syndrome (PCOS), and certain medications',\n",
       "      'answer_start': 53}]}]},\n",
       " {'context': 'You can track your menstrual cycle by keeping a calendar, using smartphone apps designed for menstrual tracking, or using a physical tracker to monitor the start and end dates of your periods, as well as any associated symptoms.',\n",
       "  'qas': [{'id': '00010',\n",
       "    'is_impossible': False,\n",
       "    'question': 'How can I track my menstrual cycle effectively?',\n",
       "    'answers': [{'text': ' calendar, using smartphone apps designed for menstrual tracking, or using a physical tracker',\n",
       "      'answer_start': 21}]}]},\n",
       " {'context': 'Girls face various challenges related to menstrual health, including difficulties accessing information and social support, coping with behavioral restrictions, encountering stigma surrounding menstruation, and managing menstrual bleeding and pain. Additionally, they may experience fear and distress associated with menstruation, which can impact their school attendance and participation.',\n",
       "  'qas': [{'id': '00011',\n",
       "    'is_impossible': False,\n",
       "    'question': 'What are some of the challenges young girls face regarding menstrual health?',\n",
       "    'answers': [{'text': 'difficulties accessing information and social support, coping with behavioral restrictions, encountering stigma surrounding menstruation, and managing menstrual bleeding and pain and may experience fear and distress associated with menstruation',\n",
       "      'answer_start': 24}]}]},\n",
       " {'context': 'Age-appropriate education, addressing shame and taboos, ensuring access to menstrual resources and WASH (Water, Sanitation, and Hygiene) facilities, and providing adequate menstrual pain relief are crucial components of a comprehensive menstrual health response.',\n",
       "  'qas': [{'id': '00012',\n",
       "    'is_impossible': False,\n",
       "    'question': 'What are some important components of a comprehensive menstrual health response?',\n",
       "    'answers': [{'text': 'Age-appropriate education, addressing shame and taboos, ensuring access to menstrual resources and WASH (Water, Sanitation, and Hygiene) facilities, and providing adequate menstrual pain relief',\n",
       "      'answer_start': 64}]}]}]"
      ]
     },
     "execution_count": 4,
     "metadata": {},
     "output_type": "execute_result"
    }
   ],
   "source": [
    "train"
   ]
  },
  {
   "cell_type": "code",
   "execution_count": 5,
   "metadata": {},
   "outputs": [],
   "source": [
    "with open(r\"/content/test.json\", \"r\") as read_file:\n",
    "    test = json.load(read_file)"
   ]
  },
  {
   "cell_type": "code",
   "execution_count": 6,
   "metadata": {},
   "outputs": [
    {
     "data": {
      "text/plain": [
       "[{'context': 'Challenges associated with Menstrual Hygiene Management include lack of access to affordable menstrual products, inadequate sanitation facilities, cultural taboos and stigmas, and limited knowledge about menstrual hygiene.',\n",
       "  'qas': [{'id': '00001',\n",
       "    'is_impossible': False,\n",
       "    'question': 'What are some challenges associated with Menstrual Hygiene ?',\n",
       "    'answers': [{'text': 'lack of access to affordable menstrual products, inadequate sanitation facilities, cultural taboos and stigmas, and limited knowledge about menstrual hygiene',\n",
       "      'answer_start': 38}]}]},\n",
       " {'context': 'Menstrual Hygiene Management (MHM) refers to the practices and facilities needed to ensure that menstruating individuals can manage their menstruation with dignity, including access to menstrual products, proper sanitation facilities, and education about menstrual hygiene.',\n",
       "  'qas': [{'id': '00002',\n",
       "    'is_impossible': False,\n",
       "    'question': 'What is Menstrual Hygiene Management (MHM)?',\n",
       "    'answers': [{'text': 'methods to ensure the menstruals can manage their menstruation with dignity, including access to menstrual products, proper sanitation facilities, and education about menstrual hygiene ',\n",
       "      'answer_start': 74}]}]},\n",
       " {'context': 'Menstrual products should be disposed of according to local waste management guidelines. Some products, like according to local waste management guidelines.',\n",
       "  'qas': [{'id': '00003',\n",
       "    'is_impossible': False,\n",
       "    'question': 'How should menstrual products be properly disposed of?',\n",
       "    'answers': [{'text': 'in accordance with local waste management guidelines and according to local waste management guidelines',\n",
       "      'answer_start': 21}]}]},\n",
       " {'context': 'Menstrual cups are reusable, environmentally friendly, cost-effective over time, and can be worn for longer periods compared to tampons or pads.',\n",
       "  'qas': [{'id': '00004',\n",
       "    'is_impossible': False,\n",
       "    'question': 'What are the advantages of using menstrual cups?',\n",
       "    'answers': [{'text': 'eusable, environmentally friendly, cost-effective over time, and can be worn for longer periods',\n",
       "      'answer_start': 68}]}]},\n",
       " {'context': 'Menstrual disorders are diagnosed through medical history, physical examination, and sometimes diagnostic tests such as ultrasound or blood tests. Treatment options depend on the specific disorder but through medical history, physical examination, and sometimes diagnostic tests such as ultrasound or blood tests.',\n",
       "  'qas': [{'id': '00005',\n",
       "    'is_impossible': False,\n",
       "    'question': 'How are menstrual disorders diagnosed and treated?',\n",
       "    'answers': [{'text': 'through medical history, physical examination, and sometimes diagnostic tests such as ultrasound or blood tests and treated  through medical history, physical examination, and sometimes diagnostic tests such as ultrasound or blood tests',\n",
       "      'answer_start': 58}]}]},\n",
       " {'context': 'Some common menstrual disorders include dysmenorrhea (menstrual cramps), menorrhagia (heavy menstrual bleeding), amenorrhea (absence of menstruation), and polycystic ovary syndrome (PCOS).',\n",
       "  'qas': [{'id': '00006',\n",
       "    'is_impossible': False,\n",
       "    'question': 'What are some common menstrual disorders?',\n",
       "    'answers': [{'text': 'dysmenorrhea (menstrual cramps), menorrhagia (heavy menstrual bleeding), amenorrhea (absence of menstruation), and polycystic ovary syndrome (PCOS)',\n",
       "      'answer_start': 54}]}]},\n",
       " {'context': 'Menstrual materials are the materials used to capture and contain menstrual blood, including sanitary pads, cloths, tampons, or cups, which can be disposable or reusable, purchased or non-purchased products.',\n",
       "  'qas': [{'id': '00007',\n",
       "    'is_impossible': False,\n",
       "    'question': 'What are menstrual materials?',\n",
       "    'answers': [{'text': 'used to capture and contain menstrual blood, including sanitary pads, cloths, tampons, or cups, which can be disposable or reusable',\n",
       "      'answer_start': 35}]}]},\n",
       " {'context': 'Dysmenorrhea is the medical term for menstrual cramps, caused by uterine contractions. Primary dysmenorrhea refers to recurrent, crampy pain occurring with menses in the absence of a disorder, while secondary dysmenorrhea refers to menstrual pain associated with an underlying pelvic pathology (disorder).',\n",
       "  'qas': [{'id': '00008',\n",
       "    'is_impossible': False,\n",
       "    'question': 'What is Primary dysmenorrhea?',\n",
       "    'answers': [{'text': 'recurrent, crampy pain occurring with menses in the absence of a disorder',\n",
       "      'answer_start': 42}]}]},\n",
       " {'context': 'a healthy menstrual cycle is defined as having menstrual cycles lasting 21–35 days, a menstrual cycle variation of 5–7 days yearly, menstrual flow during 2–7 days, and bleeding between 25–80 ml per menstruation.',\n",
       "  'qas': [{'id': '00009',\n",
       "    'is_impossible': False,\n",
       "    'question': 'What is a healthy menstrual cycle?',\n",
       "    'answers': [{'text': 'having menstrual cycles lasting 21–35 days, a menstrual cycle variation of 5–7 days yearly, menstrual flow during 2–7 days, and bleeding between 25–80 ml per menstruation',\n",
       "      'answer_start': 26}]}]},\n",
       " {'context': \"Throughout the menstrual cycle, features and symptoms can vary based on the hormonal changes occurring in different phases. Features that increase at the same point in the cycle may indeed have the same physiological cause, reflecting the body's response to changes in hormone levels.\",\n",
       "  'qas': [{'id': '00010',\n",
       "    'is_impossible': False,\n",
       "    'question': 'How do symptoms vary throughout the cycle?',\n",
       "    'answers': [{'text': \"symptoms can vary based on the hormonal changes occurring in different phases. Features that increase at the same point in the cycle may indeed have the same physiological cause, reflecting the body's response to changes in hormone levels.\",\n",
       "      'answer_start': 44}]}]}]"
      ]
     },
     "execution_count": 6,
     "metadata": {},
     "output_type": "execute_result"
    }
   ],
   "source": [
    "test"
   ]
  },
  {
   "cell_type": "code",
   "execution_count": 7,
   "metadata": {},
   "outputs": [],
   "source": [
    "import logging\n",
    "\n",
    "from simpletransformers.question_answering import QuestionAnsweringModel, QuestionAnsweringArgs"
   ]
  },
  {
   "cell_type": "code",
   "execution_count": 8,
   "metadata": {},
   "outputs": [],
   "source": [
    "\n",
    "model_type=\"bert\"\n",
    "model_name= \"bert-base-cased\"\n",
    "if model_type == \"bert\":\n",
    "    model_name = \"bert-base-cased\"\n",
    "\n",
    "elif model_type == \"roberta\":\n",
    "    model_name = \"roberta-base\"\n",
    "\n",
    "elif model_type == \"distilbert\":\n",
    "    model_name = \"distilbert-base-cased\"\n",
    "\n",
    "elif model_type == \"distilroberta\":\n",
    "    model_type = \"roberta\"\n",
    "    model_name = \"distilroberta-base\"\n",
    "\n",
    "elif model_type == \"electra-base\":\n",
    "    model_type = \"electra\"\n",
    "    model_name = \"google/electra-base-discriminator\"\n",
    "\n",
    "elif model_type == \"electra-small\":\n",
    "    model_type = \"electra\"\n",
    "    model_name = \"google/electra-small-discriminator\"\n",
    "\n",
    "elif model_type == \"xlnet\":\n",
    "    model_name = \"xlnet-base-cased\"\n"
   ]
  },
  {
   "cell_type": "code",
   "execution_count": 9,
   "metadata": {},
   "outputs": [],
   "source": [
    "\n",
    "# Configure the model\n",
    "model_args = QuestionAnsweringArgs()\n",
    "model_args.train_batch_size = 16\n",
    "model_args.evaluate_during_training = True\n",
    "model_args.n_best_size=3\n",
    "model_args.num_train_epochs= 20\n",
    "\n"
   ]
  },
  {
   "cell_type": "code",
   "execution_count": 10,
   "metadata": {},
   "outputs": [
    {
     "name": "stdout",
     "output_type": "stream",
     "text": [
      "Requirement already satisfied: wandb in /usr/local/lib/python3.10/dist-packages (0.16.6)\n",
      "Requirement already satisfied: Click!=8.0.0,>=7.1 in /usr/local/lib/python3.10/dist-packages (from wandb) (8.1.7)\n",
      "Requirement already satisfied: GitPython!=3.1.29,>=1.0.0 in /usr/local/lib/python3.10/dist-packages (from wandb) (3.1.43)\n",
      "Requirement already satisfied: requests<3,>=2.0.0 in /usr/local/lib/python3.10/dist-packages (from wandb) (2.31.0)\n",
      "Requirement already satisfied: psutil>=5.0.0 in /usr/local/lib/python3.10/dist-packages (from wandb) (5.9.5)\n",
      "Requirement already satisfied: sentry-sdk>=1.0.0 in /usr/local/lib/python3.10/dist-packages (from wandb) (1.45.0)\n",
      "Requirement already satisfied: docker-pycreds>=0.4.0 in /usr/local/lib/python3.10/dist-packages (from wandb) (0.4.0)\n",
      "Requirement already satisfied: PyYAML in /usr/local/lib/python3.10/dist-packages (from wandb) (6.0.1)\n",
      "Requirement already satisfied: setproctitle in /usr/local/lib/python3.10/dist-packages (from wandb) (1.3.3)\n",
      "Requirement already satisfied: setuptools in /usr/local/lib/python3.10/dist-packages (from wandb) (67.7.2)\n",
      "Requirement already satisfied: appdirs>=1.4.3 in /usr/local/lib/python3.10/dist-packages (from wandb) (1.4.4)\n",
      "Requirement already satisfied: protobuf!=4.21.0,<5,>=3.19.0 in /usr/local/lib/python3.10/dist-packages (from wandb) (3.20.3)\n",
      "Requirement already satisfied: six>=1.4.0 in /usr/local/lib/python3.10/dist-packages (from docker-pycreds>=0.4.0->wandb) (1.16.0)\n",
      "Requirement already satisfied: gitdb<5,>=4.0.1 in /usr/local/lib/python3.10/dist-packages (from GitPython!=3.1.29,>=1.0.0->wandb) (4.0.11)\n",
      "Requirement already satisfied: charset-normalizer<4,>=2 in /usr/local/lib/python3.10/dist-packages (from requests<3,>=2.0.0->wandb) (3.3.2)\n",
      "Requirement already satisfied: idna<4,>=2.5 in /usr/local/lib/python3.10/dist-packages (from requests<3,>=2.0.0->wandb) (3.7)\n",
      "Requirement already satisfied: urllib3<3,>=1.21.1 in /usr/local/lib/python3.10/dist-packages (from requests<3,>=2.0.0->wandb) (2.0.7)\n",
      "Requirement already satisfied: certifi>=2017.4.17 in /usr/local/lib/python3.10/dist-packages (from requests<3,>=2.0.0->wandb) (2024.2.2)\n",
      "Requirement already satisfied: smmap<6,>=3.0.1 in /usr/local/lib/python3.10/dist-packages (from gitdb<5,>=4.0.1->GitPython!=3.1.29,>=1.0.0->wandb) (5.0.1)\n"
     ]
    }
   ],
   "source": [
    "pip install wandb"
   ]
  },
  {
   "cell_type": "code",
   "execution_count": 11,
   "metadata": {},
   "outputs": [],
   "source": [
    "\n",
    "### Advanced Methodology\n",
    "train_args = {\n",
    "    \"reprocess_input_data\": True,\n",
    "    \"overwrite_output_dir\": True,\n",
    "    \"use_cached_eval_features\": True,\n",
    "    \"output_dir\": f\"outputs/{model_type}\",\n",
    "    \"best_model_dir\": f\"outputs/{model_type}/best_model\",\n",
    "    \"evaluate_during_training\": True,\n",
    "    \"max_seq_length\": 128,\n",
    "    \"num_train_epochs\": 20,\n",
    "    \"evaluate_during_training_steps\": 1000,\n",
    "    # \"wandb_project\": \"Question Answer Application\",\n",
    "    # \"wandb_kwargs\": {\"name\": model_name},\n",
    "    \"save_model_every_epoch\": False,\n",
    "    \"save_eval_checkpoints\": False,\n",
    "    \"n_best_size\":3,\n",
    "    # \"use_early_stopping\": True,\n",
    "    # \"early_stopping_metric\": \"mcc\",\n",
    "    # \"n_gpu\": 2,\n",
    "    # \"manual_seed\": 4,\n",
    "    # \"use_multiprocessing\": False,\n",
    "    \"train_batch_size\": 128,\n",
    "    \"eval_batch_size\": 64,\n",
    "    # \"config\": {\n",
    "    #     \"output_hidden_states\": True\n",
    "    # }\n",
    "}"
   ]
  },
  {
   "cell_type": "code",
   "execution_count": 12,
   "metadata": {},
   "outputs": [
    {
     "name": "stdout",
     "output_type": "stream",
     "text": [
      "/bin/bash: line 1: nvidia-smi: command not found\n"
     ]
    }
   ],
   "source": [
    "!nvidia-smi"
   ]
  },
  {
   "cell_type": "code",
   "execution_count": 13,
   "metadata": {},
   "outputs": [
    {
     "name": "stderr",
     "output_type": "stream",
     "text": [
      "/usr/local/lib/python3.10/dist-packages/huggingface_hub/utils/_token.py:89: UserWarning: \n",
      "The secret `HF_TOKEN` does not exist in your Colab secrets.\n",
      "To authenticate with the Hugging Face Hub, create a token in your settings tab (https://huggingface.co/settings/tokens), set it as secret in your Google Colab and restart your session.\n",
      "You will be able to reuse this secret in all of your notebooks.\n",
      "Please note that authentication is recommended but still optional to access public models or datasets.\n",
      "  warnings.warn(\n"
     ]
    },
    {
     "data": {
      "application/vnd.jupyter.widget-view+json": {
       "model_id": "6ebe598344ff48daad2a53dedada5d2f",
       "version_major": 2,
       "version_minor": 0
      },
      "text/plain": [
       "config.json:   0%|          | 0.00/570 [00:00<?, ?B/s]"
      ]
     },
     "metadata": {},
     "output_type": "display_data"
    },
    {
     "data": {
      "application/vnd.jupyter.widget-view+json": {
       "model_id": "8cdacc9ece924792975ed07773958c53",
       "version_major": 2,
       "version_minor": 0
      },
      "text/plain": [
       "model.safetensors:   0%|          | 0.00/436M [00:00<?, ?B/s]"
      ]
     },
     "metadata": {},
     "output_type": "display_data"
    },
    {
     "name": "stderr",
     "output_type": "stream",
     "text": [
      "Some weights of BertForQuestionAnswering were not initialized from the model checkpoint at bert-base-cased and are newly initialized: ['qa_outputs.bias', 'qa_outputs.weight']\n",
      "You should probably TRAIN this model on a down-stream task to be able to use it for predictions and inference.\n"
     ]
    },
    {
     "data": {
      "application/vnd.jupyter.widget-view+json": {
       "model_id": "3047cb13faae4794a1cd79914e6f76a5",
       "version_major": 2,
       "version_minor": 0
      },
      "text/plain": [
       "tokenizer_config.json:   0%|          | 0.00/49.0 [00:00<?, ?B/s]"
      ]
     },
     "metadata": {},
     "output_type": "display_data"
    },
    {
     "data": {
      "application/vnd.jupyter.widget-view+json": {
       "model_id": "8757dd9e2cfa4cef9f8c5700689814ec",
       "version_major": 2,
       "version_minor": 0
      },
      "text/plain": [
       "vocab.txt:   0%|          | 0.00/213k [00:00<?, ?B/s]"
      ]
     },
     "metadata": {},
     "output_type": "display_data"
    },
    {
     "data": {
      "application/vnd.jupyter.widget-view+json": {
       "model_id": "bcab2a84891d4008905fb3d274ce6376",
       "version_major": 2,
       "version_minor": 0
      },
      "text/plain": [
       "tokenizer.json:   0%|          | 0.00/436k [00:00<?, ?B/s]"
      ]
     },
     "metadata": {},
     "output_type": "display_data"
    }
   ],
   "source": [
    "model = QuestionAnsweringModel(\n",
    "    model_type,model_name, args=train_args, use_cuda=False\n",
    ")"
   ]
  },
  {
   "cell_type": "code",
   "execution_count": 14,
   "metadata": {},
   "outputs": [
    {
     "name": "stderr",
     "output_type": "stream",
     "text": [
      "/usr/lib/python3.10/multiprocessing/popen_fork.py:66: RuntimeWarning: os.fork() was called. os.fork() is incompatible with multithreaded code, and JAX is multithreaded, so this will likely lead to a deadlock.\n",
      "  self.pid = os.fork()\n",
      "convert squad examples to features:   0%|          | 0/12 [00:00<?, ?it/s]Could not find answer: 'average cycle' vs. '21 to 35 days'\n",
      "Could not find answer: 'periods include hormonal imbalances, stress, excessive exercise, weight changes, thyroid disorders, and certain medical' vs. 'hormonal imbalances, stress, excessive exercise, weight changes, thyroid disorders, and certain medical conditions'\n",
      "Could not find answer: 'pads or tampons every hour for several consecutive hours, passing large blood clots, and experiencing symptoms like fatigue and shortness of breath.' vs. 'soaking through one or more pads or tampons every hour for several consecutive hours, passing large blood clots, and experiencing symptoms like fatigue and shortness of breath'\n",
      "Could not find answer: 'for some' vs. 'Yes'\n",
      "Could not find answer: 'periods, extremely heavy or light periods, severe menstrual cramps, prolonged periods, and other abnormal' vs. 'irregular periods, extremely heavy or light periods, severe menstrual cramps, prolonged periods'\n",
      "Could not find answer: 'changes (such as reducing caffeine and increasing intake of fruits and vegetables), regular exercise, stress management' vs. 'reducing caffeine and increasing intake of fruits and vegetables, regular exercise, stress management techniques'\n",
      "Could not find answer: 'sometimes even eliminate menstrual periods. However, they can also cause changes in menstrual flow and regularity.' vs. 'Yes, they can regulate and sometimes even eliminate menstrual periods and cause changes in menstrual flow and regularity'\n",
      "Could not find answer: 'pregnancy include stress, hormonal imbalances, excessive exercise, rapid weight loss or gain, thyroid disorders, polycystic ovary syndrome (PCOS), and certain' vs. 'stress, hormonal imbalances, excessive exercise, rapid weight loss or gain, thyroid disorders, polycystic ovary syndrome (PCOS), and certain medications'\n",
      "Could not find answer: 'menstrual cycle by keeping a calendar, using smartphone apps designed for menstrual tracking, or' vs. 'calendar, using smartphone apps designed for menstrual tracking, or using a physical tracker'\n",
      "Could not find answer: 'challenges related to menstrual health, including difficulties accessing information and social support, coping with behavioral restrictions, encountering stigma surrounding menstruation, and managing menstrual bleeding and pain. Additionally, they' vs. 'difficulties accessing information and social support, coping with behavioral restrictions, encountering stigma surrounding menstruation, and managing menstrual bleeding and pain and may experience fear and distress associated with menstruation'\n",
      "Could not find answer: 'ensuring access to menstrual resources and WASH (Water, Sanitation, and Hygiene) facilities, and providing adequate menstrual pain relief are crucial components of a comprehensive menstrual health response.' vs. 'Age-appropriate education, addressing shame and taboos, ensuring access to menstrual resources and WASH (Water, Sanitation, and Hygiene) facilities, and providing adequate menstrual pain relief'\n",
      "convert squad examples to features: 100%|██████████| 12/12 [00:00<00:00, 146.60it/s]\n",
      "add example index and unique id: 100%|██████████| 12/12 [00:00<00:00, 79764.89it/s]\n"
     ]
    },
    {
     "data": {
      "application/vnd.jupyter.widget-view+json": {
       "model_id": "2ce3f6529b9640aaacf996409e97a486",
       "version_major": 2,
       "version_minor": 0
      },
      "text/plain": [
       "Epoch:   0%|          | 0/20 [00:00<?, ?it/s]"
      ]
     },
     "metadata": {},
     "output_type": "display_data"
    },
    {
     "data": {
      "application/vnd.jupyter.widget-view+json": {
       "model_id": "c1c0755f2d7341caa8fa86ee3f56fe72",
       "version_major": 2,
       "version_minor": 0
      },
      "text/plain": [
       "Running Epoch 1 of 20:   0%|          | 0/1 [00:00<?, ?it/s]"
      ]
     },
     "metadata": {},
     "output_type": "display_data"
    },
    {
     "name": "stderr",
     "output_type": "stream",
     "text": [
      "/usr/lib/python3.10/multiprocessing/popen_fork.py:66: RuntimeWarning: os.fork() was called. os.fork() is incompatible with multithreaded code, and JAX is multithreaded, so this will likely lead to a deadlock.\n",
      "  self.pid = os.fork()\n",
      "\n",
      "convert squad examples to features: 100%|██████████| 10/10 [00:00<00:00, 231.96it/s]\n",
      "\n",
      "add example index and unique id: 100%|██████████| 10/10 [00:00<00:00, 58908.76it/s]\n"
     ]
    },
    {
     "data": {
      "application/vnd.jupyter.widget-view+json": {
       "model_id": "1840bd48742940ddbfa6e06b04f63038",
       "version_major": 2,
       "version_minor": 0
      },
      "text/plain": [
       "Running Evaluation:   0%|          | 0/1 [00:00<?, ?it/s]"
      ]
     },
     "metadata": {},
     "output_type": "display_data"
    },
    {
     "data": {
      "application/vnd.jupyter.widget-view+json": {
       "model_id": "8fac66cc5a7c4a08952d5c20bd6974bc",
       "version_major": 2,
       "version_minor": 0
      },
      "text/plain": [
       "Running Epoch 2 of 20:   0%|          | 0/1 [00:00<?, ?it/s]"
      ]
     },
     "metadata": {},
     "output_type": "display_data"
    },
    {
     "data": {
      "application/vnd.jupyter.widget-view+json": {
       "model_id": "beb6bee4b455403795cb961df2c943ea",
       "version_major": 2,
       "version_minor": 0
      },
      "text/plain": [
       "Running Evaluation:   0%|          | 0/1 [00:00<?, ?it/s]"
      ]
     },
     "metadata": {},
     "output_type": "display_data"
    },
    {
     "data": {
      "application/vnd.jupyter.widget-view+json": {
       "model_id": "d6d3287776504f909e7e49304720de35",
       "version_major": 2,
       "version_minor": 0
      },
      "text/plain": [
       "Running Epoch 3 of 20:   0%|          | 0/1 [00:00<?, ?it/s]"
      ]
     },
     "metadata": {},
     "output_type": "display_data"
    },
    {
     "data": {
      "application/vnd.jupyter.widget-view+json": {
       "model_id": "f633b95966bd42e8997b7e4ebb0298b2",
       "version_major": 2,
       "version_minor": 0
      },
      "text/plain": [
       "Running Evaluation:   0%|          | 0/1 [00:00<?, ?it/s]"
      ]
     },
     "metadata": {},
     "output_type": "display_data"
    },
    {
     "data": {
      "application/vnd.jupyter.widget-view+json": {
       "model_id": "96a65650c1b6475cae2d9dfed27a0cc9",
       "version_major": 2,
       "version_minor": 0
      },
      "text/plain": [
       "Running Epoch 4 of 20:   0%|          | 0/1 [00:00<?, ?it/s]"
      ]
     },
     "metadata": {},
     "output_type": "display_data"
    },
    {
     "data": {
      "application/vnd.jupyter.widget-view+json": {
       "model_id": "78e7e6c0d63f461f8a0a19e911ee4b27",
       "version_major": 2,
       "version_minor": 0
      },
      "text/plain": [
       "Running Evaluation:   0%|          | 0/1 [00:00<?, ?it/s]"
      ]
     },
     "metadata": {},
     "output_type": "display_data"
    },
    {
     "data": {
      "application/vnd.jupyter.widget-view+json": {
       "model_id": "6bb8b5b6c3b342d1b677df3596fb5ce9",
       "version_major": 2,
       "version_minor": 0
      },
      "text/plain": [
       "Running Epoch 5 of 20:   0%|          | 0/1 [00:00<?, ?it/s]"
      ]
     },
     "metadata": {},
     "output_type": "display_data"
    },
    {
     "data": {
      "application/vnd.jupyter.widget-view+json": {
       "model_id": "83211712e93d462ca719415d9bc7c7a8",
       "version_major": 2,
       "version_minor": 0
      },
      "text/plain": [
       "Running Evaluation:   0%|          | 0/1 [00:00<?, ?it/s]"
      ]
     },
     "metadata": {},
     "output_type": "display_data"
    },
    {
     "data": {
      "application/vnd.jupyter.widget-view+json": {
       "model_id": "a3b3c47d1808476496ca0b7662ad5de2",
       "version_major": 2,
       "version_minor": 0
      },
      "text/plain": [
       "Running Epoch 6 of 20:   0%|          | 0/1 [00:00<?, ?it/s]"
      ]
     },
     "metadata": {},
     "output_type": "display_data"
    },
    {
     "data": {
      "application/vnd.jupyter.widget-view+json": {
       "model_id": "5750ce41fffe4f59b6bd3abe356b8d18",
       "version_major": 2,
       "version_minor": 0
      },
      "text/plain": [
       "Running Evaluation:   0%|          | 0/1 [00:00<?, ?it/s]"
      ]
     },
     "metadata": {},
     "output_type": "display_data"
    },
    {
     "data": {
      "application/vnd.jupyter.widget-view+json": {
       "model_id": "19ad7df2f0ca4789b12c72c7721a91f9",
       "version_major": 2,
       "version_minor": 0
      },
      "text/plain": [
       "Running Epoch 7 of 20:   0%|          | 0/1 [00:00<?, ?it/s]"
      ]
     },
     "metadata": {},
     "output_type": "display_data"
    },
    {
     "data": {
      "application/vnd.jupyter.widget-view+json": {
       "model_id": "b91aed4361f54338b9921165b9c6b6fd",
       "version_major": 2,
       "version_minor": 0
      },
      "text/plain": [
       "Running Evaluation:   0%|          | 0/1 [00:00<?, ?it/s]"
      ]
     },
     "metadata": {},
     "output_type": "display_data"
    },
    {
     "data": {
      "application/vnd.jupyter.widget-view+json": {
       "model_id": "3f8ebee4bf404bf19eb2d1d7b2f03237",
       "version_major": 2,
       "version_minor": 0
      },
      "text/plain": [
       "Running Epoch 8 of 20:   0%|          | 0/1 [00:00<?, ?it/s]"
      ]
     },
     "metadata": {},
     "output_type": "display_data"
    },
    {
     "data": {
      "application/vnd.jupyter.widget-view+json": {
       "model_id": "0981a95abcd34817a6beffaa7d2d5d9d",
       "version_major": 2,
       "version_minor": 0
      },
      "text/plain": [
       "Running Evaluation:   0%|          | 0/1 [00:00<?, ?it/s]"
      ]
     },
     "metadata": {},
     "output_type": "display_data"
    },
    {
     "data": {
      "application/vnd.jupyter.widget-view+json": {
       "model_id": "b49a86d780e645538b65d46951d70e3c",
       "version_major": 2,
       "version_minor": 0
      },
      "text/plain": [
       "Running Epoch 9 of 20:   0%|          | 0/1 [00:00<?, ?it/s]"
      ]
     },
     "metadata": {},
     "output_type": "display_data"
    },
    {
     "data": {
      "application/vnd.jupyter.widget-view+json": {
       "model_id": "aedb8fdc83594c98b06a91bfb6558c7d",
       "version_major": 2,
       "version_minor": 0
      },
      "text/plain": [
       "Running Evaluation:   0%|          | 0/1 [00:00<?, ?it/s]"
      ]
     },
     "metadata": {},
     "output_type": "display_data"
    },
    {
     "data": {
      "application/vnd.jupyter.widget-view+json": {
       "model_id": "753af5eabbc14f51a9fd64692252663b",
       "version_major": 2,
       "version_minor": 0
      },
      "text/plain": [
       "Running Epoch 10 of 20:   0%|          | 0/1 [00:00<?, ?it/s]"
      ]
     },
     "metadata": {},
     "output_type": "display_data"
    },
    {
     "data": {
      "application/vnd.jupyter.widget-view+json": {
       "model_id": "56cbf83de3e349469e2d7098116ebac1",
       "version_major": 2,
       "version_minor": 0
      },
      "text/plain": [
       "Running Evaluation:   0%|          | 0/1 [00:00<?, ?it/s]"
      ]
     },
     "metadata": {},
     "output_type": "display_data"
    },
    {
     "data": {
      "application/vnd.jupyter.widget-view+json": {
       "model_id": "057b5ff876654085ad9b988b3e1b719a",
       "version_major": 2,
       "version_minor": 0
      },
      "text/plain": [
       "Running Epoch 11 of 20:   0%|          | 0/1 [00:00<?, ?it/s]"
      ]
     },
     "metadata": {},
     "output_type": "display_data"
    },
    {
     "data": {
      "application/vnd.jupyter.widget-view+json": {
       "model_id": "c4038b3f42624a4f80a0fab408cbaf85",
       "version_major": 2,
       "version_minor": 0
      },
      "text/plain": [
       "Running Evaluation:   0%|          | 0/1 [00:00<?, ?it/s]"
      ]
     },
     "metadata": {},
     "output_type": "display_data"
    },
    {
     "data": {
      "application/vnd.jupyter.widget-view+json": {
       "model_id": "a26cbb194660498f8f3c3f37bc0a21b1",
       "version_major": 2,
       "version_minor": 0
      },
      "text/plain": [
       "Running Epoch 12 of 20:   0%|          | 0/1 [00:00<?, ?it/s]"
      ]
     },
     "metadata": {},
     "output_type": "display_data"
    },
    {
     "data": {
      "application/vnd.jupyter.widget-view+json": {
       "model_id": "dd99e0a1009d4441b274f3b38365ddd7",
       "version_major": 2,
       "version_minor": 0
      },
      "text/plain": [
       "Running Evaluation:   0%|          | 0/1 [00:00<?, ?it/s]"
      ]
     },
     "metadata": {},
     "output_type": "display_data"
    },
    {
     "data": {
      "application/vnd.jupyter.widget-view+json": {
       "model_id": "4433981e79dc41268d28ebfef261bda0",
       "version_major": 2,
       "version_minor": 0
      },
      "text/plain": [
       "Running Epoch 13 of 20:   0%|          | 0/1 [00:00<?, ?it/s]"
      ]
     },
     "metadata": {},
     "output_type": "display_data"
    },
    {
     "data": {
      "application/vnd.jupyter.widget-view+json": {
       "model_id": "f021e12d65ad44e28f73f0d6eac3b811",
       "version_major": 2,
       "version_minor": 0
      },
      "text/plain": [
       "Running Evaluation:   0%|          | 0/1 [00:00<?, ?it/s]"
      ]
     },
     "metadata": {},
     "output_type": "display_data"
    },
    {
     "data": {
      "application/vnd.jupyter.widget-view+json": {
       "model_id": "923e4b69e09f42968eecb25f055ad3f0",
       "version_major": 2,
       "version_minor": 0
      },
      "text/plain": [
       "Running Epoch 14 of 20:   0%|          | 0/1 [00:00<?, ?it/s]"
      ]
     },
     "metadata": {},
     "output_type": "display_data"
    },
    {
     "data": {
      "application/vnd.jupyter.widget-view+json": {
       "model_id": "9617a2231f1f4f27aa9139f998d51464",
       "version_major": 2,
       "version_minor": 0
      },
      "text/plain": [
       "Running Evaluation:   0%|          | 0/1 [00:00<?, ?it/s]"
      ]
     },
     "metadata": {},
     "output_type": "display_data"
    },
    {
     "data": {
      "application/vnd.jupyter.widget-view+json": {
       "model_id": "1be6e501211e4c83b83bbd114d4c9ab1",
       "version_major": 2,
       "version_minor": 0
      },
      "text/plain": [
       "Running Epoch 15 of 20:   0%|          | 0/1 [00:00<?, ?it/s]"
      ]
     },
     "metadata": {},
     "output_type": "display_data"
    },
    {
     "data": {
      "application/vnd.jupyter.widget-view+json": {
       "model_id": "0d4e44aedf9749daba575cc33cd17d65",
       "version_major": 2,
       "version_minor": 0
      },
      "text/plain": [
       "Running Evaluation:   0%|          | 0/1 [00:00<?, ?it/s]"
      ]
     },
     "metadata": {},
     "output_type": "display_data"
    },
    {
     "data": {
      "application/vnd.jupyter.widget-view+json": {
       "model_id": "87c22eec7dca408b98fd0025abd7b100",
       "version_major": 2,
       "version_minor": 0
      },
      "text/plain": [
       "Running Epoch 16 of 20:   0%|          | 0/1 [00:00<?, ?it/s]"
      ]
     },
     "metadata": {},
     "output_type": "display_data"
    },
    {
     "data": {
      "application/vnd.jupyter.widget-view+json": {
       "model_id": "6af0c96bd7fe407ca715a211bc3fb20e",
       "version_major": 2,
       "version_minor": 0
      },
      "text/plain": [
       "Running Evaluation:   0%|          | 0/1 [00:00<?, ?it/s]"
      ]
     },
     "metadata": {},
     "output_type": "display_data"
    },
    {
     "data": {
      "application/vnd.jupyter.widget-view+json": {
       "model_id": "fa6c699d92964d2794582743398fe3f3",
       "version_major": 2,
       "version_minor": 0
      },
      "text/plain": [
       "Running Epoch 17 of 20:   0%|          | 0/1 [00:00<?, ?it/s]"
      ]
     },
     "metadata": {},
     "output_type": "display_data"
    },
    {
     "data": {
      "application/vnd.jupyter.widget-view+json": {
       "model_id": "49f8d497256a4ee18d349f3af9597f2e",
       "version_major": 2,
       "version_minor": 0
      },
      "text/plain": [
       "Running Evaluation:   0%|          | 0/1 [00:00<?, ?it/s]"
      ]
     },
     "metadata": {},
     "output_type": "display_data"
    },
    {
     "data": {
      "application/vnd.jupyter.widget-view+json": {
       "model_id": "7b0f9eb695864aa6bc77ef3b859a1433",
       "version_major": 2,
       "version_minor": 0
      },
      "text/plain": [
       "Running Epoch 18 of 20:   0%|          | 0/1 [00:00<?, ?it/s]"
      ]
     },
     "metadata": {},
     "output_type": "display_data"
    },
    {
     "data": {
      "application/vnd.jupyter.widget-view+json": {
       "model_id": "9ef1a1cb9b104887968f044cfb8f074a",
       "version_major": 2,
       "version_minor": 0
      },
      "text/plain": [
       "Running Evaluation:   0%|          | 0/1 [00:00<?, ?it/s]"
      ]
     },
     "metadata": {},
     "output_type": "display_data"
    },
    {
     "data": {
      "application/vnd.jupyter.widget-view+json": {
       "model_id": "16c7de09c2824be2800af05132e17788",
       "version_major": 2,
       "version_minor": 0
      },
      "text/plain": [
       "Running Epoch 19 of 20:   0%|          | 0/1 [00:00<?, ?it/s]"
      ]
     },
     "metadata": {},
     "output_type": "display_data"
    },
    {
     "data": {
      "application/vnd.jupyter.widget-view+json": {
       "model_id": "bddace916b2d4b31ba5553a1c3a1cd2a",
       "version_major": 2,
       "version_minor": 0
      },
      "text/plain": [
       "Running Evaluation:   0%|          | 0/1 [00:00<?, ?it/s]"
      ]
     },
     "metadata": {},
     "output_type": "display_data"
    },
    {
     "data": {
      "application/vnd.jupyter.widget-view+json": {
       "model_id": "173f4d002b28474a804801cf72709714",
       "version_major": 2,
       "version_minor": 0
      },
      "text/plain": [
       "Running Epoch 20 of 20:   0%|          | 0/1 [00:00<?, ?it/s]"
      ]
     },
     "metadata": {},
     "output_type": "display_data"
    },
    {
     "data": {
      "application/vnd.jupyter.widget-view+json": {
       "model_id": "52ef9603d2104fe5b2e742b29c66c88f",
       "version_major": 2,
       "version_minor": 0
      },
      "text/plain": [
       "Running Evaluation:   0%|          | 0/1 [00:00<?, ?it/s]"
      ]
     },
     "metadata": {},
     "output_type": "display_data"
    },
    {
     "data": {
      "text/plain": [
       "(20,\n",
       " {'global_step': [1,\n",
       "   2,\n",
       "   3,\n",
       "   4,\n",
       "   5,\n",
       "   6,\n",
       "   7,\n",
       "   8,\n",
       "   9,\n",
       "   10,\n",
       "   11,\n",
       "   12,\n",
       "   13,\n",
       "   14,\n",
       "   15,\n",
       "   16,\n",
       "   17,\n",
       "   18,\n",
       "   19,\n",
       "   20],\n",
       "  'correct': [0, 0, 0, 0, 0, 0, 0, 0, 0, 0, 0, 0, 0, 0, 0, 0, 0, 0, 0, 0],\n",
       "  'similar': [5, 5, 4, 5, 5, 5, 7, 7, 7, 7, 7, 7, 7, 7, 7, 7, 7, 7, 7, 7],\n",
       "  'incorrect': [5, 5, 6, 5, 5, 5, 3, 3, 3, 3, 3, 3, 3, 3, 3, 3, 3, 3, 3, 3],\n",
       "  'train_loss': [4.872088432312012,\n",
       "   4.899232387542725,\n",
       "   4.482168197631836,\n",
       "   3.765293598175049,\n",
       "   3.05413818359375,\n",
       "   2.401066303253174,\n",
       "   1.726556420326233,\n",
       "   1.3072636127471924,\n",
       "   0.9529024362564087,\n",
       "   0.6713464856147766,\n",
       "   0.6220480799674988,\n",
       "   0.49333474040031433,\n",
       "   0.454741895198822,\n",
       "   0.3662862777709961,\n",
       "   0.24918417632579803,\n",
       "   0.164272740483284,\n",
       "   0.16991247236728668,\n",
       "   0.16041199862957,\n",
       "   0.16260293126106262,\n",
       "   0.11050257086753845],\n",
       "  'eval_loss': [-0.045486100018024445,\n",
       "   -0.0533997118473053,\n",
       "   -0.07763777673244476,\n",
       "   -0.11669416725635529,\n",
       "   -0.16495643556118011,\n",
       "   -0.2189563512802124,\n",
       "   -0.2786954641342163,\n",
       "   -0.34028783440589905,\n",
       "   -0.40093451738357544,\n",
       "   -0.460911363363266,\n",
       "   -0.5183077454566956,\n",
       "   -0.5689306855201721,\n",
       "   -0.6132644414901733,\n",
       "   -0.6497301459312439,\n",
       "   -0.6796392202377319,\n",
       "   -0.7066052556037903,\n",
       "   -0.7285736799240112,\n",
       "   -0.7445060014724731,\n",
       "   -0.75511234998703,\n",
       "   -0.7606507539749146]})"
      ]
     },
     "execution_count": 14,
     "metadata": {},
     "output_type": "execute_result"
    }
   ],
   "source": [
    "# Train the model\n",
    "model.train_model(train, eval_data=test)"
   ]
  },
  {
   "cell_type": "code",
   "execution_count": 15,
   "metadata": {},
   "outputs": [
    {
     "data": {
      "application/vnd.jupyter.widget-view+json": {
       "model_id": "e34aefa2d0784d77bd75b589749db919",
       "version_major": 2,
       "version_minor": 0
      },
      "text/plain": [
       "Running Evaluation:   0%|          | 0/1 [00:00<?, ?it/s]"
      ]
     },
     "metadata": {},
     "output_type": "display_data"
    }
   ],
   "source": [
    "# Evaluate the model\n",
    "result, texts = model.eval_model(test)"
   ]
  },
  {
   "cell_type": "code",
   "execution_count": 16,
   "metadata": {},
   "outputs": [
    {
     "name": "stdout",
     "output_type": "stream",
     "text": [
      "{'correct': 0, 'similar': 7, 'incorrect': 3, 'eval_loss': -0.7606507539749146}\n"
     ]
    }
   ],
   "source": [
    "print(result)"
   ]
  },
  {
   "cell_type": "code",
   "execution_count": 17,
   "metadata": {},
   "outputs": [
    {
     "name": "stdout",
     "output_type": "stream",
     "text": [
      "{'correct_text': {}, 'similar_text': {'00001': {'truth': 'lack of access to affordable menstrual products, inadequate sanitation facilities, cultural taboos and stigmas, and limited knowledge about menstrual hygiene', 'predicted': 'lack of access to affordable menstrual products, inadequate sanitation facilities, cultural taboos and stigma', 'question': 'What are some challenges associated with Menstrual Hygiene ?'}, '00003': {'truth': 'in accordance with local waste management guidelines and according to local waste management guidelines', 'predicted': 'according to local waste management', 'question': 'How should menstrual products be properly disposed of?'}, '00004': {'truth': 'eusable, environmentally friendly, cost-effective over time, and can be worn for longer periods', 'predicted': 'usable, environmental', 'question': 'What are the advantages of using menstrual cups?'}, '00006': {'truth': 'dysmenorrhea (menstrual cramps), menorrhagia (heavy menstrual bleeding), amenorrhea (absence of menstruation), and polycystic ovary syndrome (PCOS)', 'predicted': 'p', 'question': 'What are some common menstrual disorders?'}, '00007': {'truth': 'used to capture and contain menstrual blood, including sanitary pads, cloths, tampons, or cups, which can be disposable or reusable', 'predicted': 'usa', 'question': 'What are menstrual materials?'}, '00009': {'truth': 'having menstrual cycles lasting 21–35 days, a menstrual cycle variation of 5–7 days yearly, menstrual flow during 2–7 days, and bleeding between 25–80 ml per menstruation', 'predicted': '7', 'question': 'What is a healthy menstrual cycle?'}, '00010': {'truth': \"symptoms can vary based on the hormonal changes occurring in different phases. Features that increase at the same point in the cycle may indeed have the same physiological cause, reflecting the body's response to changes in hormone levels.\", 'predicted': \"the same point in the cycle may indeed have the same physiological cause, reflecting the body's response to changes\", 'question': 'How do symptoms vary throughout the cycle?'}}, 'incorrect_text': {'00002': {'truth': 'methods to ensure the menstruals can manage their menstruation with dignity, including access to menstrual products, proper sanitation facilities, and education about menstrual hygiene ', 'predicted': 'that menstruating individuals can manage their menstruation with dignity, including access to menstrual products, proper sanitation facilities', 'question': 'What is Menstrual Hygiene Management (MHM)?'}, '00005': {'truth': 'through medical history, physical examination, and sometimes diagnostic tests such as ultrasound or blood tests and treated  through medical history, physical examination, and sometimes diagnostic tests such as ultrasound or blood tests', 'predicted': 'as ultrasound or blood tests. Treatment options depend on the specific disorder but through medical history, physical examination, and sometimes diagnostic tests such as ultrasound or blood tests', 'question': 'How are menstrual disorders diagnosed and treated?'}, '00008': {'truth': 'recurrent, crampy pain occurring with menses in the absence of a disorder', 'predicted': 'while secondary dysmenorrhea refers to menstrual pain associated with an underlying pelvic pathology', 'question': 'What is Primary dysmenorrhea?'}}}\n"
     ]
    }
   ],
   "source": [
    "print(texts)"
   ]
  },
  {
   "cell_type": "code",
   "execution_count": 18,
   "metadata": {},
   "outputs": [],
   "source": [
    "\n",
    "\n",
    "# Make predictions with the model\n",
    "to_predict = [\n",
    "    {\n",
    "        \"context\": \"menstruation may vary to around a 4 to 8 days. for some it can be short but others bit longer\",\n",
    "        \"qas\": [\n",
    "            {\n",
    "                \"question\": \"How long does menstruation last?\",\n",
    "                \"id\": \"00006\",\n",
    "            }\n",
    "        ],\n",
    "    }\n",
    "]\n"
   ]
  },
  {
   "cell_type": "code",
   "execution_count": 19,
   "metadata": {},
   "outputs": [
    {
     "name": "stderr",
     "output_type": "stream",
     "text": [
      "convert squad examples to features: 100%|██████████| 1/1 [00:00<00:00, 32.46it/s]\n",
      "add example index and unique id: 100%|██████████| 1/1 [00:00<00:00, 8176.03it/s]\n"
     ]
    },
    {
     "data": {
      "application/vnd.jupyter.widget-view+json": {
       "model_id": "0b18d8a752bf4032bf9bfd601ef6263c",
       "version_major": 2,
       "version_minor": 0
      },
      "text/plain": [
       "Running Prediction:   0%|          | 0/1 [00:00<?, ?it/s]"
      ]
     },
     "metadata": {},
     "output_type": "display_data"
    },
    {
     "name": "stdout",
     "output_type": "stream",
     "text": [
      "[{'id': '00006', 'answer': ['4 to 8', '4', '4 to 8 days. for some it can be short but others bit longer']}]\n"
     ]
    }
   ],
   "source": [
    "answers, probabilities = model.predict(to_predict)\n",
    "\n",
    "print(answers)"
   ]
  }
 ],
 "metadata": {
  "language_info": {
   "name": "python"
  }
 },
 "nbformat": 4,
 "nbformat_minor": 0
}
